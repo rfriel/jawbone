{
 "cells": [
  {
   "cell_type": "code",
   "execution_count": 290,
   "metadata": {
    "collapsed": false
   },
   "outputs": [],
   "source": [
    "import numpy as np\n",
    "import pandas as pd\n",
    "\n",
    "import matplotlib.pyplot as plt\n",
    "%matplotlib inline\n",
    "plt.style.use('ggplot')\n",
    "\n",
    "import requests\n",
    "\n",
    "pd.set_option('precision',1)"
   ]
  },
  {
   "cell_type": "code",
   "execution_count": 291,
   "metadata": {
    "collapsed": true
   },
   "outputs": [],
   "source": [
    "year = 2017"
   ]
  },
  {
   "cell_type": "code",
   "execution_count": 303,
   "metadata": {
    "collapsed": true
   },
   "outputs": [],
   "source": [
    "cookies = {\n",
    "          'jbsession': 'V7ASN8n5cuMdIyJ-RGPdQQaXrpDjyXcd91hxFaPEpms'}\n",
    "\n",
    "resp = requests.get('https://jawbone.com/user/settings/download_up_data?year=' + str(year),\n",
    "                   cookies=cookies)\n",
    "\n",
    "with open('2017.csv','w') as f:\n",
    "    f.write(resp.content)"
   ]
  },
  {
   "cell_type": "code",
   "execution_count": 304,
   "metadata": {
    "collapsed": false
   },
   "outputs": [],
   "source": [
    "df = pd.read_csv('2017.csv')"
   ]
  },
  {
   "cell_type": "code",
   "execution_count": 305,
   "metadata": {
    "collapsed": false
   },
   "outputs": [],
   "source": [
    "df2 = pd.DataFrame([df.iloc[i,:] for i in df.index if df.iloc[i,:]['s_rem'] > 0])"
   ]
  },
  {
   "cell_type": "code",
   "execution_count": 306,
   "metadata": {
    "collapsed": false
   },
   "outputs": [
    {
     "data": {
      "text/plain": [
       "Index([u'DATE', u'age', u'avg_bg', u'bmr', u'body_fat', u'gender',\n",
       "       u'goal_body_weight', u'goal_body_weight_intent', u'height',\n",
       "       u'm_active_time', u'm_calories', u'm_distance', u'm_inactive_time',\n",
       "       u'm_lcat', u'm_lcit', u'm_steps', u'm_steps_3am', u'm_total_calories',\n",
       "       u'm_workout_count', u'm_workout_time', u'max_bg', u'min_bg',\n",
       "       u'n_asleep_time', u'n_awake', u'n_awake_time', u'n_awakenings',\n",
       "       u'n_bedtime', u'n_clinical_deep', u'n_count', u'n_deep', u'n_duration',\n",
       "       u'n_light', u'n_quality', u'n_rem', u'n_to_bed_phr', u'num_readings',\n",
       "       u'rhr', u's_asleep_time', u's_awake', u's_awake_time', u's_awakenings',\n",
       "       u's_bedtime', u's_clinical_deep', u's_count', u's_deep', u's_duration',\n",
       "       u's_light', u's_quality', u's_rem', u's_to_bed_phr', u'weight'],\n",
       "      dtype='object')"
      ]
     },
     "execution_count": 306,
     "metadata": {},
     "output_type": "execute_result"
    }
   ],
   "source": [
    "df2.columns"
   ]
  },
  {
   "cell_type": "code",
   "execution_count": 307,
   "metadata": {
    "collapsed": false
   },
   "outputs": [],
   "source": [
    "sleep_cols = [u'DATE', u's_asleep_time', u's_awake', u's_awake_time', u's_awakenings',\n",
    "       u's_bedtime', u's_clinical_deep', u's_count', u's_deep', u's_duration',\n",
    "       u's_light', u's_quality', u's_rem', u's_to_bed_phr']"
   ]
  },
  {
   "cell_type": "code",
   "execution_count": 308,
   "metadata": {
    "collapsed": true
   },
   "outputs": [],
   "source": [
    "df_sleep = df2[sleep_cols]"
   ]
  },
  {
   "cell_type": "code",
   "execution_count": 309,
   "metadata": {
    "collapsed": false
   },
   "outputs": [
    {
     "data": {
      "text/html": [
       "<div>\n",
       "<style>\n",
       "    .dataframe thead tr:only-child th {\n",
       "        text-align: right;\n",
       "    }\n",
       "\n",
       "    .dataframe thead th {\n",
       "        text-align: left;\n",
       "    }\n",
       "\n",
       "    .dataframe tbody tr th {\n",
       "        vertical-align: top;\n",
       "    }\n",
       "</style>\n",
       "<table border=\"1\" class=\"dataframe\">\n",
       "  <thead>\n",
       "    <tr style=\"text-align: right;\">\n",
       "      <th></th>\n",
       "      <th>DATE</th>\n",
       "      <th>s_asleep_time</th>\n",
       "      <th>s_awake</th>\n",
       "      <th>s_awake_time</th>\n",
       "      <th>s_awakenings</th>\n",
       "      <th>s_bedtime</th>\n",
       "      <th>s_clinical_deep</th>\n",
       "      <th>s_count</th>\n",
       "      <th>s_deep</th>\n",
       "      <th>s_duration</th>\n",
       "      <th>s_light</th>\n",
       "      <th>s_quality</th>\n",
       "      <th>s_rem</th>\n",
       "      <th>s_to_bed_phr</th>\n",
       "    </tr>\n",
       "  </thead>\n",
       "  <tbody>\n",
       "    <tr>\n",
       "      <th>248</th>\n",
       "      <td>5603.0</td>\n",
       "      <td>3.6e+00</td>\n",
       "      <td>0.2</td>\n",
       "      <td>10.3</td>\n",
       "      <td>2.8e-04</td>\n",
       "      <td>3.5e+00</td>\n",
       "      <td>1.1</td>\n",
       "      <td>2.8e-04</td>\n",
       "      <td>0.0</td>\n",
       "      <td>6.6</td>\n",
       "      <td>3.4</td>\n",
       "      <td>0.0</td>\n",
       "      <td>2.1</td>\n",
       "      <td>1.7e-02</td>\n",
       "    </tr>\n",
       "    <tr>\n",
       "      <th>249</th>\n",
       "      <td>5603.0</td>\n",
       "      <td>-3.1e-01</td>\n",
       "      <td>0.5</td>\n",
       "      <td>10.1</td>\n",
       "      <td>2.8e-04</td>\n",
       "      <td>-6.4e-01</td>\n",
       "      <td>1.1</td>\n",
       "      <td>2.8e-04</td>\n",
       "      <td>0.0</td>\n",
       "      <td>10.3</td>\n",
       "      <td>5.6</td>\n",
       "      <td>0.0</td>\n",
       "      <td>3.5</td>\n",
       "      <td>1.6e-02</td>\n",
       "    </tr>\n",
       "    <tr>\n",
       "      <th>250</th>\n",
       "      <td>5603.0</td>\n",
       "      <td>1.6e+00</td>\n",
       "      <td>0.5</td>\n",
       "      <td>10.0</td>\n",
       "      <td>5.6e-04</td>\n",
       "      <td>1.5e+00</td>\n",
       "      <td>1.2</td>\n",
       "      <td>2.8e-04</td>\n",
       "      <td>0.0</td>\n",
       "      <td>8.1</td>\n",
       "      <td>5.1</td>\n",
       "      <td>0.0</td>\n",
       "      <td>1.8</td>\n",
       "      <td>0.0e+00</td>\n",
       "    </tr>\n",
       "    <tr>\n",
       "      <th>251</th>\n",
       "      <td>5603.0</td>\n",
       "      <td>3.1e+00</td>\n",
       "      <td>0.3</td>\n",
       "      <td>10.7</td>\n",
       "      <td>2.8e-04</td>\n",
       "      <td>3.0e+00</td>\n",
       "      <td>1.0</td>\n",
       "      <td>2.8e-04</td>\n",
       "      <td>0.0</td>\n",
       "      <td>7.4</td>\n",
       "      <td>3.9</td>\n",
       "      <td>0.0</td>\n",
       "      <td>2.5</td>\n",
       "      <td>1.6e-02</td>\n",
       "    </tr>\n",
       "    <tr>\n",
       "      <th>252</th>\n",
       "      <td>5603.0</td>\n",
       "      <td>1.3e+00</td>\n",
       "      <td>0.6</td>\n",
       "      <td>9.3</td>\n",
       "      <td>5.6e-04</td>\n",
       "      <td>1.2e+00</td>\n",
       "      <td>1.4</td>\n",
       "      <td>2.8e-04</td>\n",
       "      <td>0.0</td>\n",
       "      <td>7.7</td>\n",
       "      <td>5.1</td>\n",
       "      <td>0.0</td>\n",
       "      <td>1.2</td>\n",
       "      <td>1.7e-02</td>\n",
       "    </tr>\n",
       "    <tr>\n",
       "      <th>253</th>\n",
       "      <td>5603.0</td>\n",
       "      <td>7.4e-01</td>\n",
       "      <td>0.2</td>\n",
       "      <td>9.6</td>\n",
       "      <td>0.0e+00</td>\n",
       "      <td>6.6e-01</td>\n",
       "      <td>0.7</td>\n",
       "      <td>2.8e-04</td>\n",
       "      <td>0.0</td>\n",
       "      <td>8.8</td>\n",
       "      <td>6.5</td>\n",
       "      <td>0.0</td>\n",
       "      <td>1.7</td>\n",
       "      <td>1.7e-02</td>\n",
       "    </tr>\n",
       "    <tr>\n",
       "      <th>254</th>\n",
       "      <td>5603.0</td>\n",
       "      <td>6.6e-01</td>\n",
       "      <td>0.4</td>\n",
       "      <td>8.4</td>\n",
       "      <td>5.6e-04</td>\n",
       "      <td>5.0e-01</td>\n",
       "      <td>2.4</td>\n",
       "      <td>2.8e-04</td>\n",
       "      <td>0.0</td>\n",
       "      <td>7.5</td>\n",
       "      <td>3.8</td>\n",
       "      <td>0.0</td>\n",
       "      <td>1.3</td>\n",
       "      <td>1.9e-02</td>\n",
       "    </tr>\n",
       "    <tr>\n",
       "      <th>256</th>\n",
       "      <td>5603.0</td>\n",
       "      <td>5.1e-01</td>\n",
       "      <td>0.2</td>\n",
       "      <td>9.7</td>\n",
       "      <td>0.0e+00</td>\n",
       "      <td>3.3e-01</td>\n",
       "      <td>1.0</td>\n",
       "      <td>2.8e-04</td>\n",
       "      <td>0.0</td>\n",
       "      <td>9.2</td>\n",
       "      <td>5.7</td>\n",
       "      <td>0.0</td>\n",
       "      <td>2.5</td>\n",
       "      <td>0.0e+00</td>\n",
       "    </tr>\n",
       "    <tr>\n",
       "      <th>257</th>\n",
       "      <td>5603.0</td>\n",
       "      <td>-1.2e+00</td>\n",
       "      <td>0.2</td>\n",
       "      <td>5.8</td>\n",
       "      <td>0.0e+00</td>\n",
       "      <td>-1.4e+00</td>\n",
       "      <td>0.5</td>\n",
       "      <td>2.8e-04</td>\n",
       "      <td>0.0</td>\n",
       "      <td>7.0</td>\n",
       "      <td>4.5</td>\n",
       "      <td>0.0</td>\n",
       "      <td>2.0</td>\n",
       "      <td>0.0e+00</td>\n",
       "    </tr>\n",
       "    <tr>\n",
       "      <th>258</th>\n",
       "      <td>5603.0</td>\n",
       "      <td>1.5e+00</td>\n",
       "      <td>0.2</td>\n",
       "      <td>10.4</td>\n",
       "      <td>0.0e+00</td>\n",
       "      <td>1.3e+00</td>\n",
       "      <td>2.0</td>\n",
       "      <td>2.8e-04</td>\n",
       "      <td>0.0</td>\n",
       "      <td>8.9</td>\n",
       "      <td>3.9</td>\n",
       "      <td>0.0</td>\n",
       "      <td>2.9</td>\n",
       "      <td>1.9e-02</td>\n",
       "    </tr>\n",
       "    <tr>\n",
       "      <th>259</th>\n",
       "      <td>5603.0</td>\n",
       "      <td>-1.0e-02</td>\n",
       "      <td>0.3</td>\n",
       "      <td>9.6</td>\n",
       "      <td>0.0e+00</td>\n",
       "      <td>-2.7e-01</td>\n",
       "      <td>0.9</td>\n",
       "      <td>2.8e-04</td>\n",
       "      <td>0.0</td>\n",
       "      <td>9.6</td>\n",
       "      <td>6.5</td>\n",
       "      <td>0.0</td>\n",
       "      <td>2.2</td>\n",
       "      <td>1.9e-02</td>\n",
       "    </tr>\n",
       "    <tr>\n",
       "      <th>260</th>\n",
       "      <td>5603.0</td>\n",
       "      <td>2.0e-01</td>\n",
       "      <td>0.5</td>\n",
       "      <td>8.9</td>\n",
       "      <td>5.6e-04</td>\n",
       "      <td>3.5e-02</td>\n",
       "      <td>0.5</td>\n",
       "      <td>2.8e-04</td>\n",
       "      <td>0.0</td>\n",
       "      <td>8.3</td>\n",
       "      <td>5.7</td>\n",
       "      <td>0.0</td>\n",
       "      <td>2.2</td>\n",
       "      <td>0.0e+00</td>\n",
       "    </tr>\n",
       "    <tr>\n",
       "      <th>262</th>\n",
       "      <td>5603.0</td>\n",
       "      <td>5.0e-01</td>\n",
       "      <td>1.0</td>\n",
       "      <td>9.8</td>\n",
       "      <td>8.3e-04</td>\n",
       "      <td>3.5e-01</td>\n",
       "      <td>1.4</td>\n",
       "      <td>2.8e-04</td>\n",
       "      <td>0.0</td>\n",
       "      <td>8.5</td>\n",
       "      <td>2.9</td>\n",
       "      <td>0.0</td>\n",
       "      <td>4.2</td>\n",
       "      <td>0.0e+00</td>\n",
       "    </tr>\n",
       "    <tr>\n",
       "      <th>263</th>\n",
       "      <td>5603.0</td>\n",
       "      <td>1.0e+00</td>\n",
       "      <td>0.6</td>\n",
       "      <td>8.8</td>\n",
       "      <td>2.8e-04</td>\n",
       "      <td>7.2e-01</td>\n",
       "      <td>0.8</td>\n",
       "      <td>2.8e-04</td>\n",
       "      <td>0.0</td>\n",
       "      <td>7.7</td>\n",
       "      <td>4.4</td>\n",
       "      <td>0.0</td>\n",
       "      <td>2.5</td>\n",
       "      <td>0.0e+00</td>\n",
       "    </tr>\n",
       "    <tr>\n",
       "      <th>264</th>\n",
       "      <td>5603.0</td>\n",
       "      <td>2.8e+00</td>\n",
       "      <td>1.9</td>\n",
       "      <td>7.7</td>\n",
       "      <td>1.1e-03</td>\n",
       "      <td>2.2e+00</td>\n",
       "      <td>0.3</td>\n",
       "      <td>2.8e-04</td>\n",
       "      <td>0.0</td>\n",
       "      <td>3.8</td>\n",
       "      <td>3.2</td>\n",
       "      <td>0.0</td>\n",
       "      <td>0.3</td>\n",
       "      <td>0.0e+00</td>\n",
       "    </tr>\n",
       "    <tr>\n",
       "      <th>265</th>\n",
       "      <td>5603.0</td>\n",
       "      <td>-8.5e-01</td>\n",
       "      <td>1.8</td>\n",
       "      <td>8.0</td>\n",
       "      <td>1.4e-03</td>\n",
       "      <td>-1.0e+00</td>\n",
       "      <td>0.9</td>\n",
       "      <td>2.8e-04</td>\n",
       "      <td>0.0</td>\n",
       "      <td>7.3</td>\n",
       "      <td>3.9</td>\n",
       "      <td>0.0</td>\n",
       "      <td>2.5</td>\n",
       "      <td>1.8e-02</td>\n",
       "    </tr>\n",
       "    <tr>\n",
       "      <th>266</th>\n",
       "      <td>5603.0</td>\n",
       "      <td>1.9e+00</td>\n",
       "      <td>0.8</td>\n",
       "      <td>8.4</td>\n",
       "      <td>2.8e-04</td>\n",
       "      <td>1.7e+00</td>\n",
       "      <td>1.1</td>\n",
       "      <td>2.8e-04</td>\n",
       "      <td>0.0</td>\n",
       "      <td>6.4</td>\n",
       "      <td>3.6</td>\n",
       "      <td>0.0</td>\n",
       "      <td>1.7</td>\n",
       "      <td>2.1e-02</td>\n",
       "    </tr>\n",
       "    <tr>\n",
       "      <th>268</th>\n",
       "      <td>5603.0</td>\n",
       "      <td>2.8e+00</td>\n",
       "      <td>1.2</td>\n",
       "      <td>9.7</td>\n",
       "      <td>2.8e-04</td>\n",
       "      <td>2.5e+00</td>\n",
       "      <td>1.3</td>\n",
       "      <td>2.8e-04</td>\n",
       "      <td>0.0</td>\n",
       "      <td>6.0</td>\n",
       "      <td>3.2</td>\n",
       "      <td>0.0</td>\n",
       "      <td>1.4</td>\n",
       "      <td>1.7e-02</td>\n",
       "    </tr>\n",
       "    <tr>\n",
       "      <th>269</th>\n",
       "      <td>5603.0</td>\n",
       "      <td>8.3e-01</td>\n",
       "      <td>0.4</td>\n",
       "      <td>8.4</td>\n",
       "      <td>2.8e-04</td>\n",
       "      <td>4.9e-01</td>\n",
       "      <td>1.0</td>\n",
       "      <td>2.8e-04</td>\n",
       "      <td>0.0</td>\n",
       "      <td>7.4</td>\n",
       "      <td>3.8</td>\n",
       "      <td>0.0</td>\n",
       "      <td>2.7</td>\n",
       "      <td>1.7e-02</td>\n",
       "    </tr>\n",
       "    <tr>\n",
       "      <th>270</th>\n",
       "      <td>5603.0</td>\n",
       "      <td>8.8e-01</td>\n",
       "      <td>0.2</td>\n",
       "      <td>9.5</td>\n",
       "      <td>2.8e-04</td>\n",
       "      <td>7.7e-01</td>\n",
       "      <td>0.7</td>\n",
       "      <td>2.8e-04</td>\n",
       "      <td>0.0</td>\n",
       "      <td>8.5</td>\n",
       "      <td>5.0</td>\n",
       "      <td>0.0</td>\n",
       "      <td>2.8</td>\n",
       "      <td>2.6e-02</td>\n",
       "    </tr>\n",
       "    <tr>\n",
       "      <th>271</th>\n",
       "      <td>5603.0</td>\n",
       "      <td>-4.8e-01</td>\n",
       "      <td>0.4</td>\n",
       "      <td>8.5</td>\n",
       "      <td>2.8e-04</td>\n",
       "      <td>-6.5e-01</td>\n",
       "      <td>0.7</td>\n",
       "      <td>2.8e-04</td>\n",
       "      <td>0.0</td>\n",
       "      <td>8.8</td>\n",
       "      <td>6.8</td>\n",
       "      <td>0.0</td>\n",
       "      <td>1.3</td>\n",
       "      <td>2.0e-02</td>\n",
       "    </tr>\n",
       "    <tr>\n",
       "      <th>272</th>\n",
       "      <td>5603.0</td>\n",
       "      <td>6.8e-01</td>\n",
       "      <td>1.1</td>\n",
       "      <td>8.7</td>\n",
       "      <td>0.0e+00</td>\n",
       "      <td>-3.7e-01</td>\n",
       "      <td>1.4</td>\n",
       "      <td>2.8e-04</td>\n",
       "      <td>0.0</td>\n",
       "      <td>8.0</td>\n",
       "      <td>5.3</td>\n",
       "      <td>0.0</td>\n",
       "      <td>1.3</td>\n",
       "      <td>1.5e-02</td>\n",
       "    </tr>\n",
       "    <tr>\n",
       "      <th>273</th>\n",
       "      <td>5603.1</td>\n",
       "      <td>3.7e+00</td>\n",
       "      <td>0.2</td>\n",
       "      <td>10.6</td>\n",
       "      <td>0.0e+00</td>\n",
       "      <td>3.5e+00</td>\n",
       "      <td>1.1</td>\n",
       "      <td>2.8e-04</td>\n",
       "      <td>0.0</td>\n",
       "      <td>6.9</td>\n",
       "      <td>3.1</td>\n",
       "      <td>0.0</td>\n",
       "      <td>2.7</td>\n",
       "      <td>1.8e-02</td>\n",
       "    </tr>\n",
       "  </tbody>\n",
       "</table>\n",
       "</div>"
      ],
      "text/plain": [
       "       DATE  s_asleep_time  s_awake  s_awake_time  s_awakenings  s_bedtime  \\\n",
       "248  5603.0        3.6e+00      0.2          10.3       2.8e-04    3.5e+00   \n",
       "249  5603.0       -3.1e-01      0.5          10.1       2.8e-04   -6.4e-01   \n",
       "250  5603.0        1.6e+00      0.5          10.0       5.6e-04    1.5e+00   \n",
       "251  5603.0        3.1e+00      0.3          10.7       2.8e-04    3.0e+00   \n",
       "252  5603.0        1.3e+00      0.6           9.3       5.6e-04    1.2e+00   \n",
       "253  5603.0        7.4e-01      0.2           9.6       0.0e+00    6.6e-01   \n",
       "254  5603.0        6.6e-01      0.4           8.4       5.6e-04    5.0e-01   \n",
       "256  5603.0        5.1e-01      0.2           9.7       0.0e+00    3.3e-01   \n",
       "257  5603.0       -1.2e+00      0.2           5.8       0.0e+00   -1.4e+00   \n",
       "258  5603.0        1.5e+00      0.2          10.4       0.0e+00    1.3e+00   \n",
       "259  5603.0       -1.0e-02      0.3           9.6       0.0e+00   -2.7e-01   \n",
       "260  5603.0        2.0e-01      0.5           8.9       5.6e-04    3.5e-02   \n",
       "262  5603.0        5.0e-01      1.0           9.8       8.3e-04    3.5e-01   \n",
       "263  5603.0        1.0e+00      0.6           8.8       2.8e-04    7.2e-01   \n",
       "264  5603.0        2.8e+00      1.9           7.7       1.1e-03    2.2e+00   \n",
       "265  5603.0       -8.5e-01      1.8           8.0       1.4e-03   -1.0e+00   \n",
       "266  5603.0        1.9e+00      0.8           8.4       2.8e-04    1.7e+00   \n",
       "268  5603.0        2.8e+00      1.2           9.7       2.8e-04    2.5e+00   \n",
       "269  5603.0        8.3e-01      0.4           8.4       2.8e-04    4.9e-01   \n",
       "270  5603.0        8.8e-01      0.2           9.5       2.8e-04    7.7e-01   \n",
       "271  5603.0       -4.8e-01      0.4           8.5       2.8e-04   -6.5e-01   \n",
       "272  5603.0        6.8e-01      1.1           8.7       0.0e+00   -3.7e-01   \n",
       "273  5603.1        3.7e+00      0.2          10.6       0.0e+00    3.5e+00   \n",
       "\n",
       "     s_clinical_deep  s_count  s_deep  s_duration  s_light  s_quality  s_rem  \\\n",
       "248              1.1  2.8e-04     0.0         6.6      3.4        0.0    2.1   \n",
       "249              1.1  2.8e-04     0.0        10.3      5.6        0.0    3.5   \n",
       "250              1.2  2.8e-04     0.0         8.1      5.1        0.0    1.8   \n",
       "251              1.0  2.8e-04     0.0         7.4      3.9        0.0    2.5   \n",
       "252              1.4  2.8e-04     0.0         7.7      5.1        0.0    1.2   \n",
       "253              0.7  2.8e-04     0.0         8.8      6.5        0.0    1.7   \n",
       "254              2.4  2.8e-04     0.0         7.5      3.8        0.0    1.3   \n",
       "256              1.0  2.8e-04     0.0         9.2      5.7        0.0    2.5   \n",
       "257              0.5  2.8e-04     0.0         7.0      4.5        0.0    2.0   \n",
       "258              2.0  2.8e-04     0.0         8.9      3.9        0.0    2.9   \n",
       "259              0.9  2.8e-04     0.0         9.6      6.5        0.0    2.2   \n",
       "260              0.5  2.8e-04     0.0         8.3      5.7        0.0    2.2   \n",
       "262              1.4  2.8e-04     0.0         8.5      2.9        0.0    4.2   \n",
       "263              0.8  2.8e-04     0.0         7.7      4.4        0.0    2.5   \n",
       "264              0.3  2.8e-04     0.0         3.8      3.2        0.0    0.3   \n",
       "265              0.9  2.8e-04     0.0         7.3      3.9        0.0    2.5   \n",
       "266              1.1  2.8e-04     0.0         6.4      3.6        0.0    1.7   \n",
       "268              1.3  2.8e-04     0.0         6.0      3.2        0.0    1.4   \n",
       "269              1.0  2.8e-04     0.0         7.4      3.8        0.0    2.7   \n",
       "270              0.7  2.8e-04     0.0         8.5      5.0        0.0    2.8   \n",
       "271              0.7  2.8e-04     0.0         8.8      6.8        0.0    1.3   \n",
       "272              1.4  2.8e-04     0.0         8.0      5.3        0.0    1.3   \n",
       "273              1.1  2.8e-04     0.0         6.9      3.1        0.0    2.7   \n",
       "\n",
       "     s_to_bed_phr  \n",
       "248       1.7e-02  \n",
       "249       1.6e-02  \n",
       "250       0.0e+00  \n",
       "251       1.6e-02  \n",
       "252       1.7e-02  \n",
       "253       1.7e-02  \n",
       "254       1.9e-02  \n",
       "256       0.0e+00  \n",
       "257       0.0e+00  \n",
       "258       1.9e-02  \n",
       "259       1.9e-02  \n",
       "260       0.0e+00  \n",
       "262       0.0e+00  \n",
       "263       0.0e+00  \n",
       "264       0.0e+00  \n",
       "265       1.8e-02  \n",
       "266       2.1e-02  \n",
       "268       1.7e-02  \n",
       "269       1.7e-02  \n",
       "270       2.6e-02  \n",
       "271       2.0e-02  \n",
       "272       1.5e-02  \n",
       "273       1.8e-02  "
      ]
     },
     "execution_count": 309,
     "metadata": {},
     "output_type": "execute_result"
    }
   ],
   "source": [
    "df_sleep/3600."
   ]
  },
  {
   "cell_type": "code",
   "execution_count": 310,
   "metadata": {
    "collapsed": true
   },
   "outputs": [],
   "source": [
    "cycle_cols = [u's_light', u's_clinical_deep', u's_rem', u's_duration']"
   ]
  },
  {
   "cell_type": "code",
   "execution_count": 311,
   "metadata": {
    "collapsed": false
   },
   "outputs": [
    {
     "data": {
      "text/html": [
       "<div>\n",
       "<style>\n",
       "    .dataframe thead tr:only-child th {\n",
       "        text-align: right;\n",
       "    }\n",
       "\n",
       "    .dataframe thead th {\n",
       "        text-align: left;\n",
       "    }\n",
       "\n",
       "    .dataframe tbody tr th {\n",
       "        vertical-align: top;\n",
       "    }\n",
       "</style>\n",
       "<table border=\"1\" class=\"dataframe\">\n",
       "  <thead>\n",
       "    <tr style=\"text-align: right;\">\n",
       "      <th></th>\n",
       "      <th>s_light</th>\n",
       "      <th>s_clinical_deep</th>\n",
       "      <th>s_rem</th>\n",
       "      <th>s_duration</th>\n",
       "    </tr>\n",
       "  </thead>\n",
       "  <tbody>\n",
       "    <tr>\n",
       "      <th>248</th>\n",
       "      <td>3.4</td>\n",
       "      <td>1.1</td>\n",
       "      <td>2.1</td>\n",
       "      <td>6.6</td>\n",
       "    </tr>\n",
       "    <tr>\n",
       "      <th>249</th>\n",
       "      <td>5.6</td>\n",
       "      <td>1.1</td>\n",
       "      <td>3.5</td>\n",
       "      <td>10.3</td>\n",
       "    </tr>\n",
       "    <tr>\n",
       "      <th>250</th>\n",
       "      <td>5.1</td>\n",
       "      <td>1.2</td>\n",
       "      <td>1.8</td>\n",
       "      <td>8.1</td>\n",
       "    </tr>\n",
       "    <tr>\n",
       "      <th>251</th>\n",
       "      <td>3.9</td>\n",
       "      <td>1.0</td>\n",
       "      <td>2.5</td>\n",
       "      <td>7.4</td>\n",
       "    </tr>\n",
       "    <tr>\n",
       "      <th>252</th>\n",
       "      <td>5.1</td>\n",
       "      <td>1.4</td>\n",
       "      <td>1.2</td>\n",
       "      <td>7.7</td>\n",
       "    </tr>\n",
       "    <tr>\n",
       "      <th>253</th>\n",
       "      <td>6.5</td>\n",
       "      <td>0.7</td>\n",
       "      <td>1.7</td>\n",
       "      <td>8.8</td>\n",
       "    </tr>\n",
       "    <tr>\n",
       "      <th>254</th>\n",
       "      <td>3.8</td>\n",
       "      <td>2.4</td>\n",
       "      <td>1.3</td>\n",
       "      <td>7.5</td>\n",
       "    </tr>\n",
       "    <tr>\n",
       "      <th>256</th>\n",
       "      <td>5.7</td>\n",
       "      <td>1.0</td>\n",
       "      <td>2.5</td>\n",
       "      <td>9.2</td>\n",
       "    </tr>\n",
       "    <tr>\n",
       "      <th>257</th>\n",
       "      <td>4.5</td>\n",
       "      <td>0.5</td>\n",
       "      <td>2.0</td>\n",
       "      <td>7.0</td>\n",
       "    </tr>\n",
       "    <tr>\n",
       "      <th>258</th>\n",
       "      <td>3.9</td>\n",
       "      <td>2.0</td>\n",
       "      <td>2.9</td>\n",
       "      <td>8.9</td>\n",
       "    </tr>\n",
       "    <tr>\n",
       "      <th>259</th>\n",
       "      <td>6.5</td>\n",
       "      <td>0.9</td>\n",
       "      <td>2.2</td>\n",
       "      <td>9.6</td>\n",
       "    </tr>\n",
       "    <tr>\n",
       "      <th>260</th>\n",
       "      <td>5.7</td>\n",
       "      <td>0.5</td>\n",
       "      <td>2.2</td>\n",
       "      <td>8.3</td>\n",
       "    </tr>\n",
       "    <tr>\n",
       "      <th>262</th>\n",
       "      <td>2.9</td>\n",
       "      <td>1.4</td>\n",
       "      <td>4.2</td>\n",
       "      <td>8.5</td>\n",
       "    </tr>\n",
       "    <tr>\n",
       "      <th>263</th>\n",
       "      <td>4.4</td>\n",
       "      <td>0.8</td>\n",
       "      <td>2.5</td>\n",
       "      <td>7.7</td>\n",
       "    </tr>\n",
       "    <tr>\n",
       "      <th>264</th>\n",
       "      <td>3.2</td>\n",
       "      <td>0.3</td>\n",
       "      <td>0.3</td>\n",
       "      <td>3.8</td>\n",
       "    </tr>\n",
       "    <tr>\n",
       "      <th>265</th>\n",
       "      <td>3.9</td>\n",
       "      <td>0.9</td>\n",
       "      <td>2.5</td>\n",
       "      <td>7.3</td>\n",
       "    </tr>\n",
       "    <tr>\n",
       "      <th>266</th>\n",
       "      <td>3.6</td>\n",
       "      <td>1.1</td>\n",
       "      <td>1.7</td>\n",
       "      <td>6.4</td>\n",
       "    </tr>\n",
       "    <tr>\n",
       "      <th>268</th>\n",
       "      <td>3.2</td>\n",
       "      <td>1.3</td>\n",
       "      <td>1.4</td>\n",
       "      <td>6.0</td>\n",
       "    </tr>\n",
       "    <tr>\n",
       "      <th>269</th>\n",
       "      <td>3.8</td>\n",
       "      <td>1.0</td>\n",
       "      <td>2.7</td>\n",
       "      <td>7.4</td>\n",
       "    </tr>\n",
       "    <tr>\n",
       "      <th>270</th>\n",
       "      <td>5.0</td>\n",
       "      <td>0.7</td>\n",
       "      <td>2.8</td>\n",
       "      <td>8.5</td>\n",
       "    </tr>\n",
       "    <tr>\n",
       "      <th>271</th>\n",
       "      <td>6.8</td>\n",
       "      <td>0.7</td>\n",
       "      <td>1.3</td>\n",
       "      <td>8.8</td>\n",
       "    </tr>\n",
       "    <tr>\n",
       "      <th>272</th>\n",
       "      <td>5.3</td>\n",
       "      <td>1.4</td>\n",
       "      <td>1.3</td>\n",
       "      <td>8.0</td>\n",
       "    </tr>\n",
       "    <tr>\n",
       "      <th>273</th>\n",
       "      <td>3.1</td>\n",
       "      <td>1.1</td>\n",
       "      <td>2.7</td>\n",
       "      <td>6.9</td>\n",
       "    </tr>\n",
       "  </tbody>\n",
       "</table>\n",
       "</div>"
      ],
      "text/plain": [
       "     s_light  s_clinical_deep  s_rem  s_duration\n",
       "248      3.4              1.1    2.1         6.6\n",
       "249      5.6              1.1    3.5        10.3\n",
       "250      5.1              1.2    1.8         8.1\n",
       "251      3.9              1.0    2.5         7.4\n",
       "252      5.1              1.4    1.2         7.7\n",
       "253      6.5              0.7    1.7         8.8\n",
       "254      3.8              2.4    1.3         7.5\n",
       "256      5.7              1.0    2.5         9.2\n",
       "257      4.5              0.5    2.0         7.0\n",
       "258      3.9              2.0    2.9         8.9\n",
       "259      6.5              0.9    2.2         9.6\n",
       "260      5.7              0.5    2.2         8.3\n",
       "262      2.9              1.4    4.2         8.5\n",
       "263      4.4              0.8    2.5         7.7\n",
       "264      3.2              0.3    0.3         3.8\n",
       "265      3.9              0.9    2.5         7.3\n",
       "266      3.6              1.1    1.7         6.4\n",
       "268      3.2              1.3    1.4         6.0\n",
       "269      3.8              1.0    2.7         7.4\n",
       "270      5.0              0.7    2.8         8.5\n",
       "271      6.8              0.7    1.3         8.8\n",
       "272      5.3              1.4    1.3         8.0\n",
       "273      3.1              1.1    2.7         6.9"
      ]
     },
     "execution_count": 311,
     "metadata": {},
     "output_type": "execute_result"
    }
   ],
   "source": [
    "df_sleep[cycle_cols]/3600"
   ]
  },
  {
   "cell_type": "code",
   "execution_count": 312,
   "metadata": {
    "collapsed": true
   },
   "outputs": [],
   "source": [
    "df_sleep2 = df_sleep[cycle_cols] / 60."
   ]
  },
  {
   "cell_type": "code",
   "execution_count": 313,
   "metadata": {
    "collapsed": false
   },
   "outputs": [
    {
     "data": {
      "image/png": "[encoded data removed]",
      "text/plain": [
       "<matplotlib.figure.Figure at 0x11e082a90>"
      ]
     },
     "metadata": {},
     "output_type": "display_data"
    }
   ],
   "source": [
    "plt.figure(figsize=(10,10))\n",
    "for col in df_sleep2.columns[:3]:\n",
    "    plt.plot(df_sleep2.loc[:,col],'o-',label=col[2:])\n",
    "plt.legend();\n",
    "plt.title('Minutes of each phase');"
   ]
  },
  {
   "cell_type": "code",
   "execution_count": 314,
   "metadata": {
    "collapsed": true
   },
   "outputs": [],
   "source": [
    "df_sleep3 = df_sleep2.copy()\n",
    "for col in df_sleep3.columns[:3]:\n",
    "    df_sleep3.loc[:,col] = 100. * df_sleep2.loc[:,col] / df_sleep2.iloc[:,-1]"
   ]
  },
  {
   "cell_type": "code",
   "execution_count": 315,
   "metadata": {
    "collapsed": false
   },
   "outputs": [
    {
     "data": {
      "image/png": "[encoded data removed]",
      "text/plain": [
       "<matplotlib.figure.Figure at 0x1213b5690>"
      ]
     },
     "metadata": {},
     "output_type": "display_data"
    }
   ],
   "source": [
    "plt.figure(figsize=(10,10))\n",
    "for col in df_sleep3.columns[:3]:\n",
    "    plt.plot(df_sleep3.loc[:,col],'o-',label=col[2:])\n",
    "plt.legend();\n",
    "plt.title('% of each phase');"
   ]
  },
  {
   "cell_type": "code",
   "execution_count": 316,
   "metadata": {
    "collapsed": false
   },
   "outputs": [
    {
     "data": {
      "text/html": [
       "<div>\n",
       "<style>\n",
       "    .dataframe thead tr:only-child th {\n",
       "        text-align: right;\n",
       "    }\n",
       "\n",
       "    .dataframe thead th {\n",
       "        text-align: left;\n",
       "    }\n",
       "\n",
       "    .dataframe tbody tr th {\n",
       "        vertical-align: top;\n",
       "    }\n",
       "</style>\n",
       "<table border=\"1\" class=\"dataframe\">\n",
       "  <thead>\n",
       "    <tr style=\"text-align: right;\">\n",
       "      <th></th>\n",
       "      <th>s_light</th>\n",
       "      <th>s_clinical_deep</th>\n",
       "      <th>s_rem</th>\n",
       "      <th>s_duration</th>\n",
       "    </tr>\n",
       "  </thead>\n",
       "  <tbody>\n",
       "    <tr>\n",
       "      <th>count</th>\n",
       "      <td>23.0</td>\n",
       "      <td>23.0</td>\n",
       "      <td>23.0</td>\n",
       "      <td>23.0</td>\n",
       "    </tr>\n",
       "    <tr>\n",
       "      <th>mean</th>\n",
       "      <td>273.9</td>\n",
       "      <td>63.8</td>\n",
       "      <td>128.9</td>\n",
       "      <td>466.7</td>\n",
       "    </tr>\n",
       "    <tr>\n",
       "      <th>std</th>\n",
       "      <td>71.1</td>\n",
       "      <td>28.7</td>\n",
       "      <td>50.6</td>\n",
       "      <td>81.5</td>\n",
       "    </tr>\n",
       "    <tr>\n",
       "      <th>min</th>\n",
       "      <td>172.5</td>\n",
       "      <td>20.2</td>\n",
       "      <td>16.6</td>\n",
       "      <td>229.2</td>\n",
       "    </tr>\n",
       "    <tr>\n",
       "      <th>25%</th>\n",
       "      <td>221.5</td>\n",
       "      <td>43.8</td>\n",
       "      <td>92.8</td>\n",
       "      <td>430.4</td>\n",
       "    </tr>\n",
       "    <tr>\n",
       "      <th>50%</th>\n",
       "      <td>263.7</td>\n",
       "      <td>62.0</td>\n",
       "      <td>130.8</td>\n",
       "      <td>461.4</td>\n",
       "    </tr>\n",
       "    <tr>\n",
       "      <th>75%</th>\n",
       "      <td>329.6</td>\n",
       "      <td>74.9</td>\n",
       "      <td>155.9</td>\n",
       "      <td>519.3</td>\n",
       "    </tr>\n",
       "    <tr>\n",
       "      <th>max</th>\n",
       "      <td>408.5</td>\n",
       "      <td>145.7</td>\n",
       "      <td>250.2</td>\n",
       "      <td>619.2</td>\n",
       "    </tr>\n",
       "  </tbody>\n",
       "</table>\n",
       "</div>"
      ],
      "text/plain": [
       "       s_light  s_clinical_deep  s_rem  s_duration\n",
       "count     23.0             23.0   23.0        23.0\n",
       "mean     273.9             63.8  128.9       466.7\n",
       "std       71.1             28.7   50.6        81.5\n",
       "min      172.5             20.2   16.6       229.2\n",
       "25%      221.5             43.8   92.8       430.4\n",
       "50%      263.7             62.0  130.8       461.4\n",
       "75%      329.6             74.9  155.9       519.3\n",
       "max      408.5            145.7  250.2       619.2"
      ]
     },
     "execution_count": 316,
     "metadata": {},
     "output_type": "execute_result"
    }
   ],
   "source": [
    "df_sleep2.describe()"
   ]
  },
  {
   "cell_type": "code",
   "execution_count": 317,
   "metadata": {
    "collapsed": false
   },
   "outputs": [
    {
     "data": {
      "text/html": [
       "<div>\n",
       "<style>\n",
       "    .dataframe thead tr:only-child th {\n",
       "        text-align: right;\n",
       "    }\n",
       "\n",
       "    .dataframe thead th {\n",
       "        text-align: left;\n",
       "    }\n",
       "\n",
       "    .dataframe tbody tr th {\n",
       "        vertical-align: top;\n",
       "    }\n",
       "</style>\n",
       "<table border=\"1\" class=\"dataframe\">\n",
       "  <thead>\n",
       "    <tr style=\"text-align: right;\">\n",
       "      <th></th>\n",
       "      <th>s_light</th>\n",
       "      <th>s_clinical_deep</th>\n",
       "      <th>s_rem</th>\n",
       "      <th>s_duration</th>\n",
       "    </tr>\n",
       "  </thead>\n",
       "  <tbody>\n",
       "    <tr>\n",
       "      <th>count</th>\n",
       "      <td>23.0</td>\n",
       "      <td>23.0</td>\n",
       "      <td>23.0</td>\n",
       "      <td>23.0</td>\n",
       "    </tr>\n",
       "    <tr>\n",
       "      <th>mean</th>\n",
       "      <td>4.6</td>\n",
       "      <td>1.1</td>\n",
       "      <td>2.1</td>\n",
       "      <td>7.8</td>\n",
       "    </tr>\n",
       "    <tr>\n",
       "      <th>std</th>\n",
       "      <td>1.2</td>\n",
       "      <td>0.5</td>\n",
       "      <td>0.8</td>\n",
       "      <td>1.4</td>\n",
       "    </tr>\n",
       "    <tr>\n",
       "      <th>min</th>\n",
       "      <td>2.9</td>\n",
       "      <td>0.3</td>\n",
       "      <td>0.3</td>\n",
       "      <td>3.8</td>\n",
       "    </tr>\n",
       "    <tr>\n",
       "      <th>25%</th>\n",
       "      <td>3.7</td>\n",
       "      <td>0.7</td>\n",
       "      <td>1.5</td>\n",
       "      <td>7.2</td>\n",
       "    </tr>\n",
       "    <tr>\n",
       "      <th>50%</th>\n",
       "      <td>4.4</td>\n",
       "      <td>1.0</td>\n",
       "      <td>2.2</td>\n",
       "      <td>7.7</td>\n",
       "    </tr>\n",
       "    <tr>\n",
       "      <th>75%</th>\n",
       "      <td>5.5</td>\n",
       "      <td>1.2</td>\n",
       "      <td>2.6</td>\n",
       "      <td>8.7</td>\n",
       "    </tr>\n",
       "    <tr>\n",
       "      <th>max</th>\n",
       "      <td>6.8</td>\n",
       "      <td>2.4</td>\n",
       "      <td>4.2</td>\n",
       "      <td>10.3</td>\n",
       "    </tr>\n",
       "  </tbody>\n",
       "</table>\n",
       "</div>"
      ],
      "text/plain": [
       "       s_light  s_clinical_deep  s_rem  s_duration\n",
       "count     23.0             23.0   23.0        23.0\n",
       "mean       4.6              1.1    2.1         7.8\n",
       "std        1.2              0.5    0.8         1.4\n",
       "min        2.9              0.3    0.3         3.8\n",
       "25%        3.7              0.7    1.5         7.2\n",
       "50%        4.4              1.0    2.2         7.7\n",
       "75%        5.5              1.2    2.6         8.7\n",
       "max        6.8              2.4    4.2        10.3"
      ]
     },
     "execution_count": 317,
     "metadata": {},
     "output_type": "execute_result"
    }
   ],
   "source": [
    "(df_sleep2/60.).describe()"
   ]
  },
  {
   "cell_type": "code",
   "execution_count": 318,
   "metadata": {
    "collapsed": false
   },
   "outputs": [
    {
     "data": {
      "text/html": [
       "<div>\n",
       "<style>\n",
       "    .dataframe thead tr:only-child th {\n",
       "        text-align: right;\n",
       "    }\n",
       "\n",
       "    .dataframe thead th {\n",
       "        text-align: left;\n",
       "    }\n",
       "\n",
       "    .dataframe tbody tr th {\n",
       "        vertical-align: top;\n",
       "    }\n",
       "</style>\n",
       "<table border=\"1\" class=\"dataframe\">\n",
       "  <thead>\n",
       "    <tr style=\"text-align: right;\">\n",
       "      <th></th>\n",
       "      <th>s_light</th>\n",
       "      <th>s_clinical_deep</th>\n",
       "      <th>s_rem</th>\n",
       "      <th>s_duration</th>\n",
       "    </tr>\n",
       "  </thead>\n",
       "  <tbody>\n",
       "    <tr>\n",
       "      <th>count</th>\n",
       "      <td>23.0</td>\n",
       "      <td>23.0</td>\n",
       "      <td>23.0</td>\n",
       "      <td>23.0</td>\n",
       "    </tr>\n",
       "    <tr>\n",
       "      <th>mean</th>\n",
       "      <td>58.9</td>\n",
       "      <td>13.8</td>\n",
       "      <td>27.2</td>\n",
       "      <td>466.7</td>\n",
       "    </tr>\n",
       "    <tr>\n",
       "      <th>std</th>\n",
       "      <td>11.4</td>\n",
       "      <td>6.2</td>\n",
       "      <td>9.5</td>\n",
       "      <td>81.5</td>\n",
       "    </tr>\n",
       "    <tr>\n",
       "      <th>min</th>\n",
       "      <td>33.9</td>\n",
       "      <td>5.6</td>\n",
       "      <td>7.2</td>\n",
       "      <td>229.2</td>\n",
       "    </tr>\n",
       "    <tr>\n",
       "      <th>25%</th>\n",
       "      <td>52.2</td>\n",
       "      <td>9.3</td>\n",
       "      <td>20.7</td>\n",
       "      <td>430.4</td>\n",
       "    </tr>\n",
       "    <tr>\n",
       "      <th>50%</th>\n",
       "      <td>57.4</td>\n",
       "      <td>13.7</td>\n",
       "      <td>26.9</td>\n",
       "      <td>461.4</td>\n",
       "    </tr>\n",
       "    <tr>\n",
       "      <th>75%</th>\n",
       "      <td>66.4</td>\n",
       "      <td>16.7</td>\n",
       "      <td>33.5</td>\n",
       "      <td>519.3</td>\n",
       "    </tr>\n",
       "    <tr>\n",
       "      <th>max</th>\n",
       "      <td>83.9</td>\n",
       "      <td>32.2</td>\n",
       "      <td>49.2</td>\n",
       "      <td>619.2</td>\n",
       "    </tr>\n",
       "  </tbody>\n",
       "</table>\n",
       "</div>"
      ],
      "text/plain": [
       "       s_light  s_clinical_deep  s_rem  s_duration\n",
       "count     23.0             23.0   23.0        23.0\n",
       "mean      58.9             13.8   27.2       466.7\n",
       "std       11.4              6.2    9.5        81.5\n",
       "min       33.9              5.6    7.2       229.2\n",
       "25%       52.2              9.3   20.7       430.4\n",
       "50%       57.4             13.7   26.9       461.4\n",
       "75%       66.4             16.7   33.5       519.3\n",
       "max       83.9             32.2   49.2       619.2"
      ]
     },
     "execution_count": 318,
     "metadata": {},
     "output_type": "execute_result"
    }
   ],
   "source": [
    "df_sleep3.describe()"
   ]
  },
  {
   "cell_type": "code",
   "execution_count": 319,
   "metadata": {
    "collapsed": false
   },
   "outputs": [
    {
     "data": {
      "text/plain": [
       "array([[ 1.        , -0.56311573, -0.84015509, -0.12873882],\n",
       "       [-0.56311573,  1.        ,  0.02492153, -0.15734737],\n",
       "       [-0.84015509,  0.02492153,  1.        ,  0.25900445],\n",
       "       [-0.12873882, -0.15734737,  0.25900445,  1.        ]])"
      ]
     },
     "execution_count": 319,
     "metadata": {},
     "output_type": "execute_result"
    }
   ],
   "source": [
    "np.corrcoef(df_sleep3, rowvar=False)"
   ]
  },
  {
   "cell_type": "code",
   "execution_count": 320,
   "metadata": {
    "collapsed": true
   },
   "outputs": [],
   "source": [
    "df_meds = pd.read_csv('sleep_meds.csv')"
   ]
  },
  {
   "cell_type": "code",
   "execution_count": 321,
   "metadata": {
    "collapsed": false
   },
   "outputs": [],
   "source": [
    "date_after_formatted = ['/'.join([('0' * (2-len(s)) + s) for s in row])\n",
    "  for row in [s.split('/') for s in df_meds['date_after']]\n",
    "  ]\n",
    "\n",
    "df_meds['date_after'] = date_after_formatted"
   ]
  },
  {
   "cell_type": "code",
   "execution_count": 322,
   "metadata": {
    "collapsed": true
   },
   "outputs": [],
   "source": [
    "from time import strptime"
   ]
  },
  {
   "cell_type": "code",
   "execution_count": 323,
   "metadata": {
    "collapsed": false
   },
   "outputs": [],
   "source": [
    "day_of_year = [strptime(s,'%m/%d/%y').tm_yday - 1 for s in df_meds['date_after']]\n",
    "df_meds['day_of_year'] = day_of_year"
   ]
  },
  {
   "cell_type": "code",
   "execution_count": 324,
   "metadata": {
    "collapsed": false
   },
   "outputs": [],
   "source": [
    "df_meds = df_meds.set_index('day_of_year')"
   ]
  },
  {
   "cell_type": "code",
   "execution_count": 325,
   "metadata": {
    "collapsed": false
   },
   "outputs": [
    {
     "data": {
      "text/html": [
       "<div>\n",
       "<style>\n",
       "    .dataframe thead tr:only-child th {\n",
       "        text-align: right;\n",
       "    }\n",
       "\n",
       "    .dataframe thead th {\n",
       "        text-align: left;\n",
       "    }\n",
       "\n",
       "    .dataframe tbody tr th {\n",
       "        vertical-align: top;\n",
       "    }\n",
       "</style>\n",
       "<table border=\"1\" class=\"dataframe\">\n",
       "  <thead>\n",
       "    <tr style=\"text-align: right;\">\n",
       "      <th></th>\n",
       "      <th>date_after</th>\n",
       "      <th>T</th>\n",
       "      <th>D</th>\n",
       "      <th>C</th>\n",
       "      <th>W</th>\n",
       "    </tr>\n",
       "    <tr>\n",
       "      <th>day_of_year</th>\n",
       "      <th></th>\n",
       "      <th></th>\n",
       "      <th></th>\n",
       "      <th></th>\n",
       "      <th></th>\n",
       "    </tr>\n",
       "  </thead>\n",
       "  <tbody>\n",
       "    <tr>\n",
       "      <th>248</th>\n",
       "      <td>09/06/17</td>\n",
       "      <td>2.0</td>\n",
       "      <td>1</td>\n",
       "      <td>1.0</td>\n",
       "      <td>0.0</td>\n",
       "    </tr>\n",
       "    <tr>\n",
       "      <th>249</th>\n",
       "      <td>09/07/17</td>\n",
       "      <td>1.0</td>\n",
       "      <td>1</td>\n",
       "      <td>0.0</td>\n",
       "      <td>0.0</td>\n",
       "    </tr>\n",
       "    <tr>\n",
       "      <th>250</th>\n",
       "      <td>09/08/17</td>\n",
       "      <td>1.5</td>\n",
       "      <td>1</td>\n",
       "      <td>0.0</td>\n",
       "      <td>0.0</td>\n",
       "    </tr>\n",
       "    <tr>\n",
       "      <th>251</th>\n",
       "      <td>09/09/17</td>\n",
       "      <td>1.0</td>\n",
       "      <td>0</td>\n",
       "      <td>0.0</td>\n",
       "      <td>0.0</td>\n",
       "    </tr>\n",
       "    <tr>\n",
       "      <th>252</th>\n",
       "      <td>09/10/17</td>\n",
       "      <td>0.0</td>\n",
       "      <td>1</td>\n",
       "      <td>1.0</td>\n",
       "      <td>0.0</td>\n",
       "    </tr>\n",
       "    <tr>\n",
       "      <th>253</th>\n",
       "      <td>09/11/17</td>\n",
       "      <td>1.0</td>\n",
       "      <td>0</td>\n",
       "      <td>0.0</td>\n",
       "      <td>0.0</td>\n",
       "    </tr>\n",
       "    <tr>\n",
       "      <th>254</th>\n",
       "      <td>09/12/17</td>\n",
       "      <td>1.0</td>\n",
       "      <td>1</td>\n",
       "      <td>1.0</td>\n",
       "      <td>0.0</td>\n",
       "    </tr>\n",
       "    <tr>\n",
       "      <th>255</th>\n",
       "      <td>09/13/17</td>\n",
       "      <td>1.0</td>\n",
       "      <td>1</td>\n",
       "      <td>0.0</td>\n",
       "      <td>0.0</td>\n",
       "    </tr>\n",
       "    <tr>\n",
       "      <th>256</th>\n",
       "      <td>09/14/17</td>\n",
       "      <td>1.5</td>\n",
       "      <td>1</td>\n",
       "      <td>0.0</td>\n",
       "      <td>0.0</td>\n",
       "    </tr>\n",
       "    <tr>\n",
       "      <th>257</th>\n",
       "      <td>09/15/17</td>\n",
       "      <td>1.0</td>\n",
       "      <td>0</td>\n",
       "      <td>0.0</td>\n",
       "      <td>0.0</td>\n",
       "    </tr>\n",
       "    <tr>\n",
       "      <th>258</th>\n",
       "      <td>09/16/17</td>\n",
       "      <td>1.0</td>\n",
       "      <td>1</td>\n",
       "      <td>0.5</td>\n",
       "      <td>0.0</td>\n",
       "    </tr>\n",
       "    <tr>\n",
       "      <th>259</th>\n",
       "      <td>09/17/17</td>\n",
       "      <td>1.0</td>\n",
       "      <td>0</td>\n",
       "      <td>0.5</td>\n",
       "      <td>0.0</td>\n",
       "    </tr>\n",
       "    <tr>\n",
       "      <th>262</th>\n",
       "      <td>09/20/17</td>\n",
       "      <td>1.0</td>\n",
       "      <td>0</td>\n",
       "      <td>0.0</td>\n",
       "      <td>0.0</td>\n",
       "    </tr>\n",
       "    <tr>\n",
       "      <th>263</th>\n",
       "      <td>09/21/17</td>\n",
       "      <td>1.0</td>\n",
       "      <td>1</td>\n",
       "      <td>0.0</td>\n",
       "      <td>1.5</td>\n",
       "    </tr>\n",
       "    <tr>\n",
       "      <th>264</th>\n",
       "      <td>09/22/17</td>\n",
       "      <td>1.0</td>\n",
       "      <td>1</td>\n",
       "      <td>0.0</td>\n",
       "      <td>3.0</td>\n",
       "    </tr>\n",
       "    <tr>\n",
       "      <th>263</th>\n",
       "      <td>09/21/17</td>\n",
       "      <td>1.0</td>\n",
       "      <td>0</td>\n",
       "      <td>0.0</td>\n",
       "      <td>3.0</td>\n",
       "    </tr>\n",
       "    <tr>\n",
       "      <th>266</th>\n",
       "      <td>09/24/17</td>\n",
       "      <td>1.0</td>\n",
       "      <td>1</td>\n",
       "      <td>0.0</td>\n",
       "      <td>3.0</td>\n",
       "    </tr>\n",
       "    <tr>\n",
       "      <th>267</th>\n",
       "      <td>09/25/17</td>\n",
       "      <td>1.5</td>\n",
       "      <td>1</td>\n",
       "      <td>0.0</td>\n",
       "      <td>3.0</td>\n",
       "    </tr>\n",
       "    <tr>\n",
       "      <th>268</th>\n",
       "      <td>09/26/17</td>\n",
       "      <td>1.0</td>\n",
       "      <td>2</td>\n",
       "      <td>0.0</td>\n",
       "      <td>0.0</td>\n",
       "    </tr>\n",
       "    <tr>\n",
       "      <th>269</th>\n",
       "      <td>09/27/17</td>\n",
       "      <td>1.5</td>\n",
       "      <td>1</td>\n",
       "      <td>2.0</td>\n",
       "      <td>0.0</td>\n",
       "    </tr>\n",
       "    <tr>\n",
       "      <th>270</th>\n",
       "      <td>09/28/17</td>\n",
       "      <td>1.5</td>\n",
       "      <td>0</td>\n",
       "      <td>1.0</td>\n",
       "      <td>0.0</td>\n",
       "    </tr>\n",
       "    <tr>\n",
       "      <th>271</th>\n",
       "      <td>09/29/17</td>\n",
       "      <td>1.0</td>\n",
       "      <td>1</td>\n",
       "      <td>0.5</td>\n",
       "      <td>0.0</td>\n",
       "    </tr>\n",
       "    <tr>\n",
       "      <th>272</th>\n",
       "      <td>09/30/17</td>\n",
       "      <td>1.0</td>\n",
       "      <td>0</td>\n",
       "      <td>0.0</td>\n",
       "      <td>0.0</td>\n",
       "    </tr>\n",
       "    <tr>\n",
       "      <th>273</th>\n",
       "      <td>10/01/17</td>\n",
       "      <td>2.0</td>\n",
       "      <td>1</td>\n",
       "      <td>1.5</td>\n",
       "      <td>0.0</td>\n",
       "    </tr>\n",
       "  </tbody>\n",
       "</table>\n",
       "</div>"
      ],
      "text/plain": [
       "            date_after    T  D    C    W\n",
       "day_of_year                             \n",
       "248           09/06/17  2.0  1  1.0  0.0\n",
       "249           09/07/17  1.0  1  0.0  0.0\n",
       "250           09/08/17  1.5  1  0.0  0.0\n",
       "251           09/09/17  1.0  0  0.0  0.0\n",
       "252           09/10/17  0.0  1  1.0  0.0\n",
       "253           09/11/17  1.0  0  0.0  0.0\n",
       "254           09/12/17  1.0  1  1.0  0.0\n",
       "255           09/13/17  1.0  1  0.0  0.0\n",
       "256           09/14/17  1.5  1  0.0  0.0\n",
       "257           09/15/17  1.0  0  0.0  0.0\n",
       "258           09/16/17  1.0  1  0.5  0.0\n",
       "259           09/17/17  1.0  0  0.5  0.0\n",
       "262           09/20/17  1.0  0  0.0  0.0\n",
       "263           09/21/17  1.0  1  0.0  1.5\n",
       "264           09/22/17  1.0  1  0.0  3.0\n",
       "263           09/21/17  1.0  0  0.0  3.0\n",
       "266           09/24/17  1.0  1  0.0  3.0\n",
       "267           09/25/17  1.5  1  0.0  3.0\n",
       "268           09/26/17  1.0  2  0.0  0.0\n",
       "269           09/27/17  1.5  1  2.0  0.0\n",
       "270           09/28/17  1.5  0  1.0  0.0\n",
       "271           09/29/17  1.0  1  0.5  0.0\n",
       "272           09/30/17  1.0  0  0.0  0.0\n",
       "273           10/01/17  2.0  1  1.5  0.0"
      ]
     },
     "execution_count": 325,
     "metadata": {},
     "output_type": "execute_result"
    }
   ],
   "source": [
    "df_meds"
   ]
  },
  {
   "cell_type": "code",
   "execution_count": 326,
   "metadata": {
    "collapsed": false
   },
   "outputs": [],
   "source": [
    "df_full2 = df_sleep2.join(df_meds, how='inner').drop('date_after', axis=1)\n",
    "df_full3 = df_sleep3.join(df_meds, how='inner').drop('date_after', axis=1)"
   ]
  },
  {
   "cell_type": "code",
   "execution_count": 327,
   "metadata": {
    "collapsed": false
   },
   "outputs": [
    {
     "data": {
      "text/html": [
       "<div>\n",
       "<style>\n",
       "    .dataframe thead tr:only-child th {\n",
       "        text-align: right;\n",
       "    }\n",
       "\n",
       "    .dataframe thead th {\n",
       "        text-align: left;\n",
       "    }\n",
       "\n",
       "    .dataframe tbody tr th {\n",
       "        vertical-align: top;\n",
       "    }\n",
       "</style>\n",
       "<table border=\"1\" class=\"dataframe\">\n",
       "  <thead>\n",
       "    <tr style=\"text-align: right;\">\n",
       "      <th></th>\n",
       "      <th>s_light</th>\n",
       "      <th>s_clinical_deep</th>\n",
       "      <th>s_rem</th>\n",
       "      <th>s_duration</th>\n",
       "      <th>T</th>\n",
       "      <th>D</th>\n",
       "      <th>C</th>\n",
       "      <th>W</th>\n",
       "    </tr>\n",
       "  </thead>\n",
       "  <tbody>\n",
       "    <tr>\n",
       "      <th>248</th>\n",
       "      <td>206.2</td>\n",
       "      <td>64.8</td>\n",
       "      <td>125.8</td>\n",
       "      <td>396.9</td>\n",
       "      <td>2.0</td>\n",
       "      <td>1</td>\n",
       "      <td>1.0</td>\n",
       "      <td>0.0</td>\n",
       "    </tr>\n",
       "    <tr>\n",
       "      <th>249</th>\n",
       "      <td>338.8</td>\n",
       "      <td>68.2</td>\n",
       "      <td>212.2</td>\n",
       "      <td>619.2</td>\n",
       "      <td>1.0</td>\n",
       "      <td>1</td>\n",
       "      <td>0.0</td>\n",
       "      <td>0.0</td>\n",
       "    </tr>\n",
       "    <tr>\n",
       "      <th>250</th>\n",
       "      <td>307.4</td>\n",
       "      <td>70.3</td>\n",
       "      <td>109.0</td>\n",
       "      <td>486.7</td>\n",
       "      <td>1.5</td>\n",
       "      <td>1</td>\n",
       "      <td>0.0</td>\n",
       "      <td>0.0</td>\n",
       "    </tr>\n",
       "    <tr>\n",
       "      <th>251</th>\n",
       "      <td>234.0</td>\n",
       "      <td>61.0</td>\n",
       "      <td>151.5</td>\n",
       "      <td>446.6</td>\n",
       "      <td>1.0</td>\n",
       "      <td>0</td>\n",
       "      <td>0.0</td>\n",
       "      <td>0.0</td>\n",
       "    </tr>\n",
       "    <tr>\n",
       "      <th>252</th>\n",
       "      <td>306.2</td>\n",
       "      <td>81.8</td>\n",
       "      <td>73.3</td>\n",
       "      <td>461.4</td>\n",
       "      <td>0.0</td>\n",
       "      <td>1</td>\n",
       "      <td>1.0</td>\n",
       "      <td>0.0</td>\n",
       "    </tr>\n",
       "    <tr>\n",
       "      <th>253</th>\n",
       "      <td>389.7</td>\n",
       "      <td>40.0</td>\n",
       "      <td>100.3</td>\n",
       "      <td>530.0</td>\n",
       "      <td>1.0</td>\n",
       "      <td>0</td>\n",
       "      <td>0.0</td>\n",
       "      <td>0.0</td>\n",
       "    </tr>\n",
       "    <tr>\n",
       "      <th>254</th>\n",
       "      <td>226.7</td>\n",
       "      <td>145.7</td>\n",
       "      <td>80.4</td>\n",
       "      <td>452.8</td>\n",
       "      <td>1.0</td>\n",
       "      <td>1</td>\n",
       "      <td>1.0</td>\n",
       "      <td>0.0</td>\n",
       "    </tr>\n",
       "    <tr>\n",
       "      <th>256</th>\n",
       "      <td>343.4</td>\n",
       "      <td>59.6</td>\n",
       "      <td>148.2</td>\n",
       "      <td>551.2</td>\n",
       "      <td>1.5</td>\n",
       "      <td>1</td>\n",
       "      <td>0.0</td>\n",
       "      <td>0.0</td>\n",
       "    </tr>\n",
       "    <tr>\n",
       "      <th>257</th>\n",
       "      <td>269.9</td>\n",
       "      <td>29.3</td>\n",
       "      <td>122.8</td>\n",
       "      <td>422.1</td>\n",
       "      <td>1.0</td>\n",
       "      <td>0</td>\n",
       "      <td>0.0</td>\n",
       "      <td>0.0</td>\n",
       "    </tr>\n",
       "    <tr>\n",
       "      <th>258</th>\n",
       "      <td>234.0</td>\n",
       "      <td>123.0</td>\n",
       "      <td>176.3</td>\n",
       "      <td>533.2</td>\n",
       "      <td>1.0</td>\n",
       "      <td>1</td>\n",
       "      <td>0.5</td>\n",
       "      <td>0.0</td>\n",
       "    </tr>\n",
       "    <tr>\n",
       "      <th>259</th>\n",
       "      <td>387.9</td>\n",
       "      <td>55.8</td>\n",
       "      <td>130.8</td>\n",
       "      <td>574.5</td>\n",
       "      <td>1.0</td>\n",
       "      <td>0</td>\n",
       "      <td>0.5</td>\n",
       "      <td>0.0</td>\n",
       "    </tr>\n",
       "    <tr>\n",
       "      <th>262</th>\n",
       "      <td>172.5</td>\n",
       "      <td>85.8</td>\n",
       "      <td>250.2</td>\n",
       "      <td>508.6</td>\n",
       "      <td>1.0</td>\n",
       "      <td>0</td>\n",
       "      <td>0.0</td>\n",
       "      <td>0.0</td>\n",
       "    </tr>\n",
       "    <tr>\n",
       "      <th>263</th>\n",
       "      <td>263.7</td>\n",
       "      <td>45.6</td>\n",
       "      <td>150.0</td>\n",
       "      <td>459.3</td>\n",
       "      <td>1.0</td>\n",
       "      <td>1</td>\n",
       "      <td>0.0</td>\n",
       "      <td>1.5</td>\n",
       "    </tr>\n",
       "    <tr>\n",
       "      <th>263</th>\n",
       "      <td>263.7</td>\n",
       "      <td>45.6</td>\n",
       "      <td>150.0</td>\n",
       "      <td>459.3</td>\n",
       "      <td>1.0</td>\n",
       "      <td>0</td>\n",
       "      <td>0.0</td>\n",
       "      <td>3.0</td>\n",
       "    </tr>\n",
       "    <tr>\n",
       "      <th>264</th>\n",
       "      <td>192.4</td>\n",
       "      <td>20.2</td>\n",
       "      <td>16.6</td>\n",
       "      <td>229.2</td>\n",
       "      <td>1.0</td>\n",
       "      <td>1</td>\n",
       "      <td>0.0</td>\n",
       "      <td>3.0</td>\n",
       "    </tr>\n",
       "    <tr>\n",
       "      <th>266</th>\n",
       "      <td>217.9</td>\n",
       "      <td>63.3</td>\n",
       "      <td>101.2</td>\n",
       "      <td>382.4</td>\n",
       "      <td>1.0</td>\n",
       "      <td>1</td>\n",
       "      <td>0.0</td>\n",
       "      <td>3.0</td>\n",
       "    </tr>\n",
       "    <tr>\n",
       "      <th>268</th>\n",
       "      <td>194.4</td>\n",
       "      <td>79.5</td>\n",
       "      <td>85.2</td>\n",
       "      <td>359.0</td>\n",
       "      <td>1.0</td>\n",
       "      <td>2</td>\n",
       "      <td>0.0</td>\n",
       "      <td>0.0</td>\n",
       "    </tr>\n",
       "    <tr>\n",
       "      <th>269</th>\n",
       "      <td>225.1</td>\n",
       "      <td>62.0</td>\n",
       "      <td>159.8</td>\n",
       "      <td>446.9</td>\n",
       "      <td>1.5</td>\n",
       "      <td>1</td>\n",
       "      <td>2.0</td>\n",
       "      <td>0.0</td>\n",
       "    </tr>\n",
       "    <tr>\n",
       "      <th>270</th>\n",
       "      <td>300.7</td>\n",
       "      <td>42.0</td>\n",
       "      <td>169.2</td>\n",
       "      <td>511.9</td>\n",
       "      <td>1.5</td>\n",
       "      <td>0</td>\n",
       "      <td>1.0</td>\n",
       "      <td>0.0</td>\n",
       "    </tr>\n",
       "    <tr>\n",
       "      <th>271</th>\n",
       "      <td>408.5</td>\n",
       "      <td>39.9</td>\n",
       "      <td>78.3</td>\n",
       "      <td>526.7</td>\n",
       "      <td>1.0</td>\n",
       "      <td>1</td>\n",
       "      <td>0.5</td>\n",
       "      <td>0.0</td>\n",
       "    </tr>\n",
       "    <tr>\n",
       "      <th>272</th>\n",
       "      <td>320.3</td>\n",
       "      <td>81.8</td>\n",
       "      <td>80.5</td>\n",
       "      <td>482.6</td>\n",
       "      <td>1.0</td>\n",
       "      <td>0</td>\n",
       "      <td>0.0</td>\n",
       "      <td>0.0</td>\n",
       "    </tr>\n",
       "    <tr>\n",
       "      <th>273</th>\n",
       "      <td>186.0</td>\n",
       "      <td>67.3</td>\n",
       "      <td>160.6</td>\n",
       "      <td>413.9</td>\n",
       "      <td>2.0</td>\n",
       "      <td>1</td>\n",
       "      <td>1.5</td>\n",
       "      <td>0.0</td>\n",
       "    </tr>\n",
       "  </tbody>\n",
       "</table>\n",
       "</div>"
      ],
      "text/plain": [
       "     s_light  s_clinical_deep  s_rem  s_duration    T  D    C    W\n",
       "248    206.2             64.8  125.8       396.9  2.0  1  1.0  0.0\n",
       "249    338.8             68.2  212.2       619.2  1.0  1  0.0  0.0\n",
       "250    307.4             70.3  109.0       486.7  1.5  1  0.0  0.0\n",
       "251    234.0             61.0  151.5       446.6  1.0  0  0.0  0.0\n",
       "252    306.2             81.8   73.3       461.4  0.0  1  1.0  0.0\n",
       "253    389.7             40.0  100.3       530.0  1.0  0  0.0  0.0\n",
       "254    226.7            145.7   80.4       452.8  1.0  1  1.0  0.0\n",
       "256    343.4             59.6  148.2       551.2  1.5  1  0.0  0.0\n",
       "257    269.9             29.3  122.8       422.1  1.0  0  0.0  0.0\n",
       "258    234.0            123.0  176.3       533.2  1.0  1  0.5  0.0\n",
       "259    387.9             55.8  130.8       574.5  1.0  0  0.5  0.0\n",
       "262    172.5             85.8  250.2       508.6  1.0  0  0.0  0.0\n",
       "263    263.7             45.6  150.0       459.3  1.0  1  0.0  1.5\n",
       "263    263.7             45.6  150.0       459.3  1.0  0  0.0  3.0\n",
       "264    192.4             20.2   16.6       229.2  1.0  1  0.0  3.0\n",
       "266    217.9             63.3  101.2       382.4  1.0  1  0.0  3.0\n",
       "268    194.4             79.5   85.2       359.0  1.0  2  0.0  0.0\n",
       "269    225.1             62.0  159.8       446.9  1.5  1  2.0  0.0\n",
       "270    300.7             42.0  169.2       511.9  1.5  0  1.0  0.0\n",
       "271    408.5             39.9   78.3       526.7  1.0  1  0.5  0.0\n",
       "272    320.3             81.8   80.5       482.6  1.0  0  0.0  0.0\n",
       "273    186.0             67.3  160.6       413.9  2.0  1  1.5  0.0"
      ]
     },
     "execution_count": 327,
     "metadata": {},
     "output_type": "execute_result"
    }
   ],
   "source": [
    "df_full2"
   ]
  },
  {
   "cell_type": "code",
   "execution_count": 328,
   "metadata": {
    "collapsed": false
   },
   "outputs": [
    {
     "data": {
      "text/plain": [
       "array([[-0.23179611, -0.28257573, -0.18909816, -0.27605645],\n",
       "       [-0.11321903,  0.27606383,  0.23354891, -0.35446344],\n",
       "       [ 0.2670757 , -0.27412135,  0.06760213, -0.27707212],\n",
       "       [-0.07026263, -0.31727933, -0.03893345, -0.5304799 ]])"
      ]
     },
     "execution_count": 328,
     "metadata": {},
     "output_type": "execute_result"
    }
   ],
   "source": [
    "np.corrcoef(df_full2, rowvar=False)[:-4,-4:]"
   ]
  },
  {
   "cell_type": "code",
   "execution_count": 329,
   "metadata": {
    "collapsed": false
   },
   "outputs": [
    {
     "data": {
      "image/png": "[encoded data removed]",
      "text/plain": [
       "<matplotlib.figure.Figure at 0x11e054ed0>"
      ]
     },
     "metadata": {},
     "output_type": "display_data"
    }
   ],
   "source": [
    "plt.imshow(np.corrcoef(df_full2, rowvar=False)[:-4,-4:],cmap='gray',interpolation='nearest')\n",
    "plt.colorbar();"
   ]
  },
  {
   "cell_type": "code",
   "execution_count": 330,
   "metadata": {
    "collapsed": false
   },
   "outputs": [
    {
     "data": {
      "text/plain": [
       "array([[-0.2843155 , -0.06371277, -0.27167329,  0.24989488],\n",
       "       [-0.07144863,  0.42518291,  0.25924039, -0.1984285 ],\n",
       "       [ 0.38482413, -0.19529529,  0.15872336, -0.17154319]])"
      ]
     },
     "execution_count": 330,
     "metadata": {},
     "output_type": "execute_result"
    }
   ],
   "source": [
    "np.corrcoef(df_full3, rowvar=False)[:-5,-4:]"
   ]
  },
  {
   "cell_type": "code",
   "execution_count": 331,
   "metadata": {
    "collapsed": false
   },
   "outputs": [
    {
     "data": {
      "image/png": "[encoded data removed]",
      "text/plain": [
       "<matplotlib.figure.Figure at 0x11fe2efd0>"
      ]
     },
     "metadata": {},
     "output_type": "display_data"
    }
   ],
   "source": [
    "plt.imshow(np.corrcoef(df_full3, rowvar=False)[:-5,-4:],cmap='gray',interpolation='nearest')\n",
    "plt.colorbar();"
   ]
  },
  {
   "cell_type": "code",
   "execution_count": 332,
   "metadata": {
    "collapsed": false
   },
   "outputs": [
    {
     "data": {
      "text/plain": [
       "[<matplotlib.lines.Line2D at 0x11f2ba350>]"
      ]
     },
     "execution_count": 332,
     "metadata": {},
     "output_type": "execute_result"
    },
    {
     "data": {
      "image/png": "[encoded data removed]",
      "text/plain": [
       "<matplotlib.figure.Figure at 0x120246410>"
      ]
     },
     "metadata": {},
     "output_type": "display_data"
    }
   ],
   "source": [
    "plt.plot(df_full3['C'], df_full3['s_clinical_deep'], 'o')"
   ]
  },
  {
   "cell_type": "code",
   "execution_count": 333,
   "metadata": {
    "collapsed": false
   },
   "outputs": [
    {
     "name": "stdout",
     "output_type": "stream",
     "text": [
      "[ 0.3439019]\n",
      "-31.5771684633\n"
     ]
    }
   ],
   "source": [
    "from sklearn.linear_model import LinearRegression\n",
    "lr_rem = LinearRegression()\n",
    "\n",
    "lr_rem.fit(np.expand_dims(df_sleep2['s_duration'],1), df_sleep2['s_rem'])\n",
    "\n",
    "print lr_rem.coef_\n",
    "print lr_rem.intercept_"
   ]
  },
  {
   "cell_type": "code",
   "execution_count": 334,
   "metadata": {
    "collapsed": true
   },
   "outputs": [],
   "source": [
    "rem_latency =  lr_rem.predict(np.expand_dims(df_sleep2['s_duration'],1)) - df_sleep2['s_rem']"
   ]
  },
  {
   "cell_type": "code",
   "execution_count": 335,
   "metadata": {
    "collapsed": true
   },
   "outputs": [],
   "source": [
    "df_sleep2_lat = df_sleep2.copy()\n",
    "df_sleep2_lat['rem_lat'] = rem_latency"
   ]
  },
  {
   "cell_type": "code",
   "execution_count": 336,
   "metadata": {
    "collapsed": true
   },
   "outputs": [],
   "source": [
    "df_full2_lat = df_sleep2_lat.join(df_meds, how='inner').drop('date_after', axis=1)\n"
   ]
  },
  {
   "cell_type": "code",
   "execution_count": 337,
   "metadata": {
    "collapsed": false
   },
   "outputs": [
    {
     "data": {
      "text/html": [
       "<div>\n",
       "<style>\n",
       "    .dataframe thead tr:only-child th {\n",
       "        text-align: right;\n",
       "    }\n",
       "\n",
       "    .dataframe thead th {\n",
       "        text-align: left;\n",
       "    }\n",
       "\n",
       "    .dataframe tbody tr th {\n",
       "        vertical-align: top;\n",
       "    }\n",
       "</style>\n",
       "<table border=\"1\" class=\"dataframe\">\n",
       "  <thead>\n",
       "    <tr style=\"text-align: right;\">\n",
       "      <th></th>\n",
       "      <th>s_light</th>\n",
       "      <th>s_clinical_deep</th>\n",
       "      <th>s_rem</th>\n",
       "      <th>s_duration</th>\n",
       "      <th>rem_lat</th>\n",
       "      <th>T</th>\n",
       "      <th>D</th>\n",
       "      <th>C</th>\n",
       "      <th>W</th>\n",
       "    </tr>\n",
       "  </thead>\n",
       "  <tbody>\n",
       "    <tr>\n",
       "      <th>248</th>\n",
       "      <td>206.2</td>\n",
       "      <td>64.8</td>\n",
       "      <td>125.8</td>\n",
       "      <td>396.9</td>\n",
       "      <td>-20.8</td>\n",
       "      <td>2.0</td>\n",
       "      <td>1</td>\n",
       "      <td>1.0</td>\n",
       "      <td>0.0</td>\n",
       "    </tr>\n",
       "    <tr>\n",
       "      <th>249</th>\n",
       "      <td>338.8</td>\n",
       "      <td>68.2</td>\n",
       "      <td>212.2</td>\n",
       "      <td>619.2</td>\n",
       "      <td>-30.8</td>\n",
       "      <td>1.0</td>\n",
       "      <td>1</td>\n",
       "      <td>0.0</td>\n",
       "      <td>0.0</td>\n",
       "    </tr>\n",
       "    <tr>\n",
       "      <th>250</th>\n",
       "      <td>307.4</td>\n",
       "      <td>70.3</td>\n",
       "      <td>109.0</td>\n",
       "      <td>486.7</td>\n",
       "      <td>26.8</td>\n",
       "      <td>1.5</td>\n",
       "      <td>1</td>\n",
       "      <td>0.0</td>\n",
       "      <td>0.0</td>\n",
       "    </tr>\n",
       "    <tr>\n",
       "      <th>251</th>\n",
       "      <td>234.0</td>\n",
       "      <td>61.0</td>\n",
       "      <td>151.5</td>\n",
       "      <td>446.6</td>\n",
       "      <td>-29.5</td>\n",
       "      <td>1.0</td>\n",
       "      <td>0</td>\n",
       "      <td>0.0</td>\n",
       "      <td>0.0</td>\n",
       "    </tr>\n",
       "    <tr>\n",
       "      <th>252</th>\n",
       "      <td>306.2</td>\n",
       "      <td>81.8</td>\n",
       "      <td>73.3</td>\n",
       "      <td>461.4</td>\n",
       "      <td>53.8</td>\n",
       "      <td>0.0</td>\n",
       "      <td>1</td>\n",
       "      <td>1.0</td>\n",
       "      <td>0.0</td>\n",
       "    </tr>\n",
       "    <tr>\n",
       "      <th>253</th>\n",
       "      <td>389.7</td>\n",
       "      <td>40.0</td>\n",
       "      <td>100.3</td>\n",
       "      <td>530.0</td>\n",
       "      <td>50.3</td>\n",
       "      <td>1.0</td>\n",
       "      <td>0</td>\n",
       "      <td>0.0</td>\n",
       "      <td>0.0</td>\n",
       "    </tr>\n",
       "    <tr>\n",
       "      <th>254</th>\n",
       "      <td>226.7</td>\n",
       "      <td>145.7</td>\n",
       "      <td>80.4</td>\n",
       "      <td>452.8</td>\n",
       "      <td>43.8</td>\n",
       "      <td>1.0</td>\n",
       "      <td>1</td>\n",
       "      <td>1.0</td>\n",
       "      <td>0.0</td>\n",
       "    </tr>\n",
       "    <tr>\n",
       "      <th>256</th>\n",
       "      <td>343.4</td>\n",
       "      <td>59.6</td>\n",
       "      <td>148.2</td>\n",
       "      <td>551.2</td>\n",
       "      <td>9.8</td>\n",
       "      <td>1.5</td>\n",
       "      <td>1</td>\n",
       "      <td>0.0</td>\n",
       "      <td>0.0</td>\n",
       "    </tr>\n",
       "    <tr>\n",
       "      <th>257</th>\n",
       "      <td>269.9</td>\n",
       "      <td>29.3</td>\n",
       "      <td>122.8</td>\n",
       "      <td>422.1</td>\n",
       "      <td>-9.2</td>\n",
       "      <td>1.0</td>\n",
       "      <td>0</td>\n",
       "      <td>0.0</td>\n",
       "      <td>0.0</td>\n",
       "    </tr>\n",
       "    <tr>\n",
       "      <th>258</th>\n",
       "      <td>234.0</td>\n",
       "      <td>123.0</td>\n",
       "      <td>176.3</td>\n",
       "      <td>533.2</td>\n",
       "      <td>-24.5</td>\n",
       "      <td>1.0</td>\n",
       "      <td>1</td>\n",
       "      <td>0.5</td>\n",
       "      <td>0.0</td>\n",
       "    </tr>\n",
       "    <tr>\n",
       "      <th>259</th>\n",
       "      <td>387.9</td>\n",
       "      <td>55.8</td>\n",
       "      <td>130.8</td>\n",
       "      <td>574.5</td>\n",
       "      <td>35.2</td>\n",
       "      <td>1.0</td>\n",
       "      <td>0</td>\n",
       "      <td>0.5</td>\n",
       "      <td>0.0</td>\n",
       "    </tr>\n",
       "    <tr>\n",
       "      <th>262</th>\n",
       "      <td>172.5</td>\n",
       "      <td>85.8</td>\n",
       "      <td>250.2</td>\n",
       "      <td>508.6</td>\n",
       "      <td>-106.9</td>\n",
       "      <td>1.0</td>\n",
       "      <td>0</td>\n",
       "      <td>0.0</td>\n",
       "      <td>0.0</td>\n",
       "    </tr>\n",
       "    <tr>\n",
       "      <th>263</th>\n",
       "      <td>263.7</td>\n",
       "      <td>45.6</td>\n",
       "      <td>150.0</td>\n",
       "      <td>459.3</td>\n",
       "      <td>-23.6</td>\n",
       "      <td>1.0</td>\n",
       "      <td>1</td>\n",
       "      <td>0.0</td>\n",
       "      <td>1.5</td>\n",
       "    </tr>\n",
       "    <tr>\n",
       "      <th>263</th>\n",
       "      <td>263.7</td>\n",
       "      <td>45.6</td>\n",
       "      <td>150.0</td>\n",
       "      <td>459.3</td>\n",
       "      <td>-23.6</td>\n",
       "      <td>1.0</td>\n",
       "      <td>0</td>\n",
       "      <td>0.0</td>\n",
       "      <td>3.0</td>\n",
       "    </tr>\n",
       "    <tr>\n",
       "      <th>264</th>\n",
       "      <td>192.4</td>\n",
       "      <td>20.2</td>\n",
       "      <td>16.6</td>\n",
       "      <td>229.2</td>\n",
       "      <td>30.7</td>\n",
       "      <td>1.0</td>\n",
       "      <td>1</td>\n",
       "      <td>0.0</td>\n",
       "      <td>3.0</td>\n",
       "    </tr>\n",
       "    <tr>\n",
       "      <th>266</th>\n",
       "      <td>217.9</td>\n",
       "      <td>63.3</td>\n",
       "      <td>101.2</td>\n",
       "      <td>382.4</td>\n",
       "      <td>-1.3</td>\n",
       "      <td>1.0</td>\n",
       "      <td>1</td>\n",
       "      <td>0.0</td>\n",
       "      <td>3.0</td>\n",
       "    </tr>\n",
       "    <tr>\n",
       "      <th>268</th>\n",
       "      <td>194.4</td>\n",
       "      <td>79.5</td>\n",
       "      <td>85.2</td>\n",
       "      <td>359.0</td>\n",
       "      <td>6.7</td>\n",
       "      <td>1.0</td>\n",
       "      <td>2</td>\n",
       "      <td>0.0</td>\n",
       "      <td>0.0</td>\n",
       "    </tr>\n",
       "    <tr>\n",
       "      <th>269</th>\n",
       "      <td>225.1</td>\n",
       "      <td>62.0</td>\n",
       "      <td>159.8</td>\n",
       "      <td>446.9</td>\n",
       "      <td>-37.7</td>\n",
       "      <td>1.5</td>\n",
       "      <td>1</td>\n",
       "      <td>2.0</td>\n",
       "      <td>0.0</td>\n",
       "    </tr>\n",
       "    <tr>\n",
       "      <th>270</th>\n",
       "      <td>300.7</td>\n",
       "      <td>42.0</td>\n",
       "      <td>169.2</td>\n",
       "      <td>511.9</td>\n",
       "      <td>-24.8</td>\n",
       "      <td>1.5</td>\n",
       "      <td>0</td>\n",
       "      <td>1.0</td>\n",
       "      <td>0.0</td>\n",
       "    </tr>\n",
       "    <tr>\n",
       "      <th>271</th>\n",
       "      <td>408.5</td>\n",
       "      <td>39.9</td>\n",
       "      <td>78.3</td>\n",
       "      <td>526.7</td>\n",
       "      <td>71.3</td>\n",
       "      <td>1.0</td>\n",
       "      <td>1</td>\n",
       "      <td>0.5</td>\n",
       "      <td>0.0</td>\n",
       "    </tr>\n",
       "    <tr>\n",
       "      <th>272</th>\n",
       "      <td>320.3</td>\n",
       "      <td>81.8</td>\n",
       "      <td>80.5</td>\n",
       "      <td>482.6</td>\n",
       "      <td>53.9</td>\n",
       "      <td>1.0</td>\n",
       "      <td>0</td>\n",
       "      <td>0.0</td>\n",
       "      <td>0.0</td>\n",
       "    </tr>\n",
       "    <tr>\n",
       "      <th>273</th>\n",
       "      <td>186.0</td>\n",
       "      <td>67.3</td>\n",
       "      <td>160.6</td>\n",
       "      <td>413.9</td>\n",
       "      <td>-49.8</td>\n",
       "      <td>2.0</td>\n",
       "      <td>1</td>\n",
       "      <td>1.5</td>\n",
       "      <td>0.0</td>\n",
       "    </tr>\n",
       "  </tbody>\n",
       "</table>\n",
       "</div>"
      ],
      "text/plain": [
       "     s_light  s_clinical_deep  s_rem  s_duration  rem_lat    T  D    C    W\n",
       "248    206.2             64.8  125.8       396.9    -20.8  2.0  1  1.0  0.0\n",
       "249    338.8             68.2  212.2       619.2    -30.8  1.0  1  0.0  0.0\n",
       "250    307.4             70.3  109.0       486.7     26.8  1.5  1  0.0  0.0\n",
       "251    234.0             61.0  151.5       446.6    -29.5  1.0  0  0.0  0.0\n",
       "252    306.2             81.8   73.3       461.4     53.8  0.0  1  1.0  0.0\n",
       "253    389.7             40.0  100.3       530.0     50.3  1.0  0  0.0  0.0\n",
       "254    226.7            145.7   80.4       452.8     43.8  1.0  1  1.0  0.0\n",
       "256    343.4             59.6  148.2       551.2      9.8  1.5  1  0.0  0.0\n",
       "257    269.9             29.3  122.8       422.1     -9.2  1.0  0  0.0  0.0\n",
       "258    234.0            123.0  176.3       533.2    -24.5  1.0  1  0.5  0.0\n",
       "259    387.9             55.8  130.8       574.5     35.2  1.0  0  0.5  0.0\n",
       "262    172.5             85.8  250.2       508.6   -106.9  1.0  0  0.0  0.0\n",
       "263    263.7             45.6  150.0       459.3    -23.6  1.0  1  0.0  1.5\n",
       "263    263.7             45.6  150.0       459.3    -23.6  1.0  0  0.0  3.0\n",
       "264    192.4             20.2   16.6       229.2     30.7  1.0  1  0.0  3.0\n",
       "266    217.9             63.3  101.2       382.4     -1.3  1.0  1  0.0  3.0\n",
       "268    194.4             79.5   85.2       359.0      6.7  1.0  2  0.0  0.0\n",
       "269    225.1             62.0  159.8       446.9    -37.7  1.5  1  2.0  0.0\n",
       "270    300.7             42.0  169.2       511.9    -24.8  1.5  0  1.0  0.0\n",
       "271    408.5             39.9   78.3       526.7     71.3  1.0  1  0.5  0.0\n",
       "272    320.3             81.8   80.5       482.6     53.9  1.0  0  0.0  0.0\n",
       "273    186.0             67.3  160.6       413.9    -49.8  2.0  1  1.5  0.0"
      ]
     },
     "execution_count": 337,
     "metadata": {},
     "output_type": "execute_result"
    }
   ],
   "source": [
    "df_full2_lat"
   ]
  },
  {
   "cell_type": "code",
   "execution_count": 338,
   "metadata": {
    "collapsed": false
   },
   "outputs": [
    {
     "data": {
      "text/plain": [
       "array([[-0.23179611, -0.28257573, -0.18909816, -0.27605645],\n",
       "       [-0.11321903,  0.27606383,  0.23354891, -0.35446344],\n",
       "       [ 0.2670757 , -0.27412135,  0.06760213, -0.27707212],\n",
       "       [-0.07026263, -0.31727933, -0.03893345, -0.5304799 ],\n",
       "       [-0.36998475,  0.12001624, -0.10775666, -0.01861976]])"
      ]
     },
     "execution_count": 338,
     "metadata": {},
     "output_type": "execute_result"
    }
   ],
   "source": [
    "np.corrcoef(df_full2_lat, rowvar=False)[:-4,-4:]"
   ]
  },
  {
   "cell_type": "code",
   "execution_count": 339,
   "metadata": {
    "collapsed": false
   },
   "outputs": [
    {
     "data": {
      "image/png": "[encoded data removed]",
      "text/plain": [
       "<matplotlib.figure.Figure at 0x11de82f50>"
      ]
     },
     "metadata": {},
     "output_type": "display_data"
    }
   ],
   "source": [
    "plt.imshow(np.corrcoef(df_full2_lat, rowvar=False)[:-4,-4:],cmap='gray',interpolation='nearest')\n",
    "plt.colorbar();"
   ]
  },
  {
   "cell_type": "code",
   "execution_count": null,
   "metadata": {
    "collapsed": true
   },
   "outputs": [],
   "source": []
  },
  {
   "cell_type": "code",
   "execution_count": null,
   "metadata": {
    "collapsed": true
   },
   "outputs": [],
   "source": []
  },
  {
   "cell_type": "markdown",
   "metadata": {
    "collapsed": true
   },
   "source": [
    "Testing reliability of correlation (doxylamine to deep sleep %)"
   ]
  },
  {
   "cell_type": "code",
   "execution_count": 340,
   "metadata": {
    "collapsed": false
   },
   "outputs": [
    {
     "data": {
      "text/plain": [
       "[<matplotlib.lines.Line2D at 0x12028a150>]"
      ]
     },
     "execution_count": 340,
     "metadata": {},
     "output_type": "execute_result"
    },
    {
     "data": {
      "image/png": "[encoded data removed]",
      "text/plain": [
       "<matplotlib.figure.Figure at 0x12023a1d0>"
      ]
     },
     "metadata": {},
     "output_type": "display_data"
    }
   ],
   "source": [
    "plt.plot([np.corrcoef(df_full3.iloc[:i,:], rowvar=False)[-7,-3] for i in range(5,df_full3.shape[0])])"
   ]
  },
  {
   "cell_type": "markdown",
   "metadata": {
    "collapsed": true
   },
   "source": [
    "Linear regression for total stage times on TST and meds"
   ]
  },
  {
   "cell_type": "code",
   "execution_count": 341,
   "metadata": {
    "collapsed": true
   },
   "outputs": [],
   "source": [
    "lr_full = LinearRegression()\n",
    "lr_tst_only = LinearRegression()"
   ]
  },
  {
   "cell_type": "code",
   "execution_count": 342,
   "metadata": {
    "collapsed": true
   },
   "outputs": [],
   "source": [
    "full_X  = df_full2[['s_duration','T','D','C','W']]\n",
    "tst_only_X = df_full2[['s_duration']]\n",
    "full_Y = df_full2[['s_light', 's_clinical_deep', 's_rem']]"
   ]
  },
  {
   "cell_type": "code",
   "execution_count": 343,
   "metadata": {
    "collapsed": false
   },
   "outputs": [
    {
     "data": {
      "text/plain": [
       "LinearRegression(copy_X=True, fit_intercept=True, n_jobs=1, normalize=False)"
      ]
     },
     "execution_count": 343,
     "metadata": {},
     "output_type": "execute_result"
    }
   ],
   "source": [
    "lr_full.fit(full_X, full_Y)\n",
    "lr_tst_only.fit(tst_only_X, full_Y)"
   ]
  },
  {
   "cell_type": "code",
   "execution_count": 344,
   "metadata": {
    "collapsed": false
   },
   "outputs": [
    {
     "name": "stdout",
     "output_type": "stream",
     "text": [
      "r^2 full: 0.463\n",
      "r^2 TST only: 0.376\n",
      "\n",
      "r^2 increase: 0.087\n"
     ]
    }
   ],
   "source": [
    "print 'r^2 full: %.3f' % lr_full.score(full_X, full_Y)\n",
    "print 'r^2 TST only: %.3f' % lr_tst_only.score(tst_only_X, full_Y)\n",
    "print '\\n' + 'r^2 increase: %.3f' % (lr_full.score(full_X, full_Y) - lr_tst_only.score(tst_only_X, full_Y))"
   ]
  },
  {
   "cell_type": "code",
   "execution_count": 345,
   "metadata": {
    "collapsed": false
   },
   "outputs": [
    {
     "data": {
      "text/plain": [
       "array([[  0.56842424,   0.05278658,   0.37878918],\n",
       "       [-24.60864111, -16.00491925,  40.61356035],\n",
       "       [ -4.96102528,  16.04552901, -11.08450373],\n",
       "       [-11.73292273,   8.3909135 ,   3.34200924],\n",
       "       [  1.61807031,  -6.93452072,   5.31645042]])"
      ]
     },
     "execution_count": 345,
     "metadata": {},
     "output_type": "execute_result"
    }
   ],
   "source": [
    "lr_full.coef_.T"
   ]
  },
  {
   "cell_type": "code",
   "execution_count": 346,
   "metadata": {
    "collapsed": false
   },
   "outputs": [
    {
     "data": {
      "image/png": "[encoded data removed]",
      "text/plain": [
       "<matplotlib.figure.Figure at 0x11fb7b310>"
      ]
     },
     "metadata": {},
     "output_type": "display_data"
    }
   ],
   "source": [
    "plt.imshow(lr_full.coef_[:,1:],cmap='gray',interpolation='nearest');\n",
    "plt.colorbar();"
   ]
  },
  {
   "cell_type": "code",
   "execution_count": 347,
   "metadata": {
    "collapsed": true
   },
   "outputs": [],
   "source": [
    "partial_coefs = []\n",
    "\n",
    "for i in range(5,df_full3.shape[0]):\n",
    "    lr_partial = LinearRegression()\n",
    "    \n",
    "    X_partial  = df_full2.iloc[:i,:][['s_duration','T','D','C','W']]\n",
    "    Y_partial = df_full2.iloc[:i,:][['s_light', 's_clinical_deep', 's_rem']]\n",
    "    \n",
    "    lr_partial.fit(X_partial, Y_partial)\n",
    "    \n",
    "    partial_coefs.append(lr_partial.coef_)\n",
    "    \n",
    "partial_coefs = np.array(partial_coefs)"
   ]
  },
  {
   "cell_type": "code",
   "execution_count": 348,
   "metadata": {
    "collapsed": false
   },
   "outputs": [
    {
     "data": {
      "text/plain": [
       "(17, 3, 5)"
      ]
     },
     "execution_count": 348,
     "metadata": {},
     "output_type": "execute_result"
    }
   ],
   "source": [
    "partial_coefs.shape"
   ]
  },
  {
   "cell_type": "code",
   "execution_count": 349,
   "metadata": {
    "collapsed": true
   },
   "outputs": [],
   "source": [
    "plot_labels = ['T','D','C','W']"
   ]
  },
  {
   "cell_type": "code",
   "execution_count": 350,
   "metadata": {
    "collapsed": false
   },
   "outputs": [
    {
     "data": {
      "image/png": "[encoded data removed]",
      "text/plain": [
       "<matplotlib.figure.Figure at 0x1202e9a50>"
      ]
     },
     "metadata": {},
     "output_type": "display_data"
    }
   ],
   "source": [
    "for i in range(4):\n",
    "    plt.plot(partial_coefs[3:,0,i+1],label=plot_labels[i])\n",
    "plt.title('light coeffs');\n",
    "plt.legend(loc=0);"
   ]
  },
  {
   "cell_type": "code",
   "execution_count": 351,
   "metadata": {
    "collapsed": false
   },
   "outputs": [
    {
     "data": {
      "image/png": "[encoded data removed]",
      "text/plain": [
       "<matplotlib.figure.Figure at 0x11d3e1a50>"
      ]
     },
     "metadata": {},
     "output_type": "display_data"
    }
   ],
   "source": [
    "for i in range(4):\n",
    "    plt.plot(partial_coefs[3:,1,i+1],label=plot_labels[i])\n",
    "plt.title('deep coeffs');\n",
    "plt.legend(loc=0);"
   ]
  },
  {
   "cell_type": "code",
   "execution_count": 352,
   "metadata": {
    "collapsed": false
   },
   "outputs": [
    {
     "data": {
      "image/png": "[encoded data removed]",
      "text/plain": [
       "<matplotlib.figure.Figure at 0x11de46190>"
      ]
     },
     "metadata": {},
     "output_type": "display_data"
    }
   ],
   "source": [
    "for i in range(4):\n",
    "    plt.plot(partial_coefs[3:,2,i+1],label=plot_labels[i])\n",
    "plt.title('rem coeffs');\n",
    "plt.legend(loc=0);"
   ]
  },
  {
   "cell_type": "markdown",
   "metadata": {
    "collapsed": true
   },
   "source": [
    "Linear regression on only presence/absence of each med"
   ]
  },
  {
   "cell_type": "code",
   "execution_count": null,
   "metadata": {
    "collapsed": true
   },
   "outputs": [],
   "source": [
    "# do this next"
   ]
  },
  {
   "cell_type": "code",
   "execution_count": null,
   "metadata": {
    "collapsed": true
   },
   "outputs": [],
   "source": []
  }
 ],
 "metadata": {
  "anaconda-cloud": {},
  "kernelspec": {
   "display_name": "Python [Root]",
   "language": "python",
   "name": "Python [Root]"
  },
  "language_info": {
   "codemirror_mode": {
    "name": "ipython",
    "version": 2
   },
   "file_extension": ".py",
   "mimetype": "text/x-python",
   "name": "python",
   "nbconvert_exporter": "python",
   "pygments_lexer": "ipython2",
   "version": "2.7.12"
  }
 },
 "nbformat": 4,
 "nbformat_minor": 0
}
