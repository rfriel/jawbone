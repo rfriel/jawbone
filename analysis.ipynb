{
 "cells": [
  {
   "cell_type": "code",
   "execution_count": 2,
   "metadata": {
    "collapsed": false
   },
   "outputs": [
    {
     "name": "stderr",
     "output_type": "stream",
     "text": [
      "//anaconda/lib/python2.7/site-packages/matplotlib/font_manager.py:273: UserWarning: Matplotlib is building the font cache using fc-list. This may take a moment.\n",
      "  warnings.warn('Matplotlib is building the font cache using fc-list. This may take a moment.')\n"
     ]
    }
   ],
   "source": [
    "import numpy as np\n",
    "import pandas as pd\n",
    "\n",
    "import matplotlib.pyplot as plt\n",
    "%matplotlib inline\n",
    "plt.style.use('ggplot')\n",
    "\n",
    "import requests\n",
    "\n",
    "pd.set_option('precision',1)"
   ]
  },
  {
   "cell_type": "code",
   "execution_count": 12,
   "metadata": {
    "collapsed": false
   },
   "outputs": [],
   "source": [
    "from jawbone import get_data"
   ]
  },
  {
   "cell_type": "code",
   "execution_count": 9,
   "metadata": {
    "collapsed": true
   },
   "outputs": [],
   "source": [
    "year = 2017"
   ]
  },
  {
   "cell_type": "code",
   "execution_count": 33,
   "metadata": {
    "collapsed": false
   },
   "outputs": [
    {
     "data": {
      "text/plain": [
       "{'jbsession': 'eCSsDN3oPbBmJcTuB6_aNQaXrpDjyXcdeTnNk4IsHQg'}"
      ]
     },
     "execution_count": 33,
     "metadata": {},
     "output_type": "execute_result"
    }
   ],
   "source": [
    "from jawbone import cookies\n",
    "cookies()"
   ]
  },
  {
   "cell_type": "code",
   "execution_count": 44,
   "metadata": {
    "collapsed": false
   },
   "outputs": [],
   "source": [
    "cookies_test = {'jbsession': 'eCSsDN3oPbBmJcTuB6_aNQaXrpDjyXcdeTnNk4IsHQg'}\n",
    "\n",
    "resp = requests.get('https://jawbone.com/user/settings/download_up_data?year=' + str(year),\n",
    "                   cookies=cookies_test)\n",
    "\n",
    "with open(str(year) + '.csv','w') as f:\n",
    "    f.write(resp.content)\n",
    "\n",
    "#get_data(year)"
   ]
  },
  {
   "cell_type": "code",
   "execution_count": 45,
   "metadata": {
    "collapsed": false
   },
   "outputs": [],
   "source": [
    "df = pd.read_csv('2017.csv')"
   ]
  },
  {
   "cell_type": "code",
   "execution_count": 46,
   "metadata": {
    "collapsed": false
   },
   "outputs": [
    {
     "data": {
      "text/html": [
       "<div>\n",
       "<style>\n",
       "    .dataframe thead tr:only-child th {\n",
       "        text-align: right;\n",
       "    }\n",
       "\n",
       "    .dataframe thead th {\n",
       "        text-align: left;\n",
       "    }\n",
       "\n",
       "    .dataframe tbody tr th {\n",
       "        vertical-align: top;\n",
       "    }\n",
       "</style>\n",
       "<table border=\"1\" class=\"dataframe\">\n",
       "  <thead>\n",
       "    <tr style=\"text-align: right;\">\n",
       "      <th></th>\n",
       "      <th></th>\n",
       "      <th></th>\n",
       "      <th></th>\n",
       "      <th></th>\n",
       "      <th></th>\n",
       "      <th></th>\n",
       "      <th></th>\n",
       "      <th></th>\n",
       "      <th></th>\n",
       "      <th></th>\n",
       "      <th></th>\n",
       "      <th></th>\n",
       "      <th></th>\n",
       "      <th></th>\n",
       "      <th></th>\n",
       "      <th></th>\n",
       "      <th></th>\n",
       "      <th></th>\n",
       "      <th></th>\n",
       "      <th></th>\n",
       "      <th>&lt;!DOCTYPE html&gt;</th>\n",
       "    </tr>\n",
       "  </thead>\n",
       "  <tbody>\n",
       "    <tr>\n",
       "      <th>&lt;html xmlns=\"http://www.w3.org/1999/xhtml\" lang=\"en-US\"&gt;&lt;head&gt;&lt;meta charset=\"utf-8\" /&gt;&lt;title&gt;Permission Denied&lt;/title&gt;&lt;/head&gt;&lt;body&gt;&lt;h1&gt;Permission Denied&lt;/h1&gt;&lt;p&gt;It appears you do not have the neccessary privileges to access this page!&lt;/p&gt;&lt;noscript&gt;&lt;p&gt;&lt;a href=\"/user/signin/logout_redirect?redirect=/\"&gt;Log Out&lt;/a&gt;&lt;/p&gt;&lt;/noscript&gt;&lt;script type='text/javascript'&gt;Globals={\"domain\": \"jawbone.com\"</th>\n",
       "      <th>\"protocol\": \"https:\"</th>\n",
       "      <th>\"language\": \"en-US\"</th>\n",
       "      <th>\"display_locale\": \"en-US\"</th>\n",
       "      <th>\"ajax_protocol\": \"https:\"</th>\n",
       "      <th>\"cdn_asset_domains\": {\"obj\": \"dyzup8v06s4q5.cloudfront.net\"</th>\n",
       "      <th>\"img\": \"dyzup8v06s4q5.cloudfront.net\"</th>\n",
       "      <th>\"media\": \"d3osil7svxrrgt.cloudfront.net\"</th>\n",
       "      <th>\"firmware\": \"dn33yt78pvm7d.cloudfront.net\"</th>\n",
       "      <th>\"js\": \"dyzup8v06s4q5.cloudfront.net\"</th>\n",
       "      <th>\"css\": \"dyzup8v06s4q5.cloudfront.net\"}</th>\n",
       "      <th>\"version_prefix\": \"//dyzup8v06s4q5.cloudfront.net/ver/17.09.22.115733\"</th>\n",
       "      <th>\"version\": \"17.09.22.115733\"</th>\n",
       "      <th>\"debug\": false</th>\n",
       "      <th>\"port\": \"\"}&lt;/script&gt;&lt;script type=\"text/javascript\" charset=\"utf-8\"&gt;var a=window</th>\n",
       "      <th>b=document.createDocumentFragment()</th>\n",
       "      <th>c=document.createElement(\"a\")</th>\n",
       "      <th>d=document.createElement(\"p\")</th>\n",
       "      <th>e=document.createTextNode(\"Log Out\")</th>\n",
       "      <th>f=\"/user/signin/logout_redirect\"</th>\n",
       "      <th>g=document.getElementsByTagName(\"script\")[0];\"referrer\"in document&amp;&amp;document.referrer!==a.location.href&amp;&amp;(f+=\"?redirect=\"+document.referrer);b.appendChild(d);c.href=f;d.appendChild(c);c.appendChild(e);g.parentNode.insertBefore(b</th>\n",
       "      <td>g);&lt;/script&gt;&lt;/body&gt;&lt;/html&gt;</td>\n",
       "    </tr>\n",
       "  </tbody>\n",
       "</table>\n",
       "</div>"
      ],
      "text/plain": [
       "                                                                                                                                                                                                                                                                                                                                                                                                                                                                                                                                                                                                                                                                                                                                                                                                           <!DOCTYPE html>\n",
       "<html xmlns=\"http://www.w3.org/1999/xhtml\" lang...  \"protocol\": \"https:\"  \"language\": \"en-US\"  \"display_locale\": \"en-US\"  \"ajax_protocol\": \"https:\"  \"cdn_asset_domains\": {\"obj\": \"dyzup8v06s4q5.cl...  \"img\": \"dyzup8v06s4q5.cloudfront.net\"  \"media\": \"d3osil7svxrrgt.cloudfront.net\"  \"firmware\": \"dn33yt78pvm7d.cloudfront.net\"  \"js\": \"dyzup8v06s4q5.cloudfront.net\"  \"css\": \"dyzup8v06s4q5.cloudfront.net\"}  \"version_prefix\": \"//dyzup8v06s4q5.cloudfront....  \"version\": \"17.09.22.115733\"  \"debug\": false  \"port\": \"\"}</script><script type=\"text/javascr... b=document.createDocumentFragment() c=document.createElement(\"a\") d=document.createElement(\"p\") e=document.createTextNode(\"Log Out\") f=\"/user/signin/logout_redirect\" g=document.getElementsByTagName(\"script\")[0];\"r...  g);</script></body></html>"
      ]
     },
     "execution_count": 46,
     "metadata": {},
     "output_type": "execute_result"
    }
   ],
   "source": [
    "df.head()"
   ]
  },
  {
   "cell_type": "code",
   "execution_count": 15,
   "metadata": {
    "collapsed": false
   },
   "outputs": [
    {
     "ename": "IndexingError",
     "evalue": "Too many indexers",
     "output_type": "error",
     "traceback": [
      "\u001b[0;31m---------------------------------------------------------------------------\u001b[0m",
      "\u001b[0;31mIndexingError\u001b[0m                             Traceback (most recent call last)",
      "\u001b[0;32m<ipython-input-15-e60de35c7d5b>\u001b[0m in \u001b[0;36m<module>\u001b[0;34m()\u001b[0m\n\u001b[0;32m----> 1\u001b[0;31m \u001b[0mdf2\u001b[0m \u001b[0;34m=\u001b[0m \u001b[0mpd\u001b[0m\u001b[0;34m.\u001b[0m\u001b[0mDataFrame\u001b[0m\u001b[0;34m(\u001b[0m\u001b[0;34m[\u001b[0m\u001b[0mdf\u001b[0m\u001b[0;34m.\u001b[0m\u001b[0miloc\u001b[0m\u001b[0;34m[\u001b[0m\u001b[0mi\u001b[0m\u001b[0;34m,\u001b[0m\u001b[0;34m:\u001b[0m\u001b[0;34m]\u001b[0m \u001b[0;32mfor\u001b[0m \u001b[0mi\u001b[0m \u001b[0;32min\u001b[0m \u001b[0mdf\u001b[0m\u001b[0;34m.\u001b[0m\u001b[0mindex\u001b[0m \u001b[0;32mif\u001b[0m \u001b[0mdf\u001b[0m\u001b[0;34m.\u001b[0m\u001b[0miloc\u001b[0m\u001b[0;34m[\u001b[0m\u001b[0mi\u001b[0m\u001b[0;34m,\u001b[0m\u001b[0;34m:\u001b[0m\u001b[0;34m]\u001b[0m\u001b[0;34m[\u001b[0m\u001b[0;34m's_rem'\u001b[0m\u001b[0;34m]\u001b[0m \u001b[0;34m>\u001b[0m \u001b[0;36m0\u001b[0m\u001b[0;34m]\u001b[0m\u001b[0;34m)\u001b[0m\u001b[0;34m\u001b[0m\u001b[0m\n\u001b[0m",
      "\u001b[0;32m//anaconda/lib/python2.7/site-packages/pandas/core/indexing.pyc\u001b[0m in \u001b[0;36m__getitem__\u001b[0;34m(self, key)\u001b[0m\n\u001b[1;32m   1323\u001b[0m             \u001b[0;32mexcept\u001b[0m \u001b[0;34m(\u001b[0m\u001b[0mKeyError\u001b[0m\u001b[0;34m,\u001b[0m \u001b[0mIndexError\u001b[0m\u001b[0;34m)\u001b[0m\u001b[0;34m:\u001b[0m\u001b[0;34m\u001b[0m\u001b[0m\n\u001b[1;32m   1324\u001b[0m                 \u001b[0;32mpass\u001b[0m\u001b[0;34m\u001b[0m\u001b[0m\n\u001b[0;32m-> 1325\u001b[0;31m             \u001b[0;32mreturn\u001b[0m \u001b[0mself\u001b[0m\u001b[0;34m.\u001b[0m\u001b[0m_getitem_tuple\u001b[0m\u001b[0;34m(\u001b[0m\u001b[0mkey\u001b[0m\u001b[0;34m)\u001b[0m\u001b[0;34m\u001b[0m\u001b[0m\n\u001b[0m\u001b[1;32m   1326\u001b[0m         \u001b[0;32melse\u001b[0m\u001b[0;34m:\u001b[0m\u001b[0;34m\u001b[0m\u001b[0m\n\u001b[1;32m   1327\u001b[0m             \u001b[0mkey\u001b[0m \u001b[0;34m=\u001b[0m \u001b[0mcom\u001b[0m\u001b[0;34m.\u001b[0m\u001b[0m_apply_if_callable\u001b[0m\u001b[0;34m(\u001b[0m\u001b[0mkey\u001b[0m\u001b[0;34m,\u001b[0m \u001b[0mself\u001b[0m\u001b[0;34m.\u001b[0m\u001b[0mobj\u001b[0m\u001b[0;34m)\u001b[0m\u001b[0;34m\u001b[0m\u001b[0m\n",
      "\u001b[0;32m//anaconda/lib/python2.7/site-packages/pandas/core/indexing.pyc\u001b[0m in \u001b[0;36m_getitem_tuple\u001b[0;34m(self, tup)\u001b[0m\n\u001b[1;32m   1660\u001b[0m     \u001b[0;32mdef\u001b[0m \u001b[0m_getitem_tuple\u001b[0m\u001b[0;34m(\u001b[0m\u001b[0mself\u001b[0m\u001b[0;34m,\u001b[0m \u001b[0mtup\u001b[0m\u001b[0;34m)\u001b[0m\u001b[0;34m:\u001b[0m\u001b[0;34m\u001b[0m\u001b[0m\n\u001b[1;32m   1661\u001b[0m \u001b[0;34m\u001b[0m\u001b[0m\n\u001b[0;32m-> 1662\u001b[0;31m         \u001b[0mself\u001b[0m\u001b[0;34m.\u001b[0m\u001b[0m_has_valid_tuple\u001b[0m\u001b[0;34m(\u001b[0m\u001b[0mtup\u001b[0m\u001b[0;34m)\u001b[0m\u001b[0;34m\u001b[0m\u001b[0m\n\u001b[0m\u001b[1;32m   1663\u001b[0m         \u001b[0;32mtry\u001b[0m\u001b[0;34m:\u001b[0m\u001b[0;34m\u001b[0m\u001b[0m\n\u001b[1;32m   1664\u001b[0m             \u001b[0;32mreturn\u001b[0m \u001b[0mself\u001b[0m\u001b[0;34m.\u001b[0m\u001b[0m_getitem_lowerdim\u001b[0m\u001b[0;34m(\u001b[0m\u001b[0mtup\u001b[0m\u001b[0;34m)\u001b[0m\u001b[0;34m\u001b[0m\u001b[0m\n",
      "\u001b[0;32m//anaconda/lib/python2.7/site-packages/pandas/core/indexing.pyc\u001b[0m in \u001b[0;36m_has_valid_tuple\u001b[0;34m(self, key)\u001b[0m\n\u001b[1;32m    187\u001b[0m             \u001b[0;32mif\u001b[0m \u001b[0mi\u001b[0m \u001b[0;34m>=\u001b[0m \u001b[0mself\u001b[0m\u001b[0;34m.\u001b[0m\u001b[0mobj\u001b[0m\u001b[0;34m.\u001b[0m\u001b[0mndim\u001b[0m\u001b[0;34m:\u001b[0m\u001b[0;34m\u001b[0m\u001b[0m\n\u001b[1;32m    188\u001b[0m                 \u001b[0;32mraise\u001b[0m \u001b[0mIndexingError\u001b[0m\u001b[0;34m(\u001b[0m\u001b[0;34m'Too many indexers'\u001b[0m\u001b[0;34m)\u001b[0m\u001b[0;34m\u001b[0m\u001b[0m\n\u001b[0;32m--> 189\u001b[0;31m             \u001b[0;32mif\u001b[0m \u001b[0;32mnot\u001b[0m \u001b[0mself\u001b[0m\u001b[0;34m.\u001b[0m\u001b[0m_has_valid_type\u001b[0m\u001b[0;34m(\u001b[0m\u001b[0mk\u001b[0m\u001b[0;34m,\u001b[0m \u001b[0mi\u001b[0m\u001b[0;34m)\u001b[0m\u001b[0;34m:\u001b[0m\u001b[0;34m\u001b[0m\u001b[0m\n\u001b[0m\u001b[1;32m    190\u001b[0m                 raise ValueError(\"Location based indexing can only have [%s] \"\n\u001b[1;32m    191\u001b[0m                                  \"types\" % self._valid_types)\n",
      "\u001b[0;32m//anaconda/lib/python2.7/site-packages/pandas/core/indexing.pyc\u001b[0m in \u001b[0;36m_has_valid_type\u001b[0;34m(self, key, axis)\u001b[0m\n\u001b[1;32m   1597\u001b[0m             \u001b[0;32mreturn\u001b[0m \u001b[0mself\u001b[0m\u001b[0;34m.\u001b[0m\u001b[0m_is_valid_integer\u001b[0m\u001b[0;34m(\u001b[0m\u001b[0mkey\u001b[0m\u001b[0;34m,\u001b[0m \u001b[0maxis\u001b[0m\u001b[0;34m)\u001b[0m\u001b[0;34m\u001b[0m\u001b[0m\n\u001b[1;32m   1598\u001b[0m         \u001b[0;32melif\u001b[0m \u001b[0mis_list_like_indexer\u001b[0m\u001b[0;34m(\u001b[0m\u001b[0mkey\u001b[0m\u001b[0;34m)\u001b[0m\u001b[0;34m:\u001b[0m\u001b[0;34m\u001b[0m\u001b[0m\n\u001b[0;32m-> 1599\u001b[0;31m             \u001b[0;32mreturn\u001b[0m \u001b[0mself\u001b[0m\u001b[0;34m.\u001b[0m\u001b[0m_is_valid_list_like\u001b[0m\u001b[0;34m(\u001b[0m\u001b[0mkey\u001b[0m\u001b[0;34m,\u001b[0m \u001b[0maxis\u001b[0m\u001b[0;34m)\u001b[0m\u001b[0;34m\u001b[0m\u001b[0m\n\u001b[0m\u001b[1;32m   1600\u001b[0m         \u001b[0;32mreturn\u001b[0m \u001b[0mFalse\u001b[0m\u001b[0;34m\u001b[0m\u001b[0m\n\u001b[1;32m   1601\u001b[0m \u001b[0;34m\u001b[0m\u001b[0m\n",
      "\u001b[0;32m//anaconda/lib/python2.7/site-packages/pandas/core/indexing.pyc\u001b[0m in \u001b[0;36m_is_valid_list_like\u001b[0;34m(self, key, axis)\u001b[0m\n\u001b[1;32m   1646\u001b[0m         \u001b[0;31m# so don't treat a tuple as a valid indexer\u001b[0m\u001b[0;34m\u001b[0m\u001b[0;34m\u001b[0m\u001b[0m\n\u001b[1;32m   1647\u001b[0m         \u001b[0;32mif\u001b[0m \u001b[0misinstance\u001b[0m\u001b[0;34m(\u001b[0m\u001b[0mkey\u001b[0m\u001b[0;34m,\u001b[0m \u001b[0mtuple\u001b[0m\u001b[0;34m)\u001b[0m\u001b[0;34m:\u001b[0m\u001b[0;34m\u001b[0m\u001b[0m\n\u001b[0;32m-> 1648\u001b[0;31m             \u001b[0;32mraise\u001b[0m \u001b[0mIndexingError\u001b[0m\u001b[0;34m(\u001b[0m\u001b[0;34m'Too many indexers'\u001b[0m\u001b[0;34m)\u001b[0m\u001b[0;34m\u001b[0m\u001b[0m\n\u001b[0m\u001b[1;32m   1649\u001b[0m \u001b[0;34m\u001b[0m\u001b[0m\n\u001b[1;32m   1650\u001b[0m         \u001b[0;31m# coerce the key to not exceed the maximum size of the index\u001b[0m\u001b[0;34m\u001b[0m\u001b[0;34m\u001b[0m\u001b[0m\n",
      "\u001b[0;31mIndexingError\u001b[0m: Too many indexers"
     ]
    }
   ],
   "source": [
    "df2 = pd.DataFrame([df.iloc[i,:] for i in df.index if df.iloc[i,:]['s_rem'] > 0])"
   ]
  },
  {
   "cell_type": "code",
   "execution_count": 16,
   "metadata": {
    "collapsed": false
   },
   "outputs": [
    {
     "ename": "NameError",
     "evalue": "name 'df2' is not defined",
     "output_type": "error",
     "traceback": [
      "\u001b[0;31m---------------------------------------------------------------------------\u001b[0m",
      "\u001b[0;31mNameError\u001b[0m                                 Traceback (most recent call last)",
      "\u001b[0;32m<ipython-input-16-008b2f7b169b>\u001b[0m in \u001b[0;36m<module>\u001b[0;34m()\u001b[0m\n\u001b[0;32m----> 1\u001b[0;31m \u001b[0mdf2\u001b[0m\u001b[0;34m.\u001b[0m\u001b[0mcolumns\u001b[0m\u001b[0;34m\u001b[0m\u001b[0m\n\u001b[0m",
      "\u001b[0;31mNameError\u001b[0m: name 'df2' is not defined"
     ]
    }
   ],
   "source": [
    "df2.columns"
   ]
  },
  {
   "cell_type": "code",
   "execution_count": 7,
   "metadata": {
    "collapsed": false
   },
   "outputs": [],
   "source": [
    "sleep_cols = [u'DATE', u's_asleep_time', u's_awake', u's_awake_time', u's_awakenings',\n",
    "       u's_bedtime', u's_clinical_deep', u's_count', u's_deep', u's_duration',\n",
    "       u's_light', u's_quality', u's_rem', u's_to_bed_phr']"
   ]
  },
  {
   "cell_type": "code",
   "execution_count": 8,
   "metadata": {
    "collapsed": true
   },
   "outputs": [],
   "source": [
    "df_sleep = df2[sleep_cols]"
   ]
  },
  {
   "cell_type": "code",
   "execution_count": 9,
   "metadata": {
    "collapsed": false
   },
   "outputs": [
    {
     "data": {
      "text/html": [
       "<div>\n",
       "<style>\n",
       "    .dataframe thead tr:only-child th {\n",
       "        text-align: right;\n",
       "    }\n",
       "\n",
       "    .dataframe thead th {\n",
       "        text-align: left;\n",
       "    }\n",
       "\n",
       "    .dataframe tbody tr th {\n",
       "        vertical-align: top;\n",
       "    }\n",
       "</style>\n",
       "<table border=\"1\" class=\"dataframe\">\n",
       "  <thead>\n",
       "    <tr style=\"text-align: right;\">\n",
       "      <th></th>\n",
       "      <th>DATE</th>\n",
       "      <th>s_asleep_time</th>\n",
       "      <th>s_awake</th>\n",
       "      <th>s_awake_time</th>\n",
       "      <th>s_awakenings</th>\n",
       "      <th>s_bedtime</th>\n",
       "      <th>s_clinical_deep</th>\n",
       "      <th>s_count</th>\n",
       "      <th>s_deep</th>\n",
       "      <th>s_duration</th>\n",
       "      <th>s_light</th>\n",
       "      <th>s_quality</th>\n",
       "      <th>s_rem</th>\n",
       "      <th>s_to_bed_phr</th>\n",
       "    </tr>\n",
       "  </thead>\n",
       "  <tbody>\n",
       "    <tr>\n",
       "      <th>248</th>\n",
       "      <td>5603.0</td>\n",
       "      <td>3.6e+00</td>\n",
       "      <td>0.2</td>\n",
       "      <td>10.3</td>\n",
       "      <td>2.8e-04</td>\n",
       "      <td>3.5e+00</td>\n",
       "      <td>1.1</td>\n",
       "      <td>2.8e-04</td>\n",
       "      <td>0.0</td>\n",
       "      <td>6.6</td>\n",
       "      <td>3.4</td>\n",
       "      <td>0.0</td>\n",
       "      <td>2.1</td>\n",
       "      <td>1.7e-02</td>\n",
       "    </tr>\n",
       "    <tr>\n",
       "      <th>249</th>\n",
       "      <td>5603.0</td>\n",
       "      <td>-3.1e-01</td>\n",
       "      <td>0.5</td>\n",
       "      <td>10.1</td>\n",
       "      <td>2.8e-04</td>\n",
       "      <td>-6.4e-01</td>\n",
       "      <td>1.1</td>\n",
       "      <td>2.8e-04</td>\n",
       "      <td>0.0</td>\n",
       "      <td>10.3</td>\n",
       "      <td>5.6</td>\n",
       "      <td>0.0</td>\n",
       "      <td>3.5</td>\n",
       "      <td>1.6e-02</td>\n",
       "    </tr>\n",
       "    <tr>\n",
       "      <th>250</th>\n",
       "      <td>5603.0</td>\n",
       "      <td>1.6e+00</td>\n",
       "      <td>0.5</td>\n",
       "      <td>10.0</td>\n",
       "      <td>5.6e-04</td>\n",
       "      <td>1.5e+00</td>\n",
       "      <td>1.2</td>\n",
       "      <td>2.8e-04</td>\n",
       "      <td>0.0</td>\n",
       "      <td>8.1</td>\n",
       "      <td>5.1</td>\n",
       "      <td>0.0</td>\n",
       "      <td>1.8</td>\n",
       "      <td>0.0e+00</td>\n",
       "    </tr>\n",
       "    <tr>\n",
       "      <th>251</th>\n",
       "      <td>5603.0</td>\n",
       "      <td>3.1e+00</td>\n",
       "      <td>0.3</td>\n",
       "      <td>10.7</td>\n",
       "      <td>2.8e-04</td>\n",
       "      <td>3.0e+00</td>\n",
       "      <td>1.0</td>\n",
       "      <td>2.8e-04</td>\n",
       "      <td>0.0</td>\n",
       "      <td>7.4</td>\n",
       "      <td>3.9</td>\n",
       "      <td>0.0</td>\n",
       "      <td>2.5</td>\n",
       "      <td>1.6e-02</td>\n",
       "    </tr>\n",
       "    <tr>\n",
       "      <th>252</th>\n",
       "      <td>5603.0</td>\n",
       "      <td>1.3e+00</td>\n",
       "      <td>0.6</td>\n",
       "      <td>9.3</td>\n",
       "      <td>5.6e-04</td>\n",
       "      <td>1.2e+00</td>\n",
       "      <td>1.4</td>\n",
       "      <td>2.8e-04</td>\n",
       "      <td>0.0</td>\n",
       "      <td>7.7</td>\n",
       "      <td>5.1</td>\n",
       "      <td>0.0</td>\n",
       "      <td>1.2</td>\n",
       "      <td>1.7e-02</td>\n",
       "    </tr>\n",
       "    <tr>\n",
       "      <th>253</th>\n",
       "      <td>5603.0</td>\n",
       "      <td>7.4e-01</td>\n",
       "      <td>0.2</td>\n",
       "      <td>9.6</td>\n",
       "      <td>0.0e+00</td>\n",
       "      <td>6.6e-01</td>\n",
       "      <td>0.7</td>\n",
       "      <td>2.8e-04</td>\n",
       "      <td>0.0</td>\n",
       "      <td>8.8</td>\n",
       "      <td>6.5</td>\n",
       "      <td>0.0</td>\n",
       "      <td>1.7</td>\n",
       "      <td>1.7e-02</td>\n",
       "    </tr>\n",
       "    <tr>\n",
       "      <th>254</th>\n",
       "      <td>5603.0</td>\n",
       "      <td>6.6e-01</td>\n",
       "      <td>0.4</td>\n",
       "      <td>8.4</td>\n",
       "      <td>5.6e-04</td>\n",
       "      <td>5.0e-01</td>\n",
       "      <td>2.4</td>\n",
       "      <td>2.8e-04</td>\n",
       "      <td>0.0</td>\n",
       "      <td>7.5</td>\n",
       "      <td>3.8</td>\n",
       "      <td>0.0</td>\n",
       "      <td>1.3</td>\n",
       "      <td>1.9e-02</td>\n",
       "    </tr>\n",
       "    <tr>\n",
       "      <th>256</th>\n",
       "      <td>5603.0</td>\n",
       "      <td>5.1e-01</td>\n",
       "      <td>0.2</td>\n",
       "      <td>9.7</td>\n",
       "      <td>0.0e+00</td>\n",
       "      <td>3.3e-01</td>\n",
       "      <td>1.0</td>\n",
       "      <td>2.8e-04</td>\n",
       "      <td>0.0</td>\n",
       "      <td>9.2</td>\n",
       "      <td>5.7</td>\n",
       "      <td>0.0</td>\n",
       "      <td>2.5</td>\n",
       "      <td>0.0e+00</td>\n",
       "    </tr>\n",
       "    <tr>\n",
       "      <th>257</th>\n",
       "      <td>5603.0</td>\n",
       "      <td>-1.2e+00</td>\n",
       "      <td>0.2</td>\n",
       "      <td>5.8</td>\n",
       "      <td>0.0e+00</td>\n",
       "      <td>-1.4e+00</td>\n",
       "      <td>0.5</td>\n",
       "      <td>2.8e-04</td>\n",
       "      <td>0.0</td>\n",
       "      <td>7.0</td>\n",
       "      <td>4.5</td>\n",
       "      <td>0.0</td>\n",
       "      <td>2.0</td>\n",
       "      <td>0.0e+00</td>\n",
       "    </tr>\n",
       "    <tr>\n",
       "      <th>258</th>\n",
       "      <td>5603.0</td>\n",
       "      <td>1.5e+00</td>\n",
       "      <td>0.2</td>\n",
       "      <td>10.4</td>\n",
       "      <td>0.0e+00</td>\n",
       "      <td>1.3e+00</td>\n",
       "      <td>2.0</td>\n",
       "      <td>2.8e-04</td>\n",
       "      <td>0.0</td>\n",
       "      <td>8.9</td>\n",
       "      <td>3.9</td>\n",
       "      <td>0.0</td>\n",
       "      <td>2.9</td>\n",
       "      <td>1.9e-02</td>\n",
       "    </tr>\n",
       "    <tr>\n",
       "      <th>259</th>\n",
       "      <td>5603.0</td>\n",
       "      <td>-1.0e-02</td>\n",
       "      <td>0.3</td>\n",
       "      <td>9.6</td>\n",
       "      <td>0.0e+00</td>\n",
       "      <td>-2.7e-01</td>\n",
       "      <td>0.9</td>\n",
       "      <td>2.8e-04</td>\n",
       "      <td>0.0</td>\n",
       "      <td>9.6</td>\n",
       "      <td>6.5</td>\n",
       "      <td>0.0</td>\n",
       "      <td>2.2</td>\n",
       "      <td>1.9e-02</td>\n",
       "    </tr>\n",
       "    <tr>\n",
       "      <th>260</th>\n",
       "      <td>5603.0</td>\n",
       "      <td>2.0e-01</td>\n",
       "      <td>0.5</td>\n",
       "      <td>8.9</td>\n",
       "      <td>5.6e-04</td>\n",
       "      <td>3.5e-02</td>\n",
       "      <td>0.5</td>\n",
       "      <td>2.8e-04</td>\n",
       "      <td>0.0</td>\n",
       "      <td>8.3</td>\n",
       "      <td>5.7</td>\n",
       "      <td>0.0</td>\n",
       "      <td>2.2</td>\n",
       "      <td>0.0e+00</td>\n",
       "    </tr>\n",
       "    <tr>\n",
       "      <th>262</th>\n",
       "      <td>5603.0</td>\n",
       "      <td>5.0e-01</td>\n",
       "      <td>1.0</td>\n",
       "      <td>9.8</td>\n",
       "      <td>8.3e-04</td>\n",
       "      <td>3.5e-01</td>\n",
       "      <td>1.4</td>\n",
       "      <td>2.8e-04</td>\n",
       "      <td>0.0</td>\n",
       "      <td>8.5</td>\n",
       "      <td>2.9</td>\n",
       "      <td>0.0</td>\n",
       "      <td>4.2</td>\n",
       "      <td>0.0e+00</td>\n",
       "    </tr>\n",
       "    <tr>\n",
       "      <th>263</th>\n",
       "      <td>5603.0</td>\n",
       "      <td>1.0e+00</td>\n",
       "      <td>0.6</td>\n",
       "      <td>8.8</td>\n",
       "      <td>2.8e-04</td>\n",
       "      <td>7.2e-01</td>\n",
       "      <td>0.8</td>\n",
       "      <td>2.8e-04</td>\n",
       "      <td>0.0</td>\n",
       "      <td>7.7</td>\n",
       "      <td>4.4</td>\n",
       "      <td>0.0</td>\n",
       "      <td>2.5</td>\n",
       "      <td>0.0e+00</td>\n",
       "    </tr>\n",
       "    <tr>\n",
       "      <th>264</th>\n",
       "      <td>5603.0</td>\n",
       "      <td>2.8e+00</td>\n",
       "      <td>1.9</td>\n",
       "      <td>7.7</td>\n",
       "      <td>1.1e-03</td>\n",
       "      <td>2.2e+00</td>\n",
       "      <td>0.3</td>\n",
       "      <td>2.8e-04</td>\n",
       "      <td>0.0</td>\n",
       "      <td>3.8</td>\n",
       "      <td>3.2</td>\n",
       "      <td>0.0</td>\n",
       "      <td>0.3</td>\n",
       "      <td>0.0e+00</td>\n",
       "    </tr>\n",
       "    <tr>\n",
       "      <th>265</th>\n",
       "      <td>5603.0</td>\n",
       "      <td>-8.5e-01</td>\n",
       "      <td>1.8</td>\n",
       "      <td>8.0</td>\n",
       "      <td>1.4e-03</td>\n",
       "      <td>-1.0e+00</td>\n",
       "      <td>0.9</td>\n",
       "      <td>2.8e-04</td>\n",
       "      <td>0.0</td>\n",
       "      <td>7.3</td>\n",
       "      <td>3.9</td>\n",
       "      <td>0.0</td>\n",
       "      <td>2.5</td>\n",
       "      <td>1.8e-02</td>\n",
       "    </tr>\n",
       "    <tr>\n",
       "      <th>266</th>\n",
       "      <td>5603.0</td>\n",
       "      <td>1.9e+00</td>\n",
       "      <td>0.8</td>\n",
       "      <td>8.4</td>\n",
       "      <td>2.8e-04</td>\n",
       "      <td>1.7e+00</td>\n",
       "      <td>1.1</td>\n",
       "      <td>2.8e-04</td>\n",
       "      <td>0.0</td>\n",
       "      <td>6.4</td>\n",
       "      <td>3.6</td>\n",
       "      <td>0.0</td>\n",
       "      <td>1.7</td>\n",
       "      <td>2.1e-02</td>\n",
       "    </tr>\n",
       "    <tr>\n",
       "      <th>268</th>\n",
       "      <td>5603.0</td>\n",
       "      <td>2.8e+00</td>\n",
       "      <td>1.2</td>\n",
       "      <td>9.7</td>\n",
       "      <td>2.8e-04</td>\n",
       "      <td>2.5e+00</td>\n",
       "      <td>1.3</td>\n",
       "      <td>2.8e-04</td>\n",
       "      <td>0.0</td>\n",
       "      <td>6.0</td>\n",
       "      <td>3.2</td>\n",
       "      <td>0.0</td>\n",
       "      <td>1.4</td>\n",
       "      <td>1.7e-02</td>\n",
       "    </tr>\n",
       "    <tr>\n",
       "      <th>269</th>\n",
       "      <td>5603.0</td>\n",
       "      <td>8.3e-01</td>\n",
       "      <td>0.4</td>\n",
       "      <td>8.4</td>\n",
       "      <td>2.8e-04</td>\n",
       "      <td>4.9e-01</td>\n",
       "      <td>1.0</td>\n",
       "      <td>2.8e-04</td>\n",
       "      <td>0.0</td>\n",
       "      <td>7.4</td>\n",
       "      <td>3.8</td>\n",
       "      <td>0.0</td>\n",
       "      <td>2.7</td>\n",
       "      <td>1.7e-02</td>\n",
       "    </tr>\n",
       "    <tr>\n",
       "      <th>270</th>\n",
       "      <td>5603.0</td>\n",
       "      <td>8.8e-01</td>\n",
       "      <td>0.2</td>\n",
       "      <td>9.5</td>\n",
       "      <td>2.8e-04</td>\n",
       "      <td>7.7e-01</td>\n",
       "      <td>0.7</td>\n",
       "      <td>2.8e-04</td>\n",
       "      <td>0.0</td>\n",
       "      <td>8.5</td>\n",
       "      <td>5.0</td>\n",
       "      <td>0.0</td>\n",
       "      <td>2.8</td>\n",
       "      <td>2.6e-02</td>\n",
       "    </tr>\n",
       "    <tr>\n",
       "      <th>271</th>\n",
       "      <td>5603.0</td>\n",
       "      <td>-4.8e-01</td>\n",
       "      <td>0.4</td>\n",
       "      <td>8.5</td>\n",
       "      <td>2.8e-04</td>\n",
       "      <td>-6.5e-01</td>\n",
       "      <td>0.7</td>\n",
       "      <td>2.8e-04</td>\n",
       "      <td>0.0</td>\n",
       "      <td>8.8</td>\n",
       "      <td>6.8</td>\n",
       "      <td>0.0</td>\n",
       "      <td>1.3</td>\n",
       "      <td>2.0e-02</td>\n",
       "    </tr>\n",
       "    <tr>\n",
       "      <th>272</th>\n",
       "      <td>5603.0</td>\n",
       "      <td>6.8e-01</td>\n",
       "      <td>1.1</td>\n",
       "      <td>8.7</td>\n",
       "      <td>0.0e+00</td>\n",
       "      <td>-3.7e-01</td>\n",
       "      <td>1.4</td>\n",
       "      <td>2.8e-04</td>\n",
       "      <td>0.0</td>\n",
       "      <td>8.0</td>\n",
       "      <td>5.3</td>\n",
       "      <td>0.0</td>\n",
       "      <td>1.3</td>\n",
       "      <td>1.5e-02</td>\n",
       "    </tr>\n",
       "    <tr>\n",
       "      <th>273</th>\n",
       "      <td>5603.1</td>\n",
       "      <td>3.7e+00</td>\n",
       "      <td>0.2</td>\n",
       "      <td>10.6</td>\n",
       "      <td>0.0e+00</td>\n",
       "      <td>3.5e+00</td>\n",
       "      <td>1.1</td>\n",
       "      <td>2.8e-04</td>\n",
       "      <td>0.0</td>\n",
       "      <td>6.9</td>\n",
       "      <td>3.1</td>\n",
       "      <td>0.0</td>\n",
       "      <td>2.7</td>\n",
       "      <td>1.8e-02</td>\n",
       "    </tr>\n",
       "    <tr>\n",
       "      <th>274</th>\n",
       "      <td>5603.1</td>\n",
       "      <td>5.9e+00</td>\n",
       "      <td>0.3</td>\n",
       "      <td>11.9</td>\n",
       "      <td>2.8e-04</td>\n",
       "      <td>5.7e+00</td>\n",
       "      <td>1.8</td>\n",
       "      <td>2.8e-04</td>\n",
       "      <td>0.0</td>\n",
       "      <td>5.8</td>\n",
       "      <td>2.2</td>\n",
       "      <td>0.0</td>\n",
       "      <td>1.8</td>\n",
       "      <td>2.1e-02</td>\n",
       "    </tr>\n",
       "    <tr>\n",
       "      <th>275</th>\n",
       "      <td>5603.1</td>\n",
       "      <td>1.3e-01</td>\n",
       "      <td>0.8</td>\n",
       "      <td>9.0</td>\n",
       "      <td>5.6e-04</td>\n",
       "      <td>-4.5e-01</td>\n",
       "      <td>2.3</td>\n",
       "      <td>2.8e-04</td>\n",
       "      <td>0.0</td>\n",
       "      <td>8.7</td>\n",
       "      <td>3.4</td>\n",
       "      <td>0.0</td>\n",
       "      <td>3.0</td>\n",
       "      <td>0.0e+00</td>\n",
       "    </tr>\n",
       "    <tr>\n",
       "      <th>277</th>\n",
       "      <td>5603.1</td>\n",
       "      <td>5.7e-01</td>\n",
       "      <td>0.6</td>\n",
       "      <td>10.5</td>\n",
       "      <td>5.6e-04</td>\n",
       "      <td>3.3e-01</td>\n",
       "      <td>2.7</td>\n",
       "      <td>2.8e-04</td>\n",
       "      <td>0.0</td>\n",
       "      <td>9.6</td>\n",
       "      <td>4.8</td>\n",
       "      <td>0.0</td>\n",
       "      <td>2.1</td>\n",
       "      <td>0.0e+00</td>\n",
       "    </tr>\n",
       "    <tr>\n",
       "      <th>278</th>\n",
       "      <td>5603.1</td>\n",
       "      <td>2.5e+00</td>\n",
       "      <td>1.4</td>\n",
       "      <td>8.8</td>\n",
       "      <td>5.6e-04</td>\n",
       "      <td>2.4e+00</td>\n",
       "      <td>1.0</td>\n",
       "      <td>2.8e-04</td>\n",
       "      <td>0.0</td>\n",
       "      <td>5.1</td>\n",
       "      <td>1.9</td>\n",
       "      <td>0.0</td>\n",
       "      <td>2.2</td>\n",
       "      <td>0.0e+00</td>\n",
       "    </tr>\n",
       "    <tr>\n",
       "      <th>280</th>\n",
       "      <td>5603.1</td>\n",
       "      <td>-7.1e-01</td>\n",
       "      <td>0.6</td>\n",
       "      <td>9.0</td>\n",
       "      <td>5.6e-04</td>\n",
       "      <td>-1.0e+00</td>\n",
       "      <td>1.7</td>\n",
       "      <td>2.8e-04</td>\n",
       "      <td>0.0</td>\n",
       "      <td>9.5</td>\n",
       "      <td>5.4</td>\n",
       "      <td>0.0</td>\n",
       "      <td>2.3</td>\n",
       "      <td>1.6e-02</td>\n",
       "    </tr>\n",
       "    <tr>\n",
       "      <th>281</th>\n",
       "      <td>5603.1</td>\n",
       "      <td>1.8e-01</td>\n",
       "      <td>0.5</td>\n",
       "      <td>9.3</td>\n",
       "      <td>5.6e-04</td>\n",
       "      <td>-8.6e-03</td>\n",
       "      <td>1.6</td>\n",
       "      <td>2.8e-04</td>\n",
       "      <td>0.0</td>\n",
       "      <td>8.9</td>\n",
       "      <td>5.9</td>\n",
       "      <td>0.0</td>\n",
       "      <td>1.4</td>\n",
       "      <td>0.0e+00</td>\n",
       "    </tr>\n",
       "    <tr>\n",
       "      <th>282</th>\n",
       "      <td>5603.1</td>\n",
       "      <td>1.3e+00</td>\n",
       "      <td>0.7</td>\n",
       "      <td>9.8</td>\n",
       "      <td>0.0e+00</td>\n",
       "      <td>7.1e-01</td>\n",
       "      <td>1.4</td>\n",
       "      <td>2.8e-04</td>\n",
       "      <td>0.0</td>\n",
       "      <td>8.5</td>\n",
       "      <td>4.6</td>\n",
       "      <td>0.0</td>\n",
       "      <td>2.5</td>\n",
       "      <td>1.9e-02</td>\n",
       "    </tr>\n",
       "  </tbody>\n",
       "</table>\n",
       "</div>"
      ],
      "text/plain": [
       "       DATE  s_asleep_time  s_awake  s_awake_time  s_awakenings  s_bedtime  \\\n",
       "248  5603.0        3.6e+00      0.2          10.3       2.8e-04    3.5e+00   \n",
       "249  5603.0       -3.1e-01      0.5          10.1       2.8e-04   -6.4e-01   \n",
       "250  5603.0        1.6e+00      0.5          10.0       5.6e-04    1.5e+00   \n",
       "251  5603.0        3.1e+00      0.3          10.7       2.8e-04    3.0e+00   \n",
       "252  5603.0        1.3e+00      0.6           9.3       5.6e-04    1.2e+00   \n",
       "253  5603.0        7.4e-01      0.2           9.6       0.0e+00    6.6e-01   \n",
       "254  5603.0        6.6e-01      0.4           8.4       5.6e-04    5.0e-01   \n",
       "256  5603.0        5.1e-01      0.2           9.7       0.0e+00    3.3e-01   \n",
       "257  5603.0       -1.2e+00      0.2           5.8       0.0e+00   -1.4e+00   \n",
       "258  5603.0        1.5e+00      0.2          10.4       0.0e+00    1.3e+00   \n",
       "259  5603.0       -1.0e-02      0.3           9.6       0.0e+00   -2.7e-01   \n",
       "260  5603.0        2.0e-01      0.5           8.9       5.6e-04    3.5e-02   \n",
       "262  5603.0        5.0e-01      1.0           9.8       8.3e-04    3.5e-01   \n",
       "263  5603.0        1.0e+00      0.6           8.8       2.8e-04    7.2e-01   \n",
       "264  5603.0        2.8e+00      1.9           7.7       1.1e-03    2.2e+00   \n",
       "265  5603.0       -8.5e-01      1.8           8.0       1.4e-03   -1.0e+00   \n",
       "266  5603.0        1.9e+00      0.8           8.4       2.8e-04    1.7e+00   \n",
       "268  5603.0        2.8e+00      1.2           9.7       2.8e-04    2.5e+00   \n",
       "269  5603.0        8.3e-01      0.4           8.4       2.8e-04    4.9e-01   \n",
       "270  5603.0        8.8e-01      0.2           9.5       2.8e-04    7.7e-01   \n",
       "271  5603.0       -4.8e-01      0.4           8.5       2.8e-04   -6.5e-01   \n",
       "272  5603.0        6.8e-01      1.1           8.7       0.0e+00   -3.7e-01   \n",
       "273  5603.1        3.7e+00      0.2          10.6       0.0e+00    3.5e+00   \n",
       "274  5603.1        5.9e+00      0.3          11.9       2.8e-04    5.7e+00   \n",
       "275  5603.1        1.3e-01      0.8           9.0       5.6e-04   -4.5e-01   \n",
       "277  5603.1        5.7e-01      0.6          10.5       5.6e-04    3.3e-01   \n",
       "278  5603.1        2.5e+00      1.4           8.8       5.6e-04    2.4e+00   \n",
       "280  5603.1       -7.1e-01      0.6           9.0       5.6e-04   -1.0e+00   \n",
       "281  5603.1        1.8e-01      0.5           9.3       5.6e-04   -8.6e-03   \n",
       "282  5603.1        1.3e+00      0.7           9.8       0.0e+00    7.1e-01   \n",
       "\n",
       "     s_clinical_deep  s_count  s_deep  s_duration  s_light  s_quality  s_rem  \\\n",
       "248              1.1  2.8e-04     0.0         6.6      3.4        0.0    2.1   \n",
       "249              1.1  2.8e-04     0.0        10.3      5.6        0.0    3.5   \n",
       "250              1.2  2.8e-04     0.0         8.1      5.1        0.0    1.8   \n",
       "251              1.0  2.8e-04     0.0         7.4      3.9        0.0    2.5   \n",
       "252              1.4  2.8e-04     0.0         7.7      5.1        0.0    1.2   \n",
       "253              0.7  2.8e-04     0.0         8.8      6.5        0.0    1.7   \n",
       "254              2.4  2.8e-04     0.0         7.5      3.8        0.0    1.3   \n",
       "256              1.0  2.8e-04     0.0         9.2      5.7        0.0    2.5   \n",
       "257              0.5  2.8e-04     0.0         7.0      4.5        0.0    2.0   \n",
       "258              2.0  2.8e-04     0.0         8.9      3.9        0.0    2.9   \n",
       "259              0.9  2.8e-04     0.0         9.6      6.5        0.0    2.2   \n",
       "260              0.5  2.8e-04     0.0         8.3      5.7        0.0    2.2   \n",
       "262              1.4  2.8e-04     0.0         8.5      2.9        0.0    4.2   \n",
       "263              0.8  2.8e-04     0.0         7.7      4.4        0.0    2.5   \n",
       "264              0.3  2.8e-04     0.0         3.8      3.2        0.0    0.3   \n",
       "265              0.9  2.8e-04     0.0         7.3      3.9        0.0    2.5   \n",
       "266              1.1  2.8e-04     0.0         6.4      3.6        0.0    1.7   \n",
       "268              1.3  2.8e-04     0.0         6.0      3.2        0.0    1.4   \n",
       "269              1.0  2.8e-04     0.0         7.4      3.8        0.0    2.7   \n",
       "270              0.7  2.8e-04     0.0         8.5      5.0        0.0    2.8   \n",
       "271              0.7  2.8e-04     0.0         8.8      6.8        0.0    1.3   \n",
       "272              1.4  2.8e-04     0.0         8.0      5.3        0.0    1.3   \n",
       "273              1.1  2.8e-04     0.0         6.9      3.1        0.0    2.7   \n",
       "274              1.8  2.8e-04     0.0         5.8      2.2        0.0    1.8   \n",
       "275              2.3  2.8e-04     0.0         8.7      3.4        0.0    3.0   \n",
       "277              2.7  2.8e-04     0.0         9.6      4.8        0.0    2.1   \n",
       "278              1.0  2.8e-04     0.0         5.1      1.9        0.0    2.2   \n",
       "280              1.7  2.8e-04     0.0         9.5      5.4        0.0    2.3   \n",
       "281              1.6  2.8e-04     0.0         8.9      5.9        0.0    1.4   \n",
       "282              1.4  2.8e-04     0.0         8.5      4.6        0.0    2.5   \n",
       "\n",
       "     s_to_bed_phr  \n",
       "248       1.7e-02  \n",
       "249       1.6e-02  \n",
       "250       0.0e+00  \n",
       "251       1.6e-02  \n",
       "252       1.7e-02  \n",
       "253       1.7e-02  \n",
       "254       1.9e-02  \n",
       "256       0.0e+00  \n",
       "257       0.0e+00  \n",
       "258       1.9e-02  \n",
       "259       1.9e-02  \n",
       "260       0.0e+00  \n",
       "262       0.0e+00  \n",
       "263       0.0e+00  \n",
       "264       0.0e+00  \n",
       "265       1.8e-02  \n",
       "266       2.1e-02  \n",
       "268       1.7e-02  \n",
       "269       1.7e-02  \n",
       "270       2.6e-02  \n",
       "271       2.0e-02  \n",
       "272       1.5e-02  \n",
       "273       1.8e-02  \n",
       "274       2.1e-02  \n",
       "275       0.0e+00  \n",
       "277       0.0e+00  \n",
       "278       0.0e+00  \n",
       "280       1.6e-02  \n",
       "281       0.0e+00  \n",
       "282       1.9e-02  "
      ]
     },
     "execution_count": 9,
     "metadata": {},
     "output_type": "execute_result"
    }
   ],
   "source": [
    "df_sleep/3600."
   ]
  },
  {
   "cell_type": "code",
   "execution_count": 10,
   "metadata": {
    "collapsed": true
   },
   "outputs": [],
   "source": [
    "cycle_cols = [u's_light', u's_clinical_deep', u's_rem', u's_duration', u's_asleep_time']"
   ]
  },
  {
   "cell_type": "code",
   "execution_count": 11,
   "metadata": {
    "collapsed": false
   },
   "outputs": [
    {
     "data": {
      "text/html": [
       "<div>\n",
       "<style>\n",
       "    .dataframe thead tr:only-child th {\n",
       "        text-align: right;\n",
       "    }\n",
       "\n",
       "    .dataframe thead th {\n",
       "        text-align: left;\n",
       "    }\n",
       "\n",
       "    .dataframe tbody tr th {\n",
       "        vertical-align: top;\n",
       "    }\n",
       "</style>\n",
       "<table border=\"1\" class=\"dataframe\">\n",
       "  <thead>\n",
       "    <tr style=\"text-align: right;\">\n",
       "      <th></th>\n",
       "      <th>s_light</th>\n",
       "      <th>s_clinical_deep</th>\n",
       "      <th>s_rem</th>\n",
       "      <th>s_duration</th>\n",
       "      <th>s_asleep_time</th>\n",
       "    </tr>\n",
       "  </thead>\n",
       "  <tbody>\n",
       "    <tr>\n",
       "      <th>248</th>\n",
       "      <td>3.4</td>\n",
       "      <td>1.1</td>\n",
       "      <td>2.1</td>\n",
       "      <td>6.6</td>\n",
       "      <td>3.6e+00</td>\n",
       "    </tr>\n",
       "    <tr>\n",
       "      <th>249</th>\n",
       "      <td>5.6</td>\n",
       "      <td>1.1</td>\n",
       "      <td>3.5</td>\n",
       "      <td>10.3</td>\n",
       "      <td>-3.1e-01</td>\n",
       "    </tr>\n",
       "    <tr>\n",
       "      <th>250</th>\n",
       "      <td>5.1</td>\n",
       "      <td>1.2</td>\n",
       "      <td>1.8</td>\n",
       "      <td>8.1</td>\n",
       "      <td>1.6e+00</td>\n",
       "    </tr>\n",
       "    <tr>\n",
       "      <th>251</th>\n",
       "      <td>3.9</td>\n",
       "      <td>1.0</td>\n",
       "      <td>2.5</td>\n",
       "      <td>7.4</td>\n",
       "      <td>3.1e+00</td>\n",
       "    </tr>\n",
       "    <tr>\n",
       "      <th>252</th>\n",
       "      <td>5.1</td>\n",
       "      <td>1.4</td>\n",
       "      <td>1.2</td>\n",
       "      <td>7.7</td>\n",
       "      <td>1.3e+00</td>\n",
       "    </tr>\n",
       "    <tr>\n",
       "      <th>253</th>\n",
       "      <td>6.5</td>\n",
       "      <td>0.7</td>\n",
       "      <td>1.7</td>\n",
       "      <td>8.8</td>\n",
       "      <td>7.4e-01</td>\n",
       "    </tr>\n",
       "    <tr>\n",
       "      <th>254</th>\n",
       "      <td>3.8</td>\n",
       "      <td>2.4</td>\n",
       "      <td>1.3</td>\n",
       "      <td>7.5</td>\n",
       "      <td>6.6e-01</td>\n",
       "    </tr>\n",
       "    <tr>\n",
       "      <th>256</th>\n",
       "      <td>5.7</td>\n",
       "      <td>1.0</td>\n",
       "      <td>2.5</td>\n",
       "      <td>9.2</td>\n",
       "      <td>5.1e-01</td>\n",
       "    </tr>\n",
       "    <tr>\n",
       "      <th>257</th>\n",
       "      <td>4.5</td>\n",
       "      <td>0.5</td>\n",
       "      <td>2.0</td>\n",
       "      <td>7.0</td>\n",
       "      <td>-1.2e+00</td>\n",
       "    </tr>\n",
       "    <tr>\n",
       "      <th>258</th>\n",
       "      <td>3.9</td>\n",
       "      <td>2.0</td>\n",
       "      <td>2.9</td>\n",
       "      <td>8.9</td>\n",
       "      <td>1.5e+00</td>\n",
       "    </tr>\n",
       "    <tr>\n",
       "      <th>259</th>\n",
       "      <td>6.5</td>\n",
       "      <td>0.9</td>\n",
       "      <td>2.2</td>\n",
       "      <td>9.6</td>\n",
       "      <td>-1.0e-02</td>\n",
       "    </tr>\n",
       "    <tr>\n",
       "      <th>260</th>\n",
       "      <td>5.7</td>\n",
       "      <td>0.5</td>\n",
       "      <td>2.2</td>\n",
       "      <td>8.3</td>\n",
       "      <td>2.0e-01</td>\n",
       "    </tr>\n",
       "    <tr>\n",
       "      <th>262</th>\n",
       "      <td>2.9</td>\n",
       "      <td>1.4</td>\n",
       "      <td>4.2</td>\n",
       "      <td>8.5</td>\n",
       "      <td>5.0e-01</td>\n",
       "    </tr>\n",
       "    <tr>\n",
       "      <th>263</th>\n",
       "      <td>4.4</td>\n",
       "      <td>0.8</td>\n",
       "      <td>2.5</td>\n",
       "      <td>7.7</td>\n",
       "      <td>1.0e+00</td>\n",
       "    </tr>\n",
       "    <tr>\n",
       "      <th>264</th>\n",
       "      <td>3.2</td>\n",
       "      <td>0.3</td>\n",
       "      <td>0.3</td>\n",
       "      <td>3.8</td>\n",
       "      <td>2.8e+00</td>\n",
       "    </tr>\n",
       "    <tr>\n",
       "      <th>265</th>\n",
       "      <td>3.9</td>\n",
       "      <td>0.9</td>\n",
       "      <td>2.5</td>\n",
       "      <td>7.3</td>\n",
       "      <td>-8.5e-01</td>\n",
       "    </tr>\n",
       "    <tr>\n",
       "      <th>266</th>\n",
       "      <td>3.6</td>\n",
       "      <td>1.1</td>\n",
       "      <td>1.7</td>\n",
       "      <td>6.4</td>\n",
       "      <td>1.9e+00</td>\n",
       "    </tr>\n",
       "    <tr>\n",
       "      <th>268</th>\n",
       "      <td>3.2</td>\n",
       "      <td>1.3</td>\n",
       "      <td>1.4</td>\n",
       "      <td>6.0</td>\n",
       "      <td>2.8e+00</td>\n",
       "    </tr>\n",
       "    <tr>\n",
       "      <th>269</th>\n",
       "      <td>3.8</td>\n",
       "      <td>1.0</td>\n",
       "      <td>2.7</td>\n",
       "      <td>7.4</td>\n",
       "      <td>8.3e-01</td>\n",
       "    </tr>\n",
       "    <tr>\n",
       "      <th>270</th>\n",
       "      <td>5.0</td>\n",
       "      <td>0.7</td>\n",
       "      <td>2.8</td>\n",
       "      <td>8.5</td>\n",
       "      <td>8.8e-01</td>\n",
       "    </tr>\n",
       "    <tr>\n",
       "      <th>271</th>\n",
       "      <td>6.8</td>\n",
       "      <td>0.7</td>\n",
       "      <td>1.3</td>\n",
       "      <td>8.8</td>\n",
       "      <td>-4.8e-01</td>\n",
       "    </tr>\n",
       "    <tr>\n",
       "      <th>272</th>\n",
       "      <td>5.3</td>\n",
       "      <td>1.4</td>\n",
       "      <td>1.3</td>\n",
       "      <td>8.0</td>\n",
       "      <td>6.8e-01</td>\n",
       "    </tr>\n",
       "    <tr>\n",
       "      <th>273</th>\n",
       "      <td>3.1</td>\n",
       "      <td>1.1</td>\n",
       "      <td>2.7</td>\n",
       "      <td>6.9</td>\n",
       "      <td>3.7e+00</td>\n",
       "    </tr>\n",
       "    <tr>\n",
       "      <th>274</th>\n",
       "      <td>2.2</td>\n",
       "      <td>1.8</td>\n",
       "      <td>1.8</td>\n",
       "      <td>5.8</td>\n",
       "      <td>5.9e+00</td>\n",
       "    </tr>\n",
       "    <tr>\n",
       "      <th>275</th>\n",
       "      <td>3.4</td>\n",
       "      <td>2.3</td>\n",
       "      <td>3.0</td>\n",
       "      <td>8.7</td>\n",
       "      <td>1.3e-01</td>\n",
       "    </tr>\n",
       "    <tr>\n",
       "      <th>277</th>\n",
       "      <td>4.8</td>\n",
       "      <td>2.7</td>\n",
       "      <td>2.1</td>\n",
       "      <td>9.6</td>\n",
       "      <td>5.7e-01</td>\n",
       "    </tr>\n",
       "    <tr>\n",
       "      <th>278</th>\n",
       "      <td>1.9</td>\n",
       "      <td>1.0</td>\n",
       "      <td>2.2</td>\n",
       "      <td>5.1</td>\n",
       "      <td>2.5e+00</td>\n",
       "    </tr>\n",
       "    <tr>\n",
       "      <th>280</th>\n",
       "      <td>5.4</td>\n",
       "      <td>1.7</td>\n",
       "      <td>2.3</td>\n",
       "      <td>9.5</td>\n",
       "      <td>-7.1e-01</td>\n",
       "    </tr>\n",
       "    <tr>\n",
       "      <th>281</th>\n",
       "      <td>5.9</td>\n",
       "      <td>1.6</td>\n",
       "      <td>1.4</td>\n",
       "      <td>8.9</td>\n",
       "      <td>1.8e-01</td>\n",
       "    </tr>\n",
       "    <tr>\n",
       "      <th>282</th>\n",
       "      <td>4.6</td>\n",
       "      <td>1.4</td>\n",
       "      <td>2.5</td>\n",
       "      <td>8.5</td>\n",
       "      <td>1.3e+00</td>\n",
       "    </tr>\n",
       "  </tbody>\n",
       "</table>\n",
       "</div>"
      ],
      "text/plain": [
       "     s_light  s_clinical_deep  s_rem  s_duration  s_asleep_time\n",
       "248      3.4              1.1    2.1         6.6        3.6e+00\n",
       "249      5.6              1.1    3.5        10.3       -3.1e-01\n",
       "250      5.1              1.2    1.8         8.1        1.6e+00\n",
       "251      3.9              1.0    2.5         7.4        3.1e+00\n",
       "252      5.1              1.4    1.2         7.7        1.3e+00\n",
       "253      6.5              0.7    1.7         8.8        7.4e-01\n",
       "254      3.8              2.4    1.3         7.5        6.6e-01\n",
       "256      5.7              1.0    2.5         9.2        5.1e-01\n",
       "257      4.5              0.5    2.0         7.0       -1.2e+00\n",
       "258      3.9              2.0    2.9         8.9        1.5e+00\n",
       "259      6.5              0.9    2.2         9.6       -1.0e-02\n",
       "260      5.7              0.5    2.2         8.3        2.0e-01\n",
       "262      2.9              1.4    4.2         8.5        5.0e-01\n",
       "263      4.4              0.8    2.5         7.7        1.0e+00\n",
       "264      3.2              0.3    0.3         3.8        2.8e+00\n",
       "265      3.9              0.9    2.5         7.3       -8.5e-01\n",
       "266      3.6              1.1    1.7         6.4        1.9e+00\n",
       "268      3.2              1.3    1.4         6.0        2.8e+00\n",
       "269      3.8              1.0    2.7         7.4        8.3e-01\n",
       "270      5.0              0.7    2.8         8.5        8.8e-01\n",
       "271      6.8              0.7    1.3         8.8       -4.8e-01\n",
       "272      5.3              1.4    1.3         8.0        6.8e-01\n",
       "273      3.1              1.1    2.7         6.9        3.7e+00\n",
       "274      2.2              1.8    1.8         5.8        5.9e+00\n",
       "275      3.4              2.3    3.0         8.7        1.3e-01\n",
       "277      4.8              2.7    2.1         9.6        5.7e-01\n",
       "278      1.9              1.0    2.2         5.1        2.5e+00\n",
       "280      5.4              1.7    2.3         9.5       -7.1e-01\n",
       "281      5.9              1.6    1.4         8.9        1.8e-01\n",
       "282      4.6              1.4    2.5         8.5        1.3e+00"
      ]
     },
     "execution_count": 11,
     "metadata": {},
     "output_type": "execute_result"
    }
   ],
   "source": [
    "df_sleep[cycle_cols]/3600"
   ]
  },
  {
   "cell_type": "code",
   "execution_count": 12,
   "metadata": {
    "collapsed": true
   },
   "outputs": [],
   "source": [
    "df_sleep2 = df_sleep[cycle_cols] / 60."
   ]
  },
  {
   "cell_type": "code",
   "execution_count": 13,
   "metadata": {
    "collapsed": false
   },
   "outputs": [
    {
     "data": {
      "image/png": "[encoded data removed]",
      "text/plain": [
       "<matplotlib.figure.Figure at 0x116118710>"
      ]
     },
     "metadata": {},
     "output_type": "display_data"
    }
   ],
   "source": [
    "plt.figure(figsize=(10,10))\n",
    "for col in df_sleep2.columns[:3]:\n",
    "    plt.plot(df_sleep2.loc[:,col],'o-',label=col[2:])\n",
    "plt.legend();\n",
    "plt.title('Minutes of each phase');"
   ]
  },
  {
   "cell_type": "code",
   "execution_count": 14,
   "metadata": {
    "collapsed": true
   },
   "outputs": [],
   "source": [
    "df_sleep3 = df_sleep2.copy()\n",
    "for col in df_sleep3.columns[:3]:\n",
    "    df_sleep3.loc[:,col] = 100. * df_sleep2.loc[:,col] / df_sleep2['s_duration']"
   ]
  },
  {
   "cell_type": "code",
   "execution_count": 15,
   "metadata": {
    "collapsed": false
   },
   "outputs": [
    {
     "data": {
      "image/png": "[encoded data removed]",
      "text/plain": [
       "<matplotlib.figure.Figure at 0x1029daed0>"
      ]
     },
     "metadata": {},
     "output_type": "display_data"
    }
   ],
   "source": [
    "plt.figure(figsize=(10,10))\n",
    "for col in df_sleep3.columns[:3]:\n",
    "    plt.plot(df_sleep3.loc[:,col],'o-',label=col[2:])\n",
    "plt.legend();\n",
    "plt.title('% of each phase');"
   ]
  },
  {
   "cell_type": "code",
   "execution_count": 16,
   "metadata": {
    "collapsed": false
   },
   "outputs": [
    {
     "data": {
      "text/html": [
       "<div>\n",
       "<style>\n",
       "    .dataframe thead tr:only-child th {\n",
       "        text-align: right;\n",
       "    }\n",
       "\n",
       "    .dataframe thead th {\n",
       "        text-align: left;\n",
       "    }\n",
       "\n",
       "    .dataframe tbody tr th {\n",
       "        vertical-align: top;\n",
       "    }\n",
       "</style>\n",
       "<table border=\"1\" class=\"dataframe\">\n",
       "  <thead>\n",
       "    <tr style=\"text-align: right;\">\n",
       "      <th></th>\n",
       "      <th>s_light</th>\n",
       "      <th>s_clinical_deep</th>\n",
       "      <th>s_rem</th>\n",
       "      <th>s_duration</th>\n",
       "      <th>s_asleep_time</th>\n",
       "    </tr>\n",
       "  </thead>\n",
       "  <tbody>\n",
       "    <tr>\n",
       "      <th>count</th>\n",
       "      <td>30.0</td>\n",
       "      <td>30.0</td>\n",
       "      <td>30.0</td>\n",
       "      <td>30.0</td>\n",
       "      <td>30.0</td>\n",
       "    </tr>\n",
       "    <tr>\n",
       "      <th>mean</th>\n",
       "      <td>266.4</td>\n",
       "      <td>74.1</td>\n",
       "      <td>129.4</td>\n",
       "      <td>469.9</td>\n",
       "      <td>70.9</td>\n",
       "    </tr>\n",
       "    <tr>\n",
       "      <th>std</th>\n",
       "      <td>76.5</td>\n",
       "      <td>34.8</td>\n",
       "      <td>46.2</td>\n",
       "      <td>86.5</td>\n",
       "      <td>94.1</td>\n",
       "    </tr>\n",
       "    <tr>\n",
       "      <th>min</th>\n",
       "      <td>112.2</td>\n",
       "      <td>20.2</td>\n",
       "      <td>16.6</td>\n",
       "      <td>229.2</td>\n",
       "      <td>-74.1</td>\n",
       "    </tr>\n",
       "    <tr>\n",
       "      <th>25%</th>\n",
       "      <td>209.2</td>\n",
       "      <td>53.7</td>\n",
       "      <td>100.6</td>\n",
       "      <td>426.3</td>\n",
       "      <td>11.1</td>\n",
       "    </tr>\n",
       "    <tr>\n",
       "      <th>50%</th>\n",
       "      <td>266.8</td>\n",
       "      <td>66.1</td>\n",
       "      <td>131.0</td>\n",
       "      <td>484.6</td>\n",
       "      <td>47.0</td>\n",
       "    </tr>\n",
       "    <tr>\n",
       "      <th>75%</th>\n",
       "      <td>324.3</td>\n",
       "      <td>86.2</td>\n",
       "      <td>151.8</td>\n",
       "      <td>529.2</td>\n",
       "      <td>108.9</td>\n",
       "    </tr>\n",
       "    <tr>\n",
       "      <th>max</th>\n",
       "      <td>408.5</td>\n",
       "      <td>160.7</td>\n",
       "      <td>250.2</td>\n",
       "      <td>619.2</td>\n",
       "      <td>353.6</td>\n",
       "    </tr>\n",
       "  </tbody>\n",
       "</table>\n",
       "</div>"
      ],
      "text/plain": [
       "       s_light  s_clinical_deep  s_rem  s_duration  s_asleep_time\n",
       "count     30.0             30.0   30.0        30.0           30.0\n",
       "mean     266.4             74.1  129.4       469.9           70.9\n",
       "std       76.5             34.8   46.2        86.5           94.1\n",
       "min      112.2             20.2   16.6       229.2          -74.1\n",
       "25%      209.2             53.7  100.6       426.3           11.1\n",
       "50%      266.8             66.1  131.0       484.6           47.0\n",
       "75%      324.3             86.2  151.8       529.2          108.9\n",
       "max      408.5            160.7  250.2       619.2          353.6"
      ]
     },
     "execution_count": 16,
     "metadata": {},
     "output_type": "execute_result"
    }
   ],
   "source": [
    "df_sleep2.describe()"
   ]
  },
  {
   "cell_type": "code",
   "execution_count": 17,
   "metadata": {
    "collapsed": false
   },
   "outputs": [
    {
     "data": {
      "text/html": [
       "<div>\n",
       "<style>\n",
       "    .dataframe thead tr:only-child th {\n",
       "        text-align: right;\n",
       "    }\n",
       "\n",
       "    .dataframe thead th {\n",
       "        text-align: left;\n",
       "    }\n",
       "\n",
       "    .dataframe tbody tr th {\n",
       "        vertical-align: top;\n",
       "    }\n",
       "</style>\n",
       "<table border=\"1\" class=\"dataframe\">\n",
       "  <thead>\n",
       "    <tr style=\"text-align: right;\">\n",
       "      <th></th>\n",
       "      <th>s_light</th>\n",
       "      <th>s_clinical_deep</th>\n",
       "      <th>s_rem</th>\n",
       "      <th>s_duration</th>\n",
       "      <th>s_asleep_time</th>\n",
       "    </tr>\n",
       "  </thead>\n",
       "  <tbody>\n",
       "    <tr>\n",
       "      <th>count</th>\n",
       "      <td>30.0</td>\n",
       "      <td>30.0</td>\n",
       "      <td>30.0</td>\n",
       "      <td>30.0</td>\n",
       "      <td>30.0</td>\n",
       "    </tr>\n",
       "    <tr>\n",
       "      <th>mean</th>\n",
       "      <td>4.4</td>\n",
       "      <td>1.2</td>\n",
       "      <td>2.2</td>\n",
       "      <td>7.8</td>\n",
       "      <td>1.2</td>\n",
       "    </tr>\n",
       "    <tr>\n",
       "      <th>std</th>\n",
       "      <td>1.3</td>\n",
       "      <td>0.6</td>\n",
       "      <td>0.8</td>\n",
       "      <td>1.4</td>\n",
       "      <td>1.6</td>\n",
       "    </tr>\n",
       "    <tr>\n",
       "      <th>min</th>\n",
       "      <td>1.9</td>\n",
       "      <td>0.3</td>\n",
       "      <td>0.3</td>\n",
       "      <td>3.8</td>\n",
       "      <td>-1.2</td>\n",
       "    </tr>\n",
       "    <tr>\n",
       "      <th>25%</th>\n",
       "      <td>3.5</td>\n",
       "      <td>0.9</td>\n",
       "      <td>1.7</td>\n",
       "      <td>7.1</td>\n",
       "      <td>0.2</td>\n",
       "    </tr>\n",
       "    <tr>\n",
       "      <th>50%</th>\n",
       "      <td>4.4</td>\n",
       "      <td>1.1</td>\n",
       "      <td>2.2</td>\n",
       "      <td>8.1</td>\n",
       "      <td>0.8</td>\n",
       "    </tr>\n",
       "    <tr>\n",
       "      <th>75%</th>\n",
       "      <td>5.4</td>\n",
       "      <td>1.4</td>\n",
       "      <td>2.5</td>\n",
       "      <td>8.8</td>\n",
       "      <td>1.8</td>\n",
       "    </tr>\n",
       "    <tr>\n",
       "      <th>max</th>\n",
       "      <td>6.8</td>\n",
       "      <td>2.7</td>\n",
       "      <td>4.2</td>\n",
       "      <td>10.3</td>\n",
       "      <td>5.9</td>\n",
       "    </tr>\n",
       "  </tbody>\n",
       "</table>\n",
       "</div>"
      ],
      "text/plain": [
       "       s_light  s_clinical_deep  s_rem  s_duration  s_asleep_time\n",
       "count     30.0             30.0   30.0        30.0           30.0\n",
       "mean       4.4              1.2    2.2         7.8            1.2\n",
       "std        1.3              0.6    0.8         1.4            1.6\n",
       "min        1.9              0.3    0.3         3.8           -1.2\n",
       "25%        3.5              0.9    1.7         7.1            0.2\n",
       "50%        4.4              1.1    2.2         8.1            0.8\n",
       "75%        5.4              1.4    2.5         8.8            1.8\n",
       "max        6.8              2.7    4.2        10.3            5.9"
      ]
     },
     "execution_count": 17,
     "metadata": {},
     "output_type": "execute_result"
    }
   ],
   "source": [
    "(df_sleep2/60.).describe()"
   ]
  },
  {
   "cell_type": "code",
   "execution_count": 18,
   "metadata": {
    "collapsed": false
   },
   "outputs": [
    {
     "data": {
      "text/html": [
       "<div>\n",
       "<style>\n",
       "    .dataframe thead tr:only-child th {\n",
       "        text-align: right;\n",
       "    }\n",
       "\n",
       "    .dataframe thead th {\n",
       "        text-align: left;\n",
       "    }\n",
       "\n",
       "    .dataframe tbody tr th {\n",
       "        vertical-align: top;\n",
       "    }\n",
       "</style>\n",
       "<table border=\"1\" class=\"dataframe\">\n",
       "  <thead>\n",
       "    <tr style=\"text-align: right;\">\n",
       "      <th></th>\n",
       "      <th>s_light</th>\n",
       "      <th>s_clinical_deep</th>\n",
       "      <th>s_rem</th>\n",
       "      <th>s_duration</th>\n",
       "      <th>s_asleep_time</th>\n",
       "    </tr>\n",
       "  </thead>\n",
       "  <tbody>\n",
       "    <tr>\n",
       "      <th>count</th>\n",
       "      <td>30.0</td>\n",
       "      <td>30.0</td>\n",
       "      <td>30.0</td>\n",
       "      <td>30.0</td>\n",
       "      <td>30.0</td>\n",
       "    </tr>\n",
       "    <tr>\n",
       "      <th>mean</th>\n",
       "      <td>56.6</td>\n",
       "      <td>15.9</td>\n",
       "      <td>27.5</td>\n",
       "      <td>469.9</td>\n",
       "      <td>70.9</td>\n",
       "    </tr>\n",
       "    <tr>\n",
       "      <th>std</th>\n",
       "      <td>12.0</td>\n",
       "      <td>7.1</td>\n",
       "      <td>9.2</td>\n",
       "      <td>86.5</td>\n",
       "      <td>94.1</td>\n",
       "    </tr>\n",
       "    <tr>\n",
       "      <th>min</th>\n",
       "      <td>33.9</td>\n",
       "      <td>5.6</td>\n",
       "      <td>7.2</td>\n",
       "      <td>229.2</td>\n",
       "      <td>-74.1</td>\n",
       "    </tr>\n",
       "    <tr>\n",
       "      <th>25%</th>\n",
       "      <td>50.2</td>\n",
       "      <td>10.2</td>\n",
       "      <td>22.0</td>\n",
       "      <td>426.3</td>\n",
       "      <td>11.1</td>\n",
       "    </tr>\n",
       "    <tr>\n",
       "      <th>50%</th>\n",
       "      <td>55.9</td>\n",
       "      <td>16.3</td>\n",
       "      <td>28.0</td>\n",
       "      <td>484.6</td>\n",
       "      <td>47.0</td>\n",
       "    </tr>\n",
       "    <tr>\n",
       "      <th>75%</th>\n",
       "      <td>65.6</td>\n",
       "      <td>18.1</td>\n",
       "      <td>33.7</td>\n",
       "      <td>529.2</td>\n",
       "      <td>108.9</td>\n",
       "    </tr>\n",
       "    <tr>\n",
       "      <th>max</th>\n",
       "      <td>83.9</td>\n",
       "      <td>32.2</td>\n",
       "      <td>49.2</td>\n",
       "      <td>619.2</td>\n",
       "      <td>353.6</td>\n",
       "    </tr>\n",
       "  </tbody>\n",
       "</table>\n",
       "</div>"
      ],
      "text/plain": [
       "       s_light  s_clinical_deep  s_rem  s_duration  s_asleep_time\n",
       "count     30.0             30.0   30.0        30.0           30.0\n",
       "mean      56.6             15.9   27.5       469.9           70.9\n",
       "std       12.0              7.1    9.2        86.5           94.1\n",
       "min       33.9              5.6    7.2       229.2          -74.1\n",
       "25%       50.2             10.2   22.0       426.3           11.1\n",
       "50%       55.9             16.3   28.0       484.6           47.0\n",
       "75%       65.6             18.1   33.7       529.2          108.9\n",
       "max       83.9             32.2   49.2       619.2          353.6"
      ]
     },
     "execution_count": 18,
     "metadata": {},
     "output_type": "execute_result"
    }
   ],
   "source": [
    "df_sleep3.describe()"
   ]
  },
  {
   "cell_type": "code",
   "execution_count": 19,
   "metadata": {
    "collapsed": false
   },
   "outputs": [
    {
     "data": {
      "text/plain": [
       "array([[ 1.        , -0.6461926 , -0.80595197,  0.05614204, -0.3182364 ],\n",
       "       [-0.6461926 ,  1.        ,  0.06901552, -0.11068882,  0.37956739],\n",
       "       [-0.80595197,  0.06901552,  1.        ,  0.01247094,  0.12157239],\n",
       "       [ 0.05614204, -0.11068882,  0.01247094,  1.        , -0.64035986],\n",
       "       [-0.3182364 ,  0.37956739,  0.12157239, -0.64035986,  1.        ]])"
      ]
     },
     "execution_count": 19,
     "metadata": {},
     "output_type": "execute_result"
    }
   ],
   "source": [
    "np.corrcoef(df_sleep3, rowvar=False)"
   ]
  },
  {
   "cell_type": "code",
   "execution_count": 3,
   "metadata": {
    "collapsed": false
   },
   "outputs": [],
   "source": [
    "df_meds = pd.read_csv('lifestyle_variables.csv')"
   ]
  },
  {
   "cell_type": "code",
   "execution_count": 21,
   "metadata": {
    "collapsed": false
   },
   "outputs": [],
   "source": [
    "date_after_formatted = ['/'.join([('0' * (2-len(s)) + s) for s in row])\n",
    "  for row in [s.split('/') for s in df_meds['date_after']]\n",
    "  ]\n",
    "\n",
    "df_meds['date_after'] = date_after_formatted"
   ]
  },
  {
   "cell_type": "code",
   "execution_count": 22,
   "metadata": {
    "collapsed": true
   },
   "outputs": [],
   "source": [
    "from time import strptime"
   ]
  },
  {
   "cell_type": "code",
   "execution_count": 23,
   "metadata": {
    "collapsed": false
   },
   "outputs": [],
   "source": [
    "day_of_year = [strptime(s,'%m/%d/%y').tm_yday - 1 for s in df_meds['date_after']]\n",
    "df_meds['day_of_year'] = day_of_year"
   ]
  },
  {
   "cell_type": "code",
   "execution_count": 24,
   "metadata": {
    "collapsed": false
   },
   "outputs": [],
   "source": [
    "df_meds = df_meds.set_index('day_of_year')"
   ]
  },
  {
   "cell_type": "code",
   "execution_count": 25,
   "metadata": {
    "collapsed": false
   },
   "outputs": [
    {
     "data": {
      "text/html": [
       "<div>\n",
       "<style>\n",
       "    .dataframe thead tr:only-child th {\n",
       "        text-align: right;\n",
       "    }\n",
       "\n",
       "    .dataframe thead th {\n",
       "        text-align: left;\n",
       "    }\n",
       "\n",
       "    .dataframe tbody tr th {\n",
       "        vertical-align: top;\n",
       "    }\n",
       "</style>\n",
       "<table border=\"1\" class=\"dataframe\">\n",
       "  <thead>\n",
       "    <tr style=\"text-align: right;\">\n",
       "      <th></th>\n",
       "      <th>date_after</th>\n",
       "      <th>T</th>\n",
       "      <th>D</th>\n",
       "      <th>C</th>\n",
       "      <th>W</th>\n",
       "    </tr>\n",
       "    <tr>\n",
       "      <th>day_of_year</th>\n",
       "      <th></th>\n",
       "      <th></th>\n",
       "      <th></th>\n",
       "      <th></th>\n",
       "      <th></th>\n",
       "    </tr>\n",
       "  </thead>\n",
       "  <tbody>\n",
       "    <tr>\n",
       "      <th>248</th>\n",
       "      <td>09/06/17</td>\n",
       "      <td>2.0</td>\n",
       "      <td>1</td>\n",
       "      <td>1.0</td>\n",
       "      <td>0.0</td>\n",
       "    </tr>\n",
       "    <tr>\n",
       "      <th>249</th>\n",
       "      <td>09/07/17</td>\n",
       "      <td>1.0</td>\n",
       "      <td>1</td>\n",
       "      <td>0.0</td>\n",
       "      <td>0.0</td>\n",
       "    </tr>\n",
       "    <tr>\n",
       "      <th>250</th>\n",
       "      <td>09/08/17</td>\n",
       "      <td>1.5</td>\n",
       "      <td>1</td>\n",
       "      <td>0.0</td>\n",
       "      <td>0.0</td>\n",
       "    </tr>\n",
       "    <tr>\n",
       "      <th>251</th>\n",
       "      <td>09/09/17</td>\n",
       "      <td>1.0</td>\n",
       "      <td>0</td>\n",
       "      <td>0.0</td>\n",
       "      <td>0.0</td>\n",
       "    </tr>\n",
       "    <tr>\n",
       "      <th>252</th>\n",
       "      <td>09/10/17</td>\n",
       "      <td>0.0</td>\n",
       "      <td>1</td>\n",
       "      <td>1.0</td>\n",
       "      <td>0.0</td>\n",
       "    </tr>\n",
       "    <tr>\n",
       "      <th>253</th>\n",
       "      <td>09/11/17</td>\n",
       "      <td>1.0</td>\n",
       "      <td>0</td>\n",
       "      <td>0.0</td>\n",
       "      <td>0.0</td>\n",
       "    </tr>\n",
       "    <tr>\n",
       "      <th>254</th>\n",
       "      <td>09/12/17</td>\n",
       "      <td>1.0</td>\n",
       "      <td>1</td>\n",
       "      <td>1.0</td>\n",
       "      <td>0.0</td>\n",
       "    </tr>\n",
       "    <tr>\n",
       "      <th>255</th>\n",
       "      <td>09/13/17</td>\n",
       "      <td>1.0</td>\n",
       "      <td>1</td>\n",
       "      <td>0.0</td>\n",
       "      <td>0.0</td>\n",
       "    </tr>\n",
       "    <tr>\n",
       "      <th>256</th>\n",
       "      <td>09/14/17</td>\n",
       "      <td>1.5</td>\n",
       "      <td>1</td>\n",
       "      <td>0.0</td>\n",
       "      <td>0.0</td>\n",
       "    </tr>\n",
       "    <tr>\n",
       "      <th>257</th>\n",
       "      <td>09/15/17</td>\n",
       "      <td>1.0</td>\n",
       "      <td>0</td>\n",
       "      <td>0.0</td>\n",
       "      <td>0.0</td>\n",
       "    </tr>\n",
       "    <tr>\n",
       "      <th>258</th>\n",
       "      <td>09/16/17</td>\n",
       "      <td>1.0</td>\n",
       "      <td>1</td>\n",
       "      <td>0.5</td>\n",
       "      <td>0.0</td>\n",
       "    </tr>\n",
       "    <tr>\n",
       "      <th>259</th>\n",
       "      <td>09/17/17</td>\n",
       "      <td>1.0</td>\n",
       "      <td>0</td>\n",
       "      <td>0.5</td>\n",
       "      <td>0.0</td>\n",
       "    </tr>\n",
       "    <tr>\n",
       "      <th>262</th>\n",
       "      <td>09/20/17</td>\n",
       "      <td>1.0</td>\n",
       "      <td>0</td>\n",
       "      <td>0.0</td>\n",
       "      <td>0.0</td>\n",
       "    </tr>\n",
       "    <tr>\n",
       "      <th>263</th>\n",
       "      <td>09/21/17</td>\n",
       "      <td>1.0</td>\n",
       "      <td>1</td>\n",
       "      <td>0.0</td>\n",
       "      <td>1.5</td>\n",
       "    </tr>\n",
       "    <tr>\n",
       "      <th>264</th>\n",
       "      <td>09/22/17</td>\n",
       "      <td>1.0</td>\n",
       "      <td>1</td>\n",
       "      <td>0.0</td>\n",
       "      <td>3.0</td>\n",
       "    </tr>\n",
       "    <tr>\n",
       "      <th>265</th>\n",
       "      <td>09/23/17</td>\n",
       "      <td>1.0</td>\n",
       "      <td>0</td>\n",
       "      <td>0.0</td>\n",
       "      <td>3.0</td>\n",
       "    </tr>\n",
       "    <tr>\n",
       "      <th>266</th>\n",
       "      <td>09/24/17</td>\n",
       "      <td>1.0</td>\n",
       "      <td>1</td>\n",
       "      <td>0.0</td>\n",
       "      <td>3.0</td>\n",
       "    </tr>\n",
       "    <tr>\n",
       "      <th>267</th>\n",
       "      <td>09/25/17</td>\n",
       "      <td>1.5</td>\n",
       "      <td>1</td>\n",
       "      <td>0.0</td>\n",
       "      <td>3.0</td>\n",
       "    </tr>\n",
       "    <tr>\n",
       "      <th>268</th>\n",
       "      <td>09/26/17</td>\n",
       "      <td>1.0</td>\n",
       "      <td>2</td>\n",
       "      <td>0.0</td>\n",
       "      <td>0.0</td>\n",
       "    </tr>\n",
       "    <tr>\n",
       "      <th>269</th>\n",
       "      <td>09/27/17</td>\n",
       "      <td>1.5</td>\n",
       "      <td>1</td>\n",
       "      <td>2.0</td>\n",
       "      <td>0.0</td>\n",
       "    </tr>\n",
       "    <tr>\n",
       "      <th>270</th>\n",
       "      <td>09/28/17</td>\n",
       "      <td>1.5</td>\n",
       "      <td>0</td>\n",
       "      <td>1.0</td>\n",
       "      <td>0.0</td>\n",
       "    </tr>\n",
       "    <tr>\n",
       "      <th>271</th>\n",
       "      <td>09/29/17</td>\n",
       "      <td>1.0</td>\n",
       "      <td>1</td>\n",
       "      <td>0.5</td>\n",
       "      <td>0.0</td>\n",
       "    </tr>\n",
       "    <tr>\n",
       "      <th>272</th>\n",
       "      <td>09/30/17</td>\n",
       "      <td>1.0</td>\n",
       "      <td>0</td>\n",
       "      <td>0.0</td>\n",
       "      <td>0.0</td>\n",
       "    </tr>\n",
       "    <tr>\n",
       "      <th>273</th>\n",
       "      <td>10/01/17</td>\n",
       "      <td>2.0</td>\n",
       "      <td>1</td>\n",
       "      <td>1.5</td>\n",
       "      <td>0.0</td>\n",
       "    </tr>\n",
       "    <tr>\n",
       "      <th>274</th>\n",
       "      <td>10/02/17</td>\n",
       "      <td>2.0</td>\n",
       "      <td>1</td>\n",
       "      <td>2.5</td>\n",
       "      <td>0.0</td>\n",
       "    </tr>\n",
       "    <tr>\n",
       "      <th>275</th>\n",
       "      <td>10/03/17</td>\n",
       "      <td>1.0</td>\n",
       "      <td>1</td>\n",
       "      <td>0.5</td>\n",
       "      <td>0.0</td>\n",
       "    </tr>\n",
       "    <tr>\n",
       "      <th>276</th>\n",
       "      <td>10/04/17</td>\n",
       "      <td>1.0</td>\n",
       "      <td>1</td>\n",
       "      <td>0.0</td>\n",
       "      <td>0.0</td>\n",
       "    </tr>\n",
       "    <tr>\n",
       "      <th>277</th>\n",
       "      <td>10/05/17</td>\n",
       "      <td>1.0</td>\n",
       "      <td>1</td>\n",
       "      <td>1.0</td>\n",
       "      <td>0.0</td>\n",
       "    </tr>\n",
       "    <tr>\n",
       "      <th>278</th>\n",
       "      <td>10/06/17</td>\n",
       "      <td>2.0</td>\n",
       "      <td>1</td>\n",
       "      <td>1.0</td>\n",
       "      <td>0.0</td>\n",
       "    </tr>\n",
       "    <tr>\n",
       "      <th>279</th>\n",
       "      <td>10/07/17</td>\n",
       "      <td>1.0</td>\n",
       "      <td>1</td>\n",
       "      <td>0.5</td>\n",
       "      <td>0.0</td>\n",
       "    </tr>\n",
       "    <tr>\n",
       "      <th>280</th>\n",
       "      <td>10/08/17</td>\n",
       "      <td>1.0</td>\n",
       "      <td>0</td>\n",
       "      <td>0.0</td>\n",
       "      <td>0.0</td>\n",
       "    </tr>\n",
       "    <tr>\n",
       "      <th>281</th>\n",
       "      <td>10/09/17</td>\n",
       "      <td>1.0</td>\n",
       "      <td>1</td>\n",
       "      <td>0.0</td>\n",
       "      <td>0.0</td>\n",
       "    </tr>\n",
       "    <tr>\n",
       "      <th>282</th>\n",
       "      <td>10/10/17</td>\n",
       "      <td>2.0</td>\n",
       "      <td>0</td>\n",
       "      <td>0.0</td>\n",
       "      <td>0.0</td>\n",
       "    </tr>\n",
       "  </tbody>\n",
       "</table>\n",
       "</div>"
      ],
      "text/plain": [
       "            date_after    T  D    C    W\n",
       "day_of_year                             \n",
       "248           09/06/17  2.0  1  1.0  0.0\n",
       "249           09/07/17  1.0  1  0.0  0.0\n",
       "250           09/08/17  1.5  1  0.0  0.0\n",
       "251           09/09/17  1.0  0  0.0  0.0\n",
       "252           09/10/17  0.0  1  1.0  0.0\n",
       "253           09/11/17  1.0  0  0.0  0.0\n",
       "254           09/12/17  1.0  1  1.0  0.0\n",
       "255           09/13/17  1.0  1  0.0  0.0\n",
       "256           09/14/17  1.5  1  0.0  0.0\n",
       "257           09/15/17  1.0  0  0.0  0.0\n",
       "258           09/16/17  1.0  1  0.5  0.0\n",
       "259           09/17/17  1.0  0  0.5  0.0\n",
       "262           09/20/17  1.0  0  0.0  0.0\n",
       "263           09/21/17  1.0  1  0.0  1.5\n",
       "264           09/22/17  1.0  1  0.0  3.0\n",
       "265           09/23/17  1.0  0  0.0  3.0\n",
       "266           09/24/17  1.0  1  0.0  3.0\n",
       "267           09/25/17  1.5  1  0.0  3.0\n",
       "268           09/26/17  1.0  2  0.0  0.0\n",
       "269           09/27/17  1.5  1  2.0  0.0\n",
       "270           09/28/17  1.5  0  1.0  0.0\n",
       "271           09/29/17  1.0  1  0.5  0.0\n",
       "272           09/30/17  1.0  0  0.0  0.0\n",
       "273           10/01/17  2.0  1  1.5  0.0\n",
       "274           10/02/17  2.0  1  2.5  0.0\n",
       "275           10/03/17  1.0  1  0.5  0.0\n",
       "276           10/04/17  1.0  1  0.0  0.0\n",
       "277           10/05/17  1.0  1  1.0  0.0\n",
       "278           10/06/17  2.0  1  1.0  0.0\n",
       "279           10/07/17  1.0  1  0.5  0.0\n",
       "280           10/08/17  1.0  0  0.0  0.0\n",
       "281           10/09/17  1.0  1  0.0  0.0\n",
       "282           10/10/17  2.0  0  0.0  0.0"
      ]
     },
     "execution_count": 25,
     "metadata": {},
     "output_type": "execute_result"
    }
   ],
   "source": [
    "df_meds"
   ]
  },
  {
   "cell_type": "code",
   "execution_count": 26,
   "metadata": {
    "collapsed": false
   },
   "outputs": [],
   "source": [
    "df_full2 = df_sleep2.join(df_meds, how='inner').drop('date_after', axis=1)\n",
    "df_full3 = df_sleep3.join(df_meds, how='inner').drop('date_after', axis=1)"
   ]
  },
  {
   "cell_type": "code",
   "execution_count": 27,
   "metadata": {
    "collapsed": false
   },
   "outputs": [
    {
     "data": {
      "text/html": [
       "<div>\n",
       "<style>\n",
       "    .dataframe thead tr:only-child th {\n",
       "        text-align: right;\n",
       "    }\n",
       "\n",
       "    .dataframe thead th {\n",
       "        text-align: left;\n",
       "    }\n",
       "\n",
       "    .dataframe tbody tr th {\n",
       "        vertical-align: top;\n",
       "    }\n",
       "</style>\n",
       "<table border=\"1\" class=\"dataframe\">\n",
       "  <thead>\n",
       "    <tr style=\"text-align: right;\">\n",
       "      <th></th>\n",
       "      <th>s_light</th>\n",
       "      <th>s_clinical_deep</th>\n",
       "      <th>s_rem</th>\n",
       "      <th>s_duration</th>\n",
       "      <th>s_asleep_time</th>\n",
       "      <th>T</th>\n",
       "      <th>D</th>\n",
       "      <th>C</th>\n",
       "      <th>W</th>\n",
       "    </tr>\n",
       "  </thead>\n",
       "  <tbody>\n",
       "    <tr>\n",
       "      <th>248</th>\n",
       "      <td>206.2</td>\n",
       "      <td>64.8</td>\n",
       "      <td>125.8</td>\n",
       "      <td>396.9</td>\n",
       "      <td>216.2</td>\n",
       "      <td>2.0</td>\n",
       "      <td>1</td>\n",
       "      <td>1.0</td>\n",
       "      <td>0.0</td>\n",
       "    </tr>\n",
       "    <tr>\n",
       "      <th>249</th>\n",
       "      <td>338.8</td>\n",
       "      <td>68.2</td>\n",
       "      <td>212.2</td>\n",
       "      <td>619.2</td>\n",
       "      <td>-18.4</td>\n",
       "      <td>1.0</td>\n",
       "      <td>1</td>\n",
       "      <td>0.0</td>\n",
       "      <td>0.0</td>\n",
       "    </tr>\n",
       "    <tr>\n",
       "      <th>250</th>\n",
       "      <td>307.4</td>\n",
       "      <td>70.3</td>\n",
       "      <td>109.0</td>\n",
       "      <td>486.7</td>\n",
       "      <td>97.8</td>\n",
       "      <td>1.5</td>\n",
       "      <td>1</td>\n",
       "      <td>0.0</td>\n",
       "      <td>0.0</td>\n",
       "    </tr>\n",
       "    <tr>\n",
       "      <th>251</th>\n",
       "      <td>234.0</td>\n",
       "      <td>61.0</td>\n",
       "      <td>151.5</td>\n",
       "      <td>446.6</td>\n",
       "      <td>187.0</td>\n",
       "      <td>1.0</td>\n",
       "      <td>0</td>\n",
       "      <td>0.0</td>\n",
       "      <td>0.0</td>\n",
       "    </tr>\n",
       "    <tr>\n",
       "      <th>252</th>\n",
       "      <td>306.2</td>\n",
       "      <td>81.8</td>\n",
       "      <td>73.3</td>\n",
       "      <td>461.4</td>\n",
       "      <td>80.9</td>\n",
       "      <td>0.0</td>\n",
       "      <td>1</td>\n",
       "      <td>1.0</td>\n",
       "      <td>0.0</td>\n",
       "    </tr>\n",
       "    <tr>\n",
       "      <th>253</th>\n",
       "      <td>389.7</td>\n",
       "      <td>40.0</td>\n",
       "      <td>100.3</td>\n",
       "      <td>530.0</td>\n",
       "      <td>44.3</td>\n",
       "      <td>1.0</td>\n",
       "      <td>0</td>\n",
       "      <td>0.0</td>\n",
       "      <td>0.0</td>\n",
       "    </tr>\n",
       "    <tr>\n",
       "      <th>254</th>\n",
       "      <td>226.7</td>\n",
       "      <td>145.7</td>\n",
       "      <td>80.4</td>\n",
       "      <td>452.8</td>\n",
       "      <td>39.7</td>\n",
       "      <td>1.0</td>\n",
       "      <td>1</td>\n",
       "      <td>1.0</td>\n",
       "      <td>0.0</td>\n",
       "    </tr>\n",
       "    <tr>\n",
       "      <th>256</th>\n",
       "      <td>343.4</td>\n",
       "      <td>59.6</td>\n",
       "      <td>148.2</td>\n",
       "      <td>551.2</td>\n",
       "      <td>30.9</td>\n",
       "      <td>1.5</td>\n",
       "      <td>1</td>\n",
       "      <td>0.0</td>\n",
       "      <td>0.0</td>\n",
       "    </tr>\n",
       "    <tr>\n",
       "      <th>257</th>\n",
       "      <td>269.9</td>\n",
       "      <td>29.3</td>\n",
       "      <td>122.8</td>\n",
       "      <td>422.1</td>\n",
       "      <td>-74.1</td>\n",
       "      <td>1.0</td>\n",
       "      <td>0</td>\n",
       "      <td>0.0</td>\n",
       "      <td>0.0</td>\n",
       "    </tr>\n",
       "    <tr>\n",
       "      <th>258</th>\n",
       "      <td>234.0</td>\n",
       "      <td>123.0</td>\n",
       "      <td>176.3</td>\n",
       "      <td>533.2</td>\n",
       "      <td>90.5</td>\n",
       "      <td>1.0</td>\n",
       "      <td>1</td>\n",
       "      <td>0.5</td>\n",
       "      <td>0.0</td>\n",
       "    </tr>\n",
       "    <tr>\n",
       "      <th>259</th>\n",
       "      <td>387.9</td>\n",
       "      <td>55.8</td>\n",
       "      <td>130.8</td>\n",
       "      <td>574.5</td>\n",
       "      <td>-0.6</td>\n",
       "      <td>1.0</td>\n",
       "      <td>0</td>\n",
       "      <td>0.5</td>\n",
       "      <td>0.0</td>\n",
       "    </tr>\n",
       "    <tr>\n",
       "      <th>262</th>\n",
       "      <td>172.5</td>\n",
       "      <td>85.8</td>\n",
       "      <td>250.2</td>\n",
       "      <td>508.6</td>\n",
       "      <td>30.1</td>\n",
       "      <td>1.0</td>\n",
       "      <td>0</td>\n",
       "      <td>0.0</td>\n",
       "      <td>0.0</td>\n",
       "    </tr>\n",
       "    <tr>\n",
       "      <th>263</th>\n",
       "      <td>263.7</td>\n",
       "      <td>45.6</td>\n",
       "      <td>150.0</td>\n",
       "      <td>459.3</td>\n",
       "      <td>61.0</td>\n",
       "      <td>1.0</td>\n",
       "      <td>1</td>\n",
       "      <td>0.0</td>\n",
       "      <td>1.5</td>\n",
       "    </tr>\n",
       "    <tr>\n",
       "      <th>264</th>\n",
       "      <td>192.4</td>\n",
       "      <td>20.2</td>\n",
       "      <td>16.6</td>\n",
       "      <td>229.2</td>\n",
       "      <td>169.6</td>\n",
       "      <td>1.0</td>\n",
       "      <td>1</td>\n",
       "      <td>0.0</td>\n",
       "      <td>3.0</td>\n",
       "    </tr>\n",
       "    <tr>\n",
       "      <th>265</th>\n",
       "      <td>233.9</td>\n",
       "      <td>53.0</td>\n",
       "      <td>151.9</td>\n",
       "      <td>438.8</td>\n",
       "      <td>-51.2</td>\n",
       "      <td>1.0</td>\n",
       "      <td>0</td>\n",
       "      <td>0.0</td>\n",
       "      <td>3.0</td>\n",
       "    </tr>\n",
       "    <tr>\n",
       "      <th>266</th>\n",
       "      <td>217.9</td>\n",
       "      <td>63.3</td>\n",
       "      <td>101.2</td>\n",
       "      <td>382.4</td>\n",
       "      <td>112.6</td>\n",
       "      <td>1.0</td>\n",
       "      <td>1</td>\n",
       "      <td>0.0</td>\n",
       "      <td>3.0</td>\n",
       "    </tr>\n",
       "    <tr>\n",
       "      <th>268</th>\n",
       "      <td>194.4</td>\n",
       "      <td>79.5</td>\n",
       "      <td>85.2</td>\n",
       "      <td>359.0</td>\n",
       "      <td>168.1</td>\n",
       "      <td>1.0</td>\n",
       "      <td>2</td>\n",
       "      <td>0.0</td>\n",
       "      <td>0.0</td>\n",
       "    </tr>\n",
       "    <tr>\n",
       "      <th>269</th>\n",
       "      <td>225.1</td>\n",
       "      <td>62.0</td>\n",
       "      <td>159.8</td>\n",
       "      <td>446.9</td>\n",
       "      <td>49.6</td>\n",
       "      <td>1.5</td>\n",
       "      <td>1</td>\n",
       "      <td>2.0</td>\n",
       "      <td>0.0</td>\n",
       "    </tr>\n",
       "    <tr>\n",
       "      <th>270</th>\n",
       "      <td>300.7</td>\n",
       "      <td>42.0</td>\n",
       "      <td>169.2</td>\n",
       "      <td>511.9</td>\n",
       "      <td>52.7</td>\n",
       "      <td>1.5</td>\n",
       "      <td>0</td>\n",
       "      <td>1.0</td>\n",
       "      <td>0.0</td>\n",
       "    </tr>\n",
       "    <tr>\n",
       "      <th>271</th>\n",
       "      <td>408.5</td>\n",
       "      <td>39.9</td>\n",
       "      <td>78.3</td>\n",
       "      <td>526.7</td>\n",
       "      <td>-28.9</td>\n",
       "      <td>1.0</td>\n",
       "      <td>1</td>\n",
       "      <td>0.5</td>\n",
       "      <td>0.0</td>\n",
       "    </tr>\n",
       "    <tr>\n",
       "      <th>272</th>\n",
       "      <td>320.3</td>\n",
       "      <td>81.8</td>\n",
       "      <td>80.5</td>\n",
       "      <td>482.6</td>\n",
       "      <td>40.9</td>\n",
       "      <td>1.0</td>\n",
       "      <td>0</td>\n",
       "      <td>0.0</td>\n",
       "      <td>0.0</td>\n",
       "    </tr>\n",
       "    <tr>\n",
       "      <th>273</th>\n",
       "      <td>186.0</td>\n",
       "      <td>67.3</td>\n",
       "      <td>160.6</td>\n",
       "      <td>413.9</td>\n",
       "      <td>220.7</td>\n",
       "      <td>2.0</td>\n",
       "      <td>1</td>\n",
       "      <td>1.5</td>\n",
       "      <td>0.0</td>\n",
       "    </tr>\n",
       "    <tr>\n",
       "      <th>274</th>\n",
       "      <td>133.2</td>\n",
       "      <td>111.0</td>\n",
       "      <td>106.8</td>\n",
       "      <td>350.9</td>\n",
       "      <td>353.6</td>\n",
       "      <td>2.0</td>\n",
       "      <td>1</td>\n",
       "      <td>2.5</td>\n",
       "      <td>0.0</td>\n",
       "    </tr>\n",
       "    <tr>\n",
       "      <th>275</th>\n",
       "      <td>203.7</td>\n",
       "      <td>136.6</td>\n",
       "      <td>178.9</td>\n",
       "      <td>519.1</td>\n",
       "      <td>7.8</td>\n",
       "      <td>1.0</td>\n",
       "      <td>1</td>\n",
       "      <td>0.5</td>\n",
       "      <td>0.0</td>\n",
       "    </tr>\n",
       "    <tr>\n",
       "      <th>277</th>\n",
       "      <td>288.7</td>\n",
       "      <td>160.7</td>\n",
       "      <td>125.8</td>\n",
       "      <td>575.2</td>\n",
       "      <td>33.9</td>\n",
       "      <td>1.0</td>\n",
       "      <td>1</td>\n",
       "      <td>1.0</td>\n",
       "      <td>0.0</td>\n",
       "    </tr>\n",
       "    <tr>\n",
       "      <th>278</th>\n",
       "      <td>112.2</td>\n",
       "      <td>61.1</td>\n",
       "      <td>131.2</td>\n",
       "      <td>304.6</td>\n",
       "      <td>152.9</td>\n",
       "      <td>2.0</td>\n",
       "      <td>1</td>\n",
       "      <td>1.0</td>\n",
       "      <td>0.0</td>\n",
       "    </tr>\n",
       "    <tr>\n",
       "      <th>280</th>\n",
       "      <td>325.7</td>\n",
       "      <td>103.2</td>\n",
       "      <td>140.3</td>\n",
       "      <td>569.2</td>\n",
       "      <td>-42.8</td>\n",
       "      <td>1.0</td>\n",
       "      <td>0</td>\n",
       "      <td>0.0</td>\n",
       "      <td>0.0</td>\n",
       "    </tr>\n",
       "    <tr>\n",
       "      <th>281</th>\n",
       "      <td>352.5</td>\n",
       "      <td>96.5</td>\n",
       "      <td>84.3</td>\n",
       "      <td>533.3</td>\n",
       "      <td>10.8</td>\n",
       "      <td>1.0</td>\n",
       "      <td>1</td>\n",
       "      <td>0.0</td>\n",
       "      <td>0.0</td>\n",
       "    </tr>\n",
       "    <tr>\n",
       "      <th>282</th>\n",
       "      <td>275.6</td>\n",
       "      <td>86.2</td>\n",
       "      <td>149.6</td>\n",
       "      <td>511.4</td>\n",
       "      <td>79.1</td>\n",
       "      <td>2.0</td>\n",
       "      <td>0</td>\n",
       "      <td>0.0</td>\n",
       "      <td>0.0</td>\n",
       "    </tr>\n",
       "  </tbody>\n",
       "</table>\n",
       "</div>"
      ],
      "text/plain": [
       "     s_light  s_clinical_deep  s_rem  s_duration  s_asleep_time    T  D    C  \\\n",
       "248    206.2             64.8  125.8       396.9          216.2  2.0  1  1.0   \n",
       "249    338.8             68.2  212.2       619.2          -18.4  1.0  1  0.0   \n",
       "250    307.4             70.3  109.0       486.7           97.8  1.5  1  0.0   \n",
       "251    234.0             61.0  151.5       446.6          187.0  1.0  0  0.0   \n",
       "252    306.2             81.8   73.3       461.4           80.9  0.0  1  1.0   \n",
       "253    389.7             40.0  100.3       530.0           44.3  1.0  0  0.0   \n",
       "254    226.7            145.7   80.4       452.8           39.7  1.0  1  1.0   \n",
       "256    343.4             59.6  148.2       551.2           30.9  1.5  1  0.0   \n",
       "257    269.9             29.3  122.8       422.1          -74.1  1.0  0  0.0   \n",
       "258    234.0            123.0  176.3       533.2           90.5  1.0  1  0.5   \n",
       "259    387.9             55.8  130.8       574.5           -0.6  1.0  0  0.5   \n",
       "262    172.5             85.8  250.2       508.6           30.1  1.0  0  0.0   \n",
       "263    263.7             45.6  150.0       459.3           61.0  1.0  1  0.0   \n",
       "264    192.4             20.2   16.6       229.2          169.6  1.0  1  0.0   \n",
       "265    233.9             53.0  151.9       438.8          -51.2  1.0  0  0.0   \n",
       "266    217.9             63.3  101.2       382.4          112.6  1.0  1  0.0   \n",
       "268    194.4             79.5   85.2       359.0          168.1  1.0  2  0.0   \n",
       "269    225.1             62.0  159.8       446.9           49.6  1.5  1  2.0   \n",
       "270    300.7             42.0  169.2       511.9           52.7  1.5  0  1.0   \n",
       "271    408.5             39.9   78.3       526.7          -28.9  1.0  1  0.5   \n",
       "272    320.3             81.8   80.5       482.6           40.9  1.0  0  0.0   \n",
       "273    186.0             67.3  160.6       413.9          220.7  2.0  1  1.5   \n",
       "274    133.2            111.0  106.8       350.9          353.6  2.0  1  2.5   \n",
       "275    203.7            136.6  178.9       519.1            7.8  1.0  1  0.5   \n",
       "277    288.7            160.7  125.8       575.2           33.9  1.0  1  1.0   \n",
       "278    112.2             61.1  131.2       304.6          152.9  2.0  1  1.0   \n",
       "280    325.7            103.2  140.3       569.2          -42.8  1.0  0  0.0   \n",
       "281    352.5             96.5   84.3       533.3           10.8  1.0  1  0.0   \n",
       "282    275.6             86.2  149.6       511.4           79.1  2.0  0  0.0   \n",
       "\n",
       "       W  \n",
       "248  0.0  \n",
       "249  0.0  \n",
       "250  0.0  \n",
       "251  0.0  \n",
       "252  0.0  \n",
       "253  0.0  \n",
       "254  0.0  \n",
       "256  0.0  \n",
       "257  0.0  \n",
       "258  0.0  \n",
       "259  0.0  \n",
       "262  0.0  \n",
       "263  1.5  \n",
       "264  3.0  \n",
       "265  3.0  \n",
       "266  3.0  \n",
       "268  0.0  \n",
       "269  0.0  \n",
       "270  0.0  \n",
       "271  0.0  \n",
       "272  0.0  \n",
       "273  0.0  \n",
       "274  0.0  \n",
       "275  0.0  \n",
       "277  0.0  \n",
       "278  0.0  \n",
       "280  0.0  \n",
       "281  0.0  \n",
       "282  0.0  "
      ]
     },
     "execution_count": 27,
     "metadata": {},
     "output_type": "execute_result"
    }
   ],
   "source": [
    "df_full2"
   ]
  },
  {
   "cell_type": "code",
   "execution_count": 28,
   "metadata": {
    "collapsed": false
   },
   "outputs": [
    {
     "data": {
      "text/plain": [
       "array([[-0.39926875, -0.29432596, -0.39708743, -0.21638392],\n",
       "       [-0.06564035,  0.23600002,  0.27264113, -0.34683887],\n",
       "       [ 0.19725152, -0.27791833,  0.00515219, -0.25832684],\n",
       "       [-0.26773128, -0.3128625 , -0.23666973, -0.46176472],\n",
       "       [ 0.51293371,  0.3877156 ,  0.50316724,  0.00738046]])"
      ]
     },
     "execution_count": 28,
     "metadata": {},
     "output_type": "execute_result"
    }
   ],
   "source": [
    "np.corrcoef(df_full2, rowvar=False)[:-4,-4:]"
   ]
  },
  {
   "cell_type": "code",
   "execution_count": 29,
   "metadata": {
    "collapsed": false
   },
   "outputs": [
    {
     "data": {
      "image/png": "[encoded data removed]",
      "text/plain": [
       "<matplotlib.figure.Figure at 0x10072b2d0>"
      ]
     },
     "metadata": {},
     "output_type": "display_data"
    }
   ],
   "source": [
    "plt.imshow(np.corrcoef(df_full2, rowvar=False)[:-4,-4:],cmap='gray',interpolation='nearest')\n",
    "plt.colorbar();"
   ]
  },
  {
   "cell_type": "code",
   "execution_count": 30,
   "metadata": {
    "collapsed": false
   },
   "outputs": [
    {
     "data": {
      "text/plain": [
       "array([[-0.39660888, -0.11609015, -0.41887072,  0.24637445],\n",
       "       [ 0.10716883,  0.39273154,  0.44936116, -0.23411169],\n",
       "       [ 0.42992783, -0.14394988,  0.20307069, -0.14198853],\n",
       "       [-0.26773128, -0.3128625 , -0.23666973, -0.46176472]])"
      ]
     },
     "execution_count": 30,
     "metadata": {},
     "output_type": "execute_result"
    }
   ],
   "source": [
    "np.corrcoef(df_full3, rowvar=False)[:-5,-4:]"
   ]
  },
  {
   "cell_type": "code",
   "execution_count": 31,
   "metadata": {
    "collapsed": false
   },
   "outputs": [
    {
     "data": {
      "image/png": "[encoded data removed]",
      "text/plain": [
       "<matplotlib.figure.Figure at 0x116bf74d0>"
      ]
     },
     "metadata": {},
     "output_type": "display_data"
    }
   ],
   "source": [
    "plt.imshow(np.corrcoef(df_full3, rowvar=False)[:-5,-4:],cmap='gray',interpolation='nearest')\n",
    "plt.colorbar();"
   ]
  },
  {
   "cell_type": "code",
   "execution_count": 32,
   "metadata": {
    "collapsed": false
   },
   "outputs": [
    {
     "data": {
      "text/plain": [
       "[<matplotlib.lines.Line2D at 0x116e77f90>]"
      ]
     },
     "execution_count": 32,
     "metadata": {},
     "output_type": "execute_result"
    },
    {
     "data": {
      "image/png": "[encoded data removed]",
      "text/plain": [
       "<matplotlib.figure.Figure at 0x116bf7a90>"
      ]
     },
     "metadata": {},
     "output_type": "display_data"
    }
   ],
   "source": [
    "plt.plot(df_full3['C'], df_full3['s_clinical_deep'], 'o')"
   ]
  },
  {
   "cell_type": "code",
   "execution_count": 33,
   "metadata": {
    "collapsed": false
   },
   "outputs": [
    {
     "name": "stdout",
     "output_type": "stream",
     "text": [
      "[ 0.24798121]\n",
      "12.8684245341\n"
     ]
    }
   ],
   "source": [
    "from sklearn.linear_model import LinearRegression\n",
    "lr_rem = LinearRegression()\n",
    "\n",
    "lr_rem.fit(np.expand_dims(df_sleep2['s_duration'],1), df_sleep2['s_rem'])\n",
    "\n",
    "print lr_rem.coef_\n",
    "print lr_rem.intercept_"
   ]
  },
  {
   "cell_type": "code",
   "execution_count": 34,
   "metadata": {
    "collapsed": true
   },
   "outputs": [],
   "source": [
    "rem_latency =  lr_rem.predict(np.expand_dims(df_sleep2['s_duration'],1)) - df_sleep2['s_rem']"
   ]
  },
  {
   "cell_type": "code",
   "execution_count": 35,
   "metadata": {
    "collapsed": true
   },
   "outputs": [],
   "source": [
    "df_sleep2_lat = df_sleep2.copy()\n",
    "df_sleep2_lat['rem_lat'] = rem_latency"
   ]
  },
  {
   "cell_type": "code",
   "execution_count": 36,
   "metadata": {
    "collapsed": true
   },
   "outputs": [],
   "source": [
    "df_full2_lat = df_sleep2_lat.join(df_meds, how='inner').drop('date_after', axis=1)\n"
   ]
  },
  {
   "cell_type": "code",
   "execution_count": 37,
   "metadata": {
    "collapsed": false
   },
   "outputs": [
    {
     "data": {
      "text/plain": [
       "array([[-0.39926875, -0.29432596, -0.39708743, -0.21638392],\n",
       "       [-0.06564035,  0.23600002,  0.27264113, -0.34683887],\n",
       "       [ 0.19725152, -0.27791833,  0.00515219, -0.25832684],\n",
       "       [-0.26773128, -0.3128625 , -0.23666973, -0.46176472],\n",
       "       [ 0.51293371,  0.3877156 ,  0.50316724,  0.00738046],\n",
       "       [-0.36310812,  0.15007403, -0.12980988,  0.04993188]])"
      ]
     },
     "execution_count": 37,
     "metadata": {},
     "output_type": "execute_result"
    }
   ],
   "source": [
    "np.corrcoef(df_full2_lat, rowvar=False)[:-4,-4:]"
   ]
  },
  {
   "cell_type": "code",
   "execution_count": 38,
   "metadata": {
    "collapsed": false
   },
   "outputs": [
    {
     "data": {
      "image/png": "[encoded data removed]",
      "text/plain": [
       "<matplotlib.figure.Figure at 0x1191d6bd0>"
      ]
     },
     "metadata": {},
     "output_type": "display_data"
    }
   ],
   "source": [
    "plt.imshow(np.corrcoef(df_full2_lat, rowvar=False)[:-4,-4:],cmap='gray',interpolation='nearest')\n",
    "plt.colorbar();"
   ]
  },
  {
   "cell_type": "code",
   "execution_count": null,
   "metadata": {
    "collapsed": true
   },
   "outputs": [],
   "source": []
  },
  {
   "cell_type": "code",
   "execution_count": null,
   "metadata": {
    "collapsed": true
   },
   "outputs": [],
   "source": []
  },
  {
   "cell_type": "markdown",
   "metadata": {
    "collapsed": true
   },
   "source": [
    "Testing reliability of correlation (doxylamine to deep sleep %)"
   ]
  },
  {
   "cell_type": "code",
   "execution_count": 39,
   "metadata": {
    "collapsed": false
   },
   "outputs": [
    {
     "name": "stderr",
     "output_type": "stream",
     "text": [
      "//anaconda/lib/python2.7/site-packages/numpy/lib/function_base.py:3162: RuntimeWarning: invalid value encountered in true_divide\n",
      "  c /= stddev[:, None]\n",
      "//anaconda/lib/python2.7/site-packages/numpy/lib/function_base.py:3163: RuntimeWarning: invalid value encountered in true_divide\n",
      "  c /= stddev[None, :]\n"
     ]
    },
    {
     "data": {
      "text/plain": [
       "[<matplotlib.lines.Line2D at 0x11bad0dd0>]"
      ]
     },
     "execution_count": 39,
     "metadata": {},
     "output_type": "execute_result"
    },
    {
     "data": {
      "image/png": "[encoded data removed]",
      "text/plain": [
       "<matplotlib.figure.Figure at 0x116eac410>"
      ]
     },
     "metadata": {},
     "output_type": "display_data"
    }
   ],
   "source": [
    "plt.plot([np.corrcoef(df_full3.iloc[:i,:], rowvar=False)[-7,-3] for i in range(5,df_full3.shape[0])])"
   ]
  },
  {
   "cell_type": "markdown",
   "metadata": {
    "collapsed": true
   },
   "source": [
    "Linear regression for total stage times on TST and meds"
   ]
  },
  {
   "cell_type": "code",
   "execution_count": 40,
   "metadata": {
    "collapsed": true
   },
   "outputs": [],
   "source": [
    "lr_full = LinearRegression()\n",
    "lr_tst_only = LinearRegression()"
   ]
  },
  {
   "cell_type": "code",
   "execution_count": 41,
   "metadata": {
    "collapsed": true
   },
   "outputs": [],
   "source": [
    "full_X  = df_full2[['s_asleep_time','s_duration','T','D','C','W']]\n",
    "tst_only_X = df_full2[['s_duration']]\n",
    "full_Y = df_full2[['s_light', 's_clinical_deep', 's_rem']]"
   ]
  },
  {
   "cell_type": "code",
   "execution_count": 42,
   "metadata": {
    "collapsed": false
   },
   "outputs": [
    {
     "data": {
      "text/plain": [
       "LinearRegression(copy_X=True, fit_intercept=True, n_jobs=1, normalize=False)"
      ]
     },
     "execution_count": 42,
     "metadata": {},
     "output_type": "execute_result"
    }
   ],
   "source": [
    "lr_full.fit(full_X, full_Y)\n",
    "lr_tst_only.fit(tst_only_X, full_Y)"
   ]
  },
  {
   "cell_type": "code",
   "execution_count": 43,
   "metadata": {
    "collapsed": false
   },
   "outputs": [
    {
     "name": "stdout",
     "output_type": "stream",
     "text": [
      "r^2 full: 0.509\n",
      "r^2 TST only: 0.397\n",
      "\n",
      "r^2 increase: 0.111\n"
     ]
    }
   ],
   "source": [
    "print 'r^2 full: %.3f' % lr_full.score(full_X, full_Y)\n",
    "print 'r^2 TST only: %.3f' % lr_tst_only.score(tst_only_X, full_Y)\n",
    "print '\\n' + 'r^2 increase: %.3f' % (lr_full.score(full_X, full_Y) - lr_tst_only.score(tst_only_X, full_Y))"
   ]
  },
  {
   "cell_type": "code",
   "execution_count": 44,
   "metadata": {
    "collapsed": false
   },
   "outputs": [
    {
     "data": {
      "text/plain": [
       "array([[ -8.91565744e-02,   8.15346071e-02,   7.62196732e-03],\n",
       "       [  4.94692353e-01,   1.96916128e-01,   3.08391519e-01],\n",
       "       [ -2.17146057e+01,  -1.40138791e+01,   3.57284848e+01],\n",
       "       [ -3.45352265e+00,   1.53856301e+01,  -1.19321075e+01],\n",
       "       [ -1.71257017e+01,   1.35433023e+01,   3.58239949e+00],\n",
       "       [ -1.47467519e+00,  -2.79712758e+00,   4.27180276e+00]])"
      ]
     },
     "execution_count": 44,
     "metadata": {},
     "output_type": "execute_result"
    }
   ],
   "source": [
    "lr_full.coef_.T"
   ]
  },
  {
   "cell_type": "code",
   "execution_count": 45,
   "metadata": {
    "collapsed": false
   },
   "outputs": [
    {
     "data": {
      "image/png": "[encoded data removed]",
      "text/plain": [
       "<matplotlib.figure.Figure at 0x11bb07d10>"
      ]
     },
     "metadata": {},
     "output_type": "display_data"
    }
   ],
   "source": [
    "plt.imshow(lr_full.coef_[:,1:],cmap='gray',interpolation='nearest');\n",
    "plt.colorbar();"
   ]
  },
  {
   "cell_type": "code",
   "execution_count": 46,
   "metadata": {
    "collapsed": true
   },
   "outputs": [],
   "source": [
    "partial_coefs = []\n",
    "\n",
    "for i in range(5,df_full3.shape[0]):\n",
    "    lr_partial = LinearRegression()\n",
    "    \n",
    "    X_partial  = df_full2.iloc[:i,:][['s_asleep_time', 's_duration','T','D','C','W']]\n",
    "    Y_partial = df_full2.iloc[:i,:][['s_light', 's_clinical_deep', 's_rem']]\n",
    "    \n",
    "    lr_partial.fit(X_partial, Y_partial)\n",
    "    \n",
    "    partial_coefs.append(lr_partial.coef_)\n",
    "    \n",
    "partial_coefs = np.array(partial_coefs)"
   ]
  },
  {
   "cell_type": "code",
   "execution_count": 47,
   "metadata": {
    "collapsed": false
   },
   "outputs": [
    {
     "data": {
      "text/plain": [
       "(24, 3, 6)"
      ]
     },
     "execution_count": 47,
     "metadata": {},
     "output_type": "execute_result"
    }
   ],
   "source": [
    "partial_coefs.shape"
   ]
  },
  {
   "cell_type": "code",
   "execution_count": 48,
   "metadata": {
    "collapsed": true
   },
   "outputs": [],
   "source": [
    "plot_labels = ['T','D','C','W']"
   ]
  },
  {
   "cell_type": "code",
   "execution_count": 49,
   "metadata": {
    "collapsed": false
   },
   "outputs": [
    {
     "data": {
      "image/png": "[encoded data removed]",
      "text/plain": [
       "<matplotlib.figure.Figure at 0x11bb12c50>"
      ]
     },
     "metadata": {},
     "output_type": "display_data"
    }
   ],
   "source": [
    "for i in range(4):\n",
    "    plt.plot(partial_coefs[3:,0,i+2],label=plot_labels[i])\n",
    "plt.title('light coeffs');\n",
    "plt.legend(loc=0);"
   ]
  },
  {
   "cell_type": "code",
   "execution_count": 50,
   "metadata": {
    "collapsed": false
   },
   "outputs": [
    {
     "data": {
      "image/png": "[encoded data removed]",
      "text/plain": [
       "<matplotlib.figure.Figure at 0x11bb73a50>"
      ]
     },
     "metadata": {},
     "output_type": "display_data"
    }
   ],
   "source": [
    "for i in range(4):\n",
    "    plt.plot(partial_coefs[3:,1,i+2],label=plot_labels[i])\n",
    "plt.title('deep coeffs');\n",
    "plt.legend(loc=0);"
   ]
  },
  {
   "cell_type": "code",
   "execution_count": 51,
   "metadata": {
    "collapsed": false
   },
   "outputs": [
    {
     "data": {
      "image/png": "[encoded data removed]",
      "text/plain": [
       "<matplotlib.figure.Figure at 0x11bb43450>"
      ]
     },
     "metadata": {},
     "output_type": "display_data"
    }
   ],
   "source": [
    "for i in range(4):\n",
    "    plt.plot(partial_coefs[3:,2,i+2],label=plot_labels[i])\n",
    "plt.title('rem coeffs');\n",
    "plt.legend(loc=0);"
   ]
  },
  {
   "cell_type": "markdown",
   "metadata": {},
   "source": [
    "Same regression, with statsmodels (for p-values)"
   ]
  },
  {
   "cell_type": "code",
   "execution_count": 52,
   "metadata": {
    "collapsed": false
   },
   "outputs": [],
   "source": [
    "full_X  = df_full2[['s_asleep_time', 's_duration','T','D','C','W']]\n",
    "tst_only_X = df_full2[['s_duration']]\n",
    "full_Y = df_full2[['s_light', 's_clinical_deep', 's_rem']]"
   ]
  },
  {
   "cell_type": "code",
   "execution_count": 53,
   "metadata": {
    "collapsed": false
   },
   "outputs": [],
   "source": [
    "import statsmodels.api as sm\n",
    "\n",
    "lr_sm_rem = sm.OLS(full_Y['s_rem'], sm.add_constant(full_X)).fit()\n",
    "lr_sm_deep = sm.OLS(full_Y['s_clinical_deep'], sm.add_constant(full_X)).fit()\n",
    "lr_sm_light = sm.OLS(full_Y['s_light'], sm.add_constant(full_X)).fit()\n",
    "\n",
    "lr_sm_tst = sm.OLS(full_X['s_duration'], \n",
    "                   sm.add_constant(full_X.drop('s_duration',axis=1))\n",
    "                  ).fit()"
   ]
  },
  {
   "cell_type": "code",
   "execution_count": 54,
   "metadata": {
    "collapsed": false
   },
   "outputs": [
    {
     "data": {
      "text/html": [
       "<table class=\"simpletable\">\n",
       "<caption>OLS Regression Results</caption>\n",
       "<tr>\n",
       "  <th>Dep. Variable:</th>       <td>s_duration</td>    <th>  R-squared:         </th> <td>   0.624</td>\n",
       "</tr>\n",
       "<tr>\n",
       "  <th>Model:</th>                   <td>OLS</td>       <th>  Adj. R-squared:    </th> <td>   0.542</td>\n",
       "</tr>\n",
       "<tr>\n",
       "  <th>Method:</th>             <td>Least Squares</td>  <th>  F-statistic:       </th> <td>   7.631</td>\n",
       "</tr>\n",
       "<tr>\n",
       "  <th>Date:</th>             <td>Tue, 10 Oct 2017</td> <th>  Prob (F-statistic):</th> <td>0.000237</td>\n",
       "</tr>\n",
       "<tr>\n",
       "  <th>Time:</th>                 <td>11:08:55</td>     <th>  Log-Likelihood:    </th> <td> -156.25</td>\n",
       "</tr>\n",
       "<tr>\n",
       "  <th>No. Observations:</th>      <td>    29</td>      <th>  AIC:               </th> <td>   324.5</td>\n",
       "</tr>\n",
       "<tr>\n",
       "  <th>Df Residuals:</th>          <td>    23</td>      <th>  BIC:               </th> <td>   332.7</td>\n",
       "</tr>\n",
       "<tr>\n",
       "  <th>Df Model:</th>              <td>     5</td>      <th>                     </th>     <td> </td>   \n",
       "</tr>\n",
       "<tr>\n",
       "  <th>Covariance Type:</th>      <td>nonrobust</td>    <th>                     </th>     <td> </td>   \n",
       "</tr>\n",
       "</table>\n",
       "<table class=\"simpletable\">\n",
       "<tr>\n",
       "        <td></td>           <th>coef</th>     <th>std err</th>      <th>t</th>      <th>P>|t|</th>  <th>[0.025</th>    <th>0.975]</th>  \n",
       "</tr>\n",
       "<tr>\n",
       "  <th>const</th>         <td>  543.1719</td> <td>   38.972</td> <td>   13.938</td> <td> 0.000</td> <td>  462.552</td> <td>  623.792</td>\n",
       "</tr>\n",
       "<tr>\n",
       "  <th>s_asleep_time</th> <td>   -0.5175</td> <td>    0.162</td> <td>   -3.200</td> <td> 0.004</td> <td>   -0.852</td> <td>   -0.183</td>\n",
       "</tr>\n",
       "<tr>\n",
       "  <th>T</th>             <td>   -7.7870</td> <td>   30.601</td> <td>   -0.254</td> <td> 0.801</td> <td>  -71.091</td> <td>   55.517</td>\n",
       "</tr>\n",
       "<tr>\n",
       "  <th>D</th>             <td>  -11.3897</td> <td>   23.177</td> <td>   -0.491</td> <td> 0.628</td> <td>  -59.334</td> <td>   36.555</td>\n",
       "</tr>\n",
       "<tr>\n",
       "  <th>C</th>             <td>   -6.9011</td> <td>   20.924</td> <td>   -0.330</td> <td> 0.745</td> <td>  -50.186</td> <td>   36.384</td>\n",
       "</tr>\n",
       "<tr>\n",
       "  <th>W</th>             <td>  -44.0945</td> <td>   12.636</td> <td>   -3.490</td> <td> 0.002</td> <td>  -70.233</td> <td>  -17.956</td>\n",
       "</tr>\n",
       "</table>\n",
       "<table class=\"simpletable\">\n",
       "<tr>\n",
       "  <th>Omnibus:</th>       <td> 9.027</td> <th>  Durbin-Watson:     </th> <td>   2.742</td>\n",
       "</tr>\n",
       "<tr>\n",
       "  <th>Prob(Omnibus):</th> <td> 0.011</td> <th>  Jarque-Bera (JB):  </th> <td>   7.328</td>\n",
       "</tr>\n",
       "<tr>\n",
       "  <th>Skew:</th>          <td>-1.081</td> <th>  Prob(JB):          </th> <td>  0.0256</td>\n",
       "</tr>\n",
       "<tr>\n",
       "  <th>Kurtosis:</th>      <td> 4.178</td> <th>  Cond. No.          </th> <td>    528.</td>\n",
       "</tr>\n",
       "</table>"
      ],
      "text/plain": [
       "<class 'statsmodels.iolib.summary.Summary'>\n",
       "\"\"\"\n",
       "                            OLS Regression Results                            \n",
       "==============================================================================\n",
       "Dep. Variable:             s_duration   R-squared:                       0.624\n",
       "Model:                            OLS   Adj. R-squared:                  0.542\n",
       "Method:                 Least Squares   F-statistic:                     7.631\n",
       "Date:                Tue, 10 Oct 2017   Prob (F-statistic):           0.000237\n",
       "Time:                        11:08:55   Log-Likelihood:                -156.25\n",
       "No. Observations:                  29   AIC:                             324.5\n",
       "Df Residuals:                      23   BIC:                             332.7\n",
       "Df Model:                           5                                         \n",
       "Covariance Type:            nonrobust                                         \n",
       "=================================================================================\n",
       "                    coef    std err          t      P>|t|      [0.025      0.975]\n",
       "---------------------------------------------------------------------------------\n",
       "const           543.1719     38.972     13.938      0.000     462.552     623.792\n",
       "s_asleep_time    -0.5175      0.162     -3.200      0.004      -0.852      -0.183\n",
       "T                -7.7870     30.601     -0.254      0.801     -71.091      55.517\n",
       "D               -11.3897     23.177     -0.491      0.628     -59.334      36.555\n",
       "C                -6.9011     20.924     -0.330      0.745     -50.186      36.384\n",
       "W               -44.0945     12.636     -3.490      0.002     -70.233     -17.956\n",
       "==============================================================================\n",
       "Omnibus:                        9.027   Durbin-Watson:                   2.742\n",
       "Prob(Omnibus):                  0.011   Jarque-Bera (JB):                7.328\n",
       "Skew:                          -1.081   Prob(JB):                       0.0256\n",
       "Kurtosis:                       4.178   Cond. No.                         528.\n",
       "==============================================================================\n",
       "\n",
       "Warnings:\n",
       "[1] Standard Errors assume that the covariance matrix of the errors is correctly specified.\n",
       "\"\"\""
      ]
     },
     "execution_count": 54,
     "metadata": {},
     "output_type": "execute_result"
    }
   ],
   "source": [
    "lr_sm_tst.summary()"
   ]
  },
  {
   "cell_type": "code",
   "execution_count": 55,
   "metadata": {
    "collapsed": false,
    "scrolled": false
   },
   "outputs": [
    {
     "data": {
      "text/html": [
       "<table class=\"simpletable\">\n",
       "<caption>OLS Regression Results</caption>\n",
       "<tr>\n",
       "  <th>Dep. Variable:</th>          <td>s_rem</td>      <th>  R-squared:         </th> <td>   0.349</td>\n",
       "</tr>\n",
       "<tr>\n",
       "  <th>Model:</th>                   <td>OLS</td>       <th>  Adj. R-squared:    </th> <td>   0.172</td>\n",
       "</tr>\n",
       "<tr>\n",
       "  <th>Method:</th>             <td>Least Squares</td>  <th>  F-statistic:       </th> <td>   1.969</td>\n",
       "</tr>\n",
       "<tr>\n",
       "  <th>Date:</th>             <td>Tue, 10 Oct 2017</td> <th>  Prob (F-statistic):</th>  <td> 0.114</td> \n",
       "</tr>\n",
       "<tr>\n",
       "  <th>Time:</th>                 <td>11:08:55</td>     <th>  Log-Likelihood:    </th> <td> -146.05</td>\n",
       "</tr>\n",
       "<tr>\n",
       "  <th>No. Observations:</th>      <td>    29</td>      <th>  AIC:               </th> <td>   306.1</td>\n",
       "</tr>\n",
       "<tr>\n",
       "  <th>Df Residuals:</th>          <td>    22</td>      <th>  BIC:               </th> <td>   315.7</td>\n",
       "</tr>\n",
       "<tr>\n",
       "  <th>Df Model:</th>              <td>     6</td>      <th>                     </th>     <td> </td>   \n",
       "</tr>\n",
       "<tr>\n",
       "  <th>Covariance Type:</th>      <td>nonrobust</td>    <th>                     </th>     <td> </td>   \n",
       "</tr>\n",
       "</table>\n",
       "<table class=\"simpletable\">\n",
       "<tr>\n",
       "        <td></td>           <th>coef</th>     <th>std err</th>      <th>t</th>      <th>P>|t|</th>  <th>[0.025</th>    <th>0.975]</th>  \n",
       "</tr>\n",
       "<tr>\n",
       "  <th>const</th>         <td>  -53.9794</td> <td>   86.144</td> <td>   -0.627</td> <td> 0.537</td> <td> -232.631</td> <td>  124.672</td>\n",
       "</tr>\n",
       "<tr>\n",
       "  <th>s_asleep_time</th> <td>    0.0076</td> <td>    0.140</td> <td>    0.055</td> <td> 0.957</td> <td>   -0.282</td> <td>    0.298</td>\n",
       "</tr>\n",
       "<tr>\n",
       "  <th>s_duration</th>    <td>    0.3084</td> <td>    0.150</td> <td>    2.056</td> <td> 0.052</td> <td>   -0.003</td> <td>    0.619</td>\n",
       "</tr>\n",
       "<tr>\n",
       "  <th>T</th>             <td>   35.7285</td> <td>   22.040</td> <td>    1.621</td> <td> 0.119</td> <td>   -9.979</td> <td>   81.436</td>\n",
       "</tr>\n",
       "<tr>\n",
       "  <th>D</th>             <td>  -11.9321</td> <td>   16.756</td> <td>   -0.712</td> <td> 0.484</td> <td>  -46.682</td> <td>   22.818</td>\n",
       "</tr>\n",
       "<tr>\n",
       "  <th>C</th>             <td>    3.5824</td> <td>   15.084</td> <td>    0.237</td> <td> 0.814</td> <td>  -27.700</td> <td>   34.865</td>\n",
       "</tr>\n",
       "<tr>\n",
       "  <th>W</th>             <td>    4.2718</td> <td>   11.239</td> <td>    0.380</td> <td> 0.708</td> <td>  -19.036</td> <td>   27.580</td>\n",
       "</tr>\n",
       "</table>\n",
       "<table class=\"simpletable\">\n",
       "<tr>\n",
       "  <th>Omnibus:</th>       <td> 4.810</td> <th>  Durbin-Watson:     </th> <td>   2.134</td>\n",
       "</tr>\n",
       "<tr>\n",
       "  <th>Prob(Omnibus):</th> <td> 0.090</td> <th>  Jarque-Bera (JB):  </th> <td>   3.166</td>\n",
       "</tr>\n",
       "<tr>\n",
       "  <th>Skew:</th>          <td> 0.738</td> <th>  Prob(JB):          </th> <td>   0.205</td>\n",
       "</tr>\n",
       "<tr>\n",
       "  <th>Kurtosis:</th>      <td> 3.666</td> <th>  Cond. No.          </th> <td>5.26e+03</td>\n",
       "</tr>\n",
       "</table>"
      ],
      "text/plain": [
       "<class 'statsmodels.iolib.summary.Summary'>\n",
       "\"\"\"\n",
       "                            OLS Regression Results                            \n",
       "==============================================================================\n",
       "Dep. Variable:                  s_rem   R-squared:                       0.349\n",
       "Model:                            OLS   Adj. R-squared:                  0.172\n",
       "Method:                 Least Squares   F-statistic:                     1.969\n",
       "Date:                Tue, 10 Oct 2017   Prob (F-statistic):              0.114\n",
       "Time:                        11:08:55   Log-Likelihood:                -146.05\n",
       "No. Observations:                  29   AIC:                             306.1\n",
       "Df Residuals:                      22   BIC:                             315.7\n",
       "Df Model:                           6                                         \n",
       "Covariance Type:            nonrobust                                         \n",
       "=================================================================================\n",
       "                    coef    std err          t      P>|t|      [0.025      0.975]\n",
       "---------------------------------------------------------------------------------\n",
       "const           -53.9794     86.144     -0.627      0.537    -232.631     124.672\n",
       "s_asleep_time     0.0076      0.140      0.055      0.957      -0.282       0.298\n",
       "s_duration        0.3084      0.150      2.056      0.052      -0.003       0.619\n",
       "T                35.7285     22.040      1.621      0.119      -9.979      81.436\n",
       "D               -11.9321     16.756     -0.712      0.484     -46.682      22.818\n",
       "C                 3.5824     15.084      0.237      0.814     -27.700      34.865\n",
       "W                 4.2718     11.239      0.380      0.708     -19.036      27.580\n",
       "==============================================================================\n",
       "Omnibus:                        4.810   Durbin-Watson:                   2.134\n",
       "Prob(Omnibus):                  0.090   Jarque-Bera (JB):                3.166\n",
       "Skew:                           0.738   Prob(JB):                        0.205\n",
       "Kurtosis:                       3.666   Cond. No.                     5.26e+03\n",
       "==============================================================================\n",
       "\n",
       "Warnings:\n",
       "[1] Standard Errors assume that the covariance matrix of the errors is correctly specified.\n",
       "[2] The condition number is large, 5.26e+03. This might indicate that there are\n",
       "strong multicollinearity or other numerical problems.\n",
       "\"\"\""
      ]
     },
     "execution_count": 55,
     "metadata": {},
     "output_type": "execute_result"
    }
   ],
   "source": [
    "lr_sm_rem.summary()"
   ]
  },
  {
   "cell_type": "code",
   "execution_count": 56,
   "metadata": {
    "collapsed": false
   },
   "outputs": [
    {
     "data": {
      "text/html": [
       "<table class=\"simpletable\">\n",
       "<caption>OLS Regression Results</caption>\n",
       "<tr>\n",
       "  <th>Dep. Variable:</th>     <td>s_clinical_deep</td> <th>  R-squared:         </th> <td>   0.333</td>\n",
       "</tr>\n",
       "<tr>\n",
       "  <th>Model:</th>                   <td>OLS</td>       <th>  Adj. R-squared:    </th> <td>   0.151</td>\n",
       "</tr>\n",
       "<tr>\n",
       "  <th>Method:</th>             <td>Least Squares</td>  <th>  F-statistic:       </th> <td>   1.828</td>\n",
       "</tr>\n",
       "<tr>\n",
       "  <th>Date:</th>             <td>Tue, 10 Oct 2017</td> <th>  Prob (F-statistic):</th>  <td> 0.140</td> \n",
       "</tr>\n",
       "<tr>\n",
       "  <th>Time:</th>                 <td>11:08:55</td>     <th>  Log-Likelihood:    </th> <td> -137.25</td>\n",
       "</tr>\n",
       "<tr>\n",
       "  <th>No. Observations:</th>      <td>    29</td>      <th>  AIC:               </th> <td>   288.5</td>\n",
       "</tr>\n",
       "<tr>\n",
       "  <th>Df Residuals:</th>          <td>    22</td>      <th>  BIC:               </th> <td>   298.1</td>\n",
       "</tr>\n",
       "<tr>\n",
       "  <th>Df Model:</th>              <td>     6</td>      <th>                     </th>     <td> </td>   \n",
       "</tr>\n",
       "<tr>\n",
       "  <th>Covariance Type:</th>      <td>nonrobust</td>    <th>                     </th>     <td> </td>   \n",
       "</tr>\n",
       "</table>\n",
       "<table class=\"simpletable\">\n",
       "<tr>\n",
       "        <td></td>           <th>coef</th>     <th>std err</th>      <th>t</th>      <th>P>|t|</th>  <th>[0.025</th>    <th>0.975]</th>  \n",
       "</tr>\n",
       "<tr>\n",
       "  <th>const</th>         <td>  -21.7952</td> <td>   63.606</td> <td>   -0.343</td> <td> 0.735</td> <td> -153.705</td> <td>  110.115</td>\n",
       "</tr>\n",
       "<tr>\n",
       "  <th>s_asleep_time</th> <td>    0.0815</td> <td>    0.103</td> <td>    0.790</td> <td> 0.438</td> <td>   -0.133</td> <td>    0.296</td>\n",
       "</tr>\n",
       "<tr>\n",
       "  <th>s_duration</th>    <td>    0.1969</td> <td>    0.111</td> <td>    1.778</td> <td> 0.089</td> <td>   -0.033</td> <td>    0.427</td>\n",
       "</tr>\n",
       "<tr>\n",
       "  <th>T</th>             <td>  -14.0139</td> <td>   16.273</td> <td>   -0.861</td> <td> 0.398</td> <td>  -47.763</td> <td>   19.735</td>\n",
       "</tr>\n",
       "<tr>\n",
       "  <th>D</th>             <td>   15.3856</td> <td>   12.372</td> <td>    1.244</td> <td> 0.227</td> <td>  -10.272</td> <td>   41.044</td>\n",
       "</tr>\n",
       "<tr>\n",
       "  <th>C</th>             <td>   13.5433</td> <td>   11.138</td> <td>    1.216</td> <td> 0.237</td> <td>   -9.555</td> <td>   36.641</td>\n",
       "</tr>\n",
       "<tr>\n",
       "  <th>W</th>             <td>   -2.7971</td> <td>    8.298</td> <td>   -0.337</td> <td> 0.739</td> <td>  -20.007</td> <td>   14.413</td>\n",
       "</tr>\n",
       "</table>\n",
       "<table class=\"simpletable\">\n",
       "<tr>\n",
       "  <th>Omnibus:</th>       <td> 1.383</td> <th>  Durbin-Watson:     </th> <td>   1.758</td>\n",
       "</tr>\n",
       "<tr>\n",
       "  <th>Prob(Omnibus):</th> <td> 0.501</td> <th>  Jarque-Bera (JB):  </th> <td>   1.278</td>\n",
       "</tr>\n",
       "<tr>\n",
       "  <th>Skew:</th>          <td> 0.393</td> <th>  Prob(JB):          </th> <td>   0.528</td>\n",
       "</tr>\n",
       "<tr>\n",
       "  <th>Kurtosis:</th>      <td> 2.337</td> <th>  Cond. No.          </th> <td>5.26e+03</td>\n",
       "</tr>\n",
       "</table>"
      ],
      "text/plain": [
       "<class 'statsmodels.iolib.summary.Summary'>\n",
       "\"\"\"\n",
       "                            OLS Regression Results                            \n",
       "==============================================================================\n",
       "Dep. Variable:        s_clinical_deep   R-squared:                       0.333\n",
       "Model:                            OLS   Adj. R-squared:                  0.151\n",
       "Method:                 Least Squares   F-statistic:                     1.828\n",
       "Date:                Tue, 10 Oct 2017   Prob (F-statistic):              0.140\n",
       "Time:                        11:08:55   Log-Likelihood:                -137.25\n",
       "No. Observations:                  29   AIC:                             288.5\n",
       "Df Residuals:                      22   BIC:                             298.1\n",
       "Df Model:                           6                                         \n",
       "Covariance Type:            nonrobust                                         \n",
       "=================================================================================\n",
       "                    coef    std err          t      P>|t|      [0.025      0.975]\n",
       "---------------------------------------------------------------------------------\n",
       "const           -21.7952     63.606     -0.343      0.735    -153.705     110.115\n",
       "s_asleep_time     0.0815      0.103      0.790      0.438      -0.133       0.296\n",
       "s_duration        0.1969      0.111      1.778      0.089      -0.033       0.427\n",
       "T               -14.0139     16.273     -0.861      0.398     -47.763      19.735\n",
       "D                15.3856     12.372      1.244      0.227     -10.272      41.044\n",
       "C                13.5433     11.138      1.216      0.237      -9.555      36.641\n",
       "W                -2.7971      8.298     -0.337      0.739     -20.007      14.413\n",
       "==============================================================================\n",
       "Omnibus:                        1.383   Durbin-Watson:                   1.758\n",
       "Prob(Omnibus):                  0.501   Jarque-Bera (JB):                1.278\n",
       "Skew:                           0.393   Prob(JB):                        0.528\n",
       "Kurtosis:                       2.337   Cond. No.                     5.26e+03\n",
       "==============================================================================\n",
       "\n",
       "Warnings:\n",
       "[1] Standard Errors assume that the covariance matrix of the errors is correctly specified.\n",
       "[2] The condition number is large, 5.26e+03. This might indicate that there are\n",
       "strong multicollinearity or other numerical problems.\n",
       "\"\"\""
      ]
     },
     "execution_count": 56,
     "metadata": {},
     "output_type": "execute_result"
    }
   ],
   "source": [
    "lr_sm_deep.summary()"
   ]
  },
  {
   "cell_type": "code",
   "execution_count": 57,
   "metadata": {
    "collapsed": false
   },
   "outputs": [
    {
     "data": {
      "text/html": [
       "<table class=\"simpletable\">\n",
       "<caption>OLS Regression Results</caption>\n",
       "<tr>\n",
       "  <th>Dep. Variable:</th>         <td>s_light</td>     <th>  R-squared:         </th> <td>   0.604</td>\n",
       "</tr>\n",
       "<tr>\n",
       "  <th>Model:</th>                   <td>OLS</td>       <th>  Adj. R-squared:    </th> <td>   0.496</td>\n",
       "</tr>\n",
       "<tr>\n",
       "  <th>Method:</th>             <td>Least Squares</td>  <th>  F-statistic:       </th> <td>   5.592</td>\n",
       "</tr>\n",
       "<tr>\n",
       "  <th>Date:</th>             <td>Tue, 10 Oct 2017</td> <th>  Prob (F-statistic):</th>  <td>0.00119</td>\n",
       "</tr>\n",
       "<tr>\n",
       "  <th>Time:</th>                 <td>11:08:55</td>     <th>  Log-Likelihood:    </th> <td> -152.99</td>\n",
       "</tr>\n",
       "<tr>\n",
       "  <th>No. Observations:</th>      <td>    29</td>      <th>  AIC:               </th> <td>   320.0</td>\n",
       "</tr>\n",
       "<tr>\n",
       "  <th>Df Residuals:</th>          <td>    22</td>      <th>  BIC:               </th> <td>   329.5</td>\n",
       "</tr>\n",
       "<tr>\n",
       "  <th>Df Model:</th>              <td>     6</td>      <th>                     </th>     <td> </td>   \n",
       "</tr>\n",
       "<tr>\n",
       "  <th>Covariance Type:</th>      <td>nonrobust</td>    <th>                     </th>     <td> </td>   \n",
       "</tr>\n",
       "</table>\n",
       "<table class=\"simpletable\">\n",
       "<tr>\n",
       "        <td></td>           <th>coef</th>     <th>std err</th>      <th>t</th>      <th>P>|t|</th>  <th>[0.025</th>    <th>0.975]</th>  \n",
       "</tr>\n",
       "<tr>\n",
       "  <th>const</th>         <td>   75.7747</td> <td>  109.415</td> <td>    0.693</td> <td> 0.496</td> <td> -151.138</td> <td>  302.687</td>\n",
       "</tr>\n",
       "<tr>\n",
       "  <th>s_asleep_time</th> <td>   -0.0892</td> <td>    0.178</td> <td>   -0.502</td> <td> 0.621</td> <td>   -0.457</td> <td>    0.279</td>\n",
       "</tr>\n",
       "<tr>\n",
       "  <th>s_duration</th>    <td>    0.4947</td> <td>    0.190</td> <td>    2.597</td> <td> 0.016</td> <td>    0.100</td> <td>    0.890</td>\n",
       "</tr>\n",
       "<tr>\n",
       "  <th>T</th>             <td>  -21.7146</td> <td>   27.993</td> <td>   -0.776</td> <td> 0.446</td> <td>  -79.769</td> <td>   36.340</td>\n",
       "</tr>\n",
       "<tr>\n",
       "  <th>D</th>             <td>   -3.4535</td> <td>   21.282</td> <td>   -0.162</td> <td> 0.873</td> <td>  -47.591</td> <td>   40.684</td>\n",
       "</tr>\n",
       "<tr>\n",
       "  <th>C</th>             <td>  -17.1257</td> <td>   19.159</td> <td>   -0.894</td> <td> 0.381</td> <td>  -56.859</td> <td>   22.608</td>\n",
       "</tr>\n",
       "<tr>\n",
       "  <th>W</th>             <td>   -1.4747</td> <td>   14.275</td> <td>   -0.103</td> <td> 0.919</td> <td>  -31.079</td> <td>   28.130</td>\n",
       "</tr>\n",
       "</table>\n",
       "<table class=\"simpletable\">\n",
       "<tr>\n",
       "  <th>Omnibus:</th>       <td> 3.476</td> <th>  Durbin-Watson:     </th> <td>   2.205</td>\n",
       "</tr>\n",
       "<tr>\n",
       "  <th>Prob(Omnibus):</th> <td> 0.176</td> <th>  Jarque-Bera (JB):  </th> <td>   1.976</td>\n",
       "</tr>\n",
       "<tr>\n",
       "  <th>Skew:</th>          <td>-0.455</td> <th>  Prob(JB):          </th> <td>   0.372</td>\n",
       "</tr>\n",
       "<tr>\n",
       "  <th>Kurtosis:</th>      <td> 3.899</td> <th>  Cond. No.          </th> <td>5.26e+03</td>\n",
       "</tr>\n",
       "</table>"
      ],
      "text/plain": [
       "<class 'statsmodels.iolib.summary.Summary'>\n",
       "\"\"\"\n",
       "                            OLS Regression Results                            \n",
       "==============================================================================\n",
       "Dep. Variable:                s_light   R-squared:                       0.604\n",
       "Model:                            OLS   Adj. R-squared:                  0.496\n",
       "Method:                 Least Squares   F-statistic:                     5.592\n",
       "Date:                Tue, 10 Oct 2017   Prob (F-statistic):            0.00119\n",
       "Time:                        11:08:55   Log-Likelihood:                -152.99\n",
       "No. Observations:                  29   AIC:                             320.0\n",
       "Df Residuals:                      22   BIC:                             329.5\n",
       "Df Model:                           6                                         \n",
       "Covariance Type:            nonrobust                                         \n",
       "=================================================================================\n",
       "                    coef    std err          t      P>|t|      [0.025      0.975]\n",
       "---------------------------------------------------------------------------------\n",
       "const            75.7747    109.415      0.693      0.496    -151.138     302.687\n",
       "s_asleep_time    -0.0892      0.178     -0.502      0.621      -0.457       0.279\n",
       "s_duration        0.4947      0.190      2.597      0.016       0.100       0.890\n",
       "T               -21.7146     27.993     -0.776      0.446     -79.769      36.340\n",
       "D                -3.4535     21.282     -0.162      0.873     -47.591      40.684\n",
       "C               -17.1257     19.159     -0.894      0.381     -56.859      22.608\n",
       "W                -1.4747     14.275     -0.103      0.919     -31.079      28.130\n",
       "==============================================================================\n",
       "Omnibus:                        3.476   Durbin-Watson:                   2.205\n",
       "Prob(Omnibus):                  0.176   Jarque-Bera (JB):                1.976\n",
       "Skew:                          -0.455   Prob(JB):                        0.372\n",
       "Kurtosis:                       3.899   Cond. No.                     5.26e+03\n",
       "==============================================================================\n",
       "\n",
       "Warnings:\n",
       "[1] Standard Errors assume that the covariance matrix of the errors is correctly specified.\n",
       "[2] The condition number is large, 5.26e+03. This might indicate that there are\n",
       "strong multicollinearity or other numerical problems.\n",
       "\"\"\""
      ]
     },
     "execution_count": 57,
     "metadata": {},
     "output_type": "execute_result"
    }
   ],
   "source": [
    "lr_sm_light.summary()"
   ]
  },
  {
   "cell_type": "markdown",
   "metadata": {
    "collapsed": true
   },
   "source": [
    "Linear regression on only presence/absence of each med"
   ]
  },
  {
   "cell_type": "code",
   "execution_count": 58,
   "metadata": {
    "collapsed": false
   },
   "outputs": [],
   "source": [
    "bool_X = full_X.drop(['s_duration', 's_asleep_time'], axis=1).applymap(lambda x: int(x > 0))\n",
    "bool_X[['s_duration', 's_asleep_time']] = full_X[['s_duration', 's_asleep_time']]"
   ]
  },
  {
   "cell_type": "code",
   "execution_count": 59,
   "metadata": {
    "collapsed": false
   },
   "outputs": [],
   "source": [
    "lr_bool_rem = sm.OLS(full_Y['s_rem'], sm.add_constant(bool_X)).fit()\n",
    "lr_bool_deep = sm.OLS(full_Y['s_clinical_deep'], sm.add_constant(bool_X)).fit()\n",
    "lr_bool_light = sm.OLS(full_Y['s_light'], sm.add_constant(bool_X)).fit()\n",
    "\n",
    "lr_bool_tst = sm.OLS(full_X['s_duration'], \n",
    "                   sm.add_constant(bool_X.drop('s_duration',axis=1))\n",
    "                  ).fit()"
   ]
  },
  {
   "cell_type": "code",
   "execution_count": 60,
   "metadata": {
    "collapsed": false
   },
   "outputs": [
    {
     "name": "stdout",
     "output_type": "stream",
     "text": [
      "rem\n",
      "\n",
      "full\n",
      "\n",
      "=================================================================================\n",
      "                    coef    std err          t      P>|t|      [0.025      0.975]\n",
      "---------------------------------------------------------------------------------\n",
      "const           -53.9794     86.144     -0.627      0.537    -232.631     124.672\n",
      "s_asleep_time     0.0076      0.140      0.055      0.957      -0.282       0.298\n",
      "s_duration        0.3084      0.150      2.056      0.052      -0.003       0.619\n",
      "T                35.7285     22.040      1.621      0.119      -9.979      81.436\n",
      "D               -11.9321     16.756     -0.712      0.484     -46.682      22.818\n",
      "C                 3.5824     15.084      0.237      0.814     -27.700      34.865\n",
      "W                 4.2718     11.239      0.380      0.708     -19.036      27.580\n",
      "================================================================================= \n",
      "\n",
      "\n",
      "bool\n",
      "\n",
      "=================================================================================\n",
      "                    coef    std err          t      P>|t|      [0.025      0.975]\n",
      "---------------------------------------------------------------------------------\n",
      "const           -73.3673     89.689     -0.818      0.422    -259.371     112.636\n",
      "T                55.1784     46.034      1.199      0.243     -40.289     150.646\n",
      "D               -18.5582     19.924     -0.931      0.362     -59.879      22.763\n",
      "C                12.1131     19.811      0.611      0.547     -28.971      53.198\n",
      "W                11.0511     30.782      0.359      0.723     -52.786      74.888\n",
      "s_duration        0.3135      0.148      2.124      0.045       0.007       0.620\n",
      "s_asleep_time     0.1051      0.129      0.817      0.422      -0.162       0.372\n",
      "=================================================================================\n"
     ]
    }
   ],
   "source": [
    "print 'rem\\n'\n",
    "\n",
    "print 'full\\n\\n', lr_sm_rem.summary().tables[1].as_text(), '\\n\\n'\n",
    "print 'bool\\n\\n', lr_bool_rem.summary().tables[1].as_text()"
   ]
  },
  {
   "cell_type": "code",
   "execution_count": 61,
   "metadata": {
    "collapsed": false
   },
   "outputs": [
    {
     "name": "stdout",
     "output_type": "stream",
     "text": [
      "deep\n",
      "\n",
      "full\n",
      "\n",
      "=================================================================================\n",
      "                    coef    std err          t      P>|t|      [0.025      0.975]\n",
      "---------------------------------------------------------------------------------\n",
      "const           -21.7952     63.606     -0.343      0.735    -153.705     110.115\n",
      "s_asleep_time     0.0815      0.103      0.790      0.438      -0.133       0.296\n",
      "s_duration        0.1969      0.111      1.778      0.089      -0.033       0.427\n",
      "T               -14.0139     16.273     -0.861      0.398     -47.763      19.735\n",
      "D                15.3856     12.372      1.244      0.227     -10.272      41.044\n",
      "C                13.5433     11.138      1.216      0.237      -9.555      36.641\n",
      "W                -2.7971      8.298     -0.337      0.739     -20.007      14.413\n",
      "================================================================================= \n",
      "\n",
      "\n",
      "bool\n",
      "\n",
      "=================================================================================\n",
      "                    coef    std err          t      P>|t|      [0.025      0.975]\n",
      "---------------------------------------------------------------------------------\n",
      "const           -31.8016     65.277     -0.487      0.631    -167.178     103.575\n",
      "T                 8.1666     33.504      0.244      0.810     -61.316      77.650\n",
      "D                18.0006     14.501      1.241      0.228     -12.073      48.075\n",
      "C                12.2655     14.418      0.851      0.404     -17.637      42.167\n",
      "W               -12.9919     22.403     -0.580      0.568     -59.454      33.470\n",
      "s_duration        0.1693      0.107      1.576      0.129      -0.053       0.392\n",
      "s_asleep_time     0.0648      0.094      0.693      0.496      -0.129       0.259\n",
      "=================================================================================\n"
     ]
    }
   ],
   "source": [
    "print 'deep\\n'\n",
    "\n",
    "print 'full\\n\\n', lr_sm_deep.summary().tables[1].as_text(), '\\n\\n'\n",
    "print 'bool\\n\\n', lr_bool_deep.summary().tables[1].as_text()"
   ]
  },
  {
   "cell_type": "code",
   "execution_count": 62,
   "metadata": {
    "collapsed": false
   },
   "outputs": [
    {
     "name": "stdout",
     "output_type": "stream",
     "text": [
      "light\n",
      "\n",
      "full\n",
      "\n",
      "=================================================================================\n",
      "                    coef    std err          t      P>|t|      [0.025      0.975]\n",
      "---------------------------------------------------------------------------------\n",
      "const            75.7747    109.415      0.693      0.496    -151.138     302.687\n",
      "s_asleep_time    -0.0892      0.178     -0.502      0.621      -0.457       0.279\n",
      "s_duration        0.4947      0.190      2.597      0.016       0.100       0.890\n",
      "T               -21.7146     27.993     -0.776      0.446     -79.769      36.340\n",
      "D                -3.4535     21.282     -0.162      0.873     -47.591      40.684\n",
      "C               -17.1257     19.159     -0.894      0.381     -56.859      22.608\n",
      "W                -1.4747     14.275     -0.103      0.919     -31.079      28.130\n",
      "================================================================================= \n",
      "\n",
      "\n",
      "bool\n",
      "\n",
      "=================================================================================\n",
      "                    coef    std err          t      P>|t|      [0.025      0.975]\n",
      "---------------------------------------------------------------------------------\n",
      "const           105.1689    110.163      0.955      0.350    -123.295     333.633\n",
      "T               -63.3450     56.542     -1.120      0.275    -180.606      53.916\n",
      "D                 0.5575     24.473      0.023      0.982     -50.196      51.311\n",
      "C               -24.3786     24.333     -1.002      0.327     -74.842      26.085\n",
      "W                 1.9408     37.808      0.051      0.960     -76.469      80.351\n",
      "s_duration        0.5172      0.181      2.853      0.009       0.141       0.893\n",
      "s_asleep_time    -0.1699      0.158     -1.076      0.294      -0.497       0.158\n",
      "=================================================================================\n"
     ]
    }
   ],
   "source": [
    "print 'light\\n'\n",
    "\n",
    "print 'full\\n\\n', lr_sm_light.summary().tables[1].as_text(), '\\n\\n'\n",
    "print 'bool\\n\\n', lr_bool_light.summary().tables[1].as_text()"
   ]
  },
  {
   "cell_type": "code",
   "execution_count": 63,
   "metadata": {
    "collapsed": false
   },
   "outputs": [
    {
     "name": "stdout",
     "output_type": "stream",
     "text": [
      "tst\n",
      "\n",
      "full\n",
      "\n",
      "=================================================================================\n",
      "                    coef    std err          t      P>|t|      [0.025      0.975]\n",
      "---------------------------------------------------------------------------------\n",
      "const           543.1719     38.972     13.938      0.000     462.552     623.792\n",
      "s_asleep_time    -0.5175      0.162     -3.200      0.004      -0.852      -0.183\n",
      "T                -7.7870     30.601     -0.254      0.801     -71.091      55.517\n",
      "D               -11.3897     23.177     -0.491      0.628     -59.334      36.555\n",
      "C                -6.9011     20.924     -0.330      0.745     -50.186      36.384\n",
      "W               -44.0945     12.636     -3.490      0.002     -70.233     -17.956\n",
      "================================================================================= \n",
      "\n",
      "\n",
      "bool\n",
      "\n",
      "=================================================================================\n",
      "                    coef    std err          t      P>|t|      [0.025      0.975]\n",
      "---------------------------------------------------------------------------------\n",
      "const           509.9674     68.939      7.397      0.000     367.357     652.578\n",
      "T                17.2120     64.945      0.265      0.793    -117.136     151.560\n",
      "D                 4.0792     28.140      0.145      0.886     -54.132      62.291\n",
      "C                -4.9232     27.973     -0.176      0.862     -62.789      52.943\n",
      "W              -109.7145     36.991     -2.966      0.007    -186.236     -33.193\n",
      "s_asleep_time    -0.5901      0.134     -4.416      0.000      -0.867      -0.314\n",
      "=================================================================================\n"
     ]
    }
   ],
   "source": [
    "print 'tst\\n'\n",
    "\n",
    "print 'full\\n\\n', lr_sm_tst.summary().tables[1].as_text(), '\\n\\n'\n",
    "print 'bool\\n\\n', lr_bool_tst.summary().tables[1].as_text()"
   ]
  },
  {
   "cell_type": "markdown",
   "metadata": {},
   "source": [
    "Messing around"
   ]
  },
  {
   "cell_type": "code",
   "execution_count": 64,
   "metadata": {
    "collapsed": true
   },
   "outputs": [],
   "source": [
    "import pydot\n",
    "from IPython.display import SVG\n",
    "from pycausal import search as s\n",
    "from pycausal import pycausal"
   ]
  },
  {
   "cell_type": "code",
   "execution_count": 65,
   "metadata": {
    "collapsed": true
   },
   "outputs": [],
   "source": [
    "from pycausal import pycausal as pc\n",
    "pc.start_vm()"
   ]
  },
  {
   "cell_type": "code",
   "execution_count": 66,
   "metadata": {
    "collapsed": false
   },
   "outputs": [],
   "source": [
    "df_full2['ind'] = range(df_full2.shape[0])\n",
    "df_full2_ind = df_full2.set_index('ind').drop('s_duration',axis=1)\n",
    "\n",
    "bool_X['ind'] = range(bool_X.shape[0])\n",
    "bool_X_ind = bool_X.set_index('ind').drop('s_duration',axis=1)\n",
    "\n",
    "df_bool_ind = df_full2_ind.copy()\n",
    "df_bool_ind[['T','D','C','W']] = bool_X_ind[['T','D','C','W']]"
   ]
  },
  {
   "cell_type": "code",
   "execution_count": 67,
   "metadata": {
    "collapsed": true
   },
   "outputs": [],
   "source": [
    "from pycausal import prior as p\n",
    "temporal = [[u'T', u'D', u'C', u'W', u's_asleep_time'],\n",
    "            [u's_light', u's_clinical_deep', u's_rem']]\n",
    "prior = p.knowledge(addtemporal = temporal)"
   ]
  },
  {
   "cell_type": "markdown",
   "metadata": {},
   "source": [
    "Full"
   ]
  },
  {
   "cell_type": "code",
   "execution_count": 68,
   "metadata": {
    "collapsed": false
   },
   "outputs": [],
   "source": [
    "search = s.fges(df_full2_ind, priorKnowledge=prior, penaltydiscount=0.1)"
   ]
  },
  {
   "cell_type": "code",
   "execution_count": 69,
   "metadata": {
    "collapsed": false
   },
   "outputs": [
    {
     "data": {
      "image/svg+xml": [
       "<svg height=\"116pt\" viewBox=\"0.00 0.00 492.00 116.00\" width=\"492pt\" xmlns=\"http://www.w3.org/2000/svg\" xmlns:xlink=\"http://www.w3.org/1999/xlink\">\n",
       "<g class=\"graph\" id=\"graph0\" transform=\"scale(1 1) rotate(0) translate(4 112)\">\n",
       "<title>G</title>\n",
       "<polygon fill=\"white\" points=\"-4,4 -4,-112 488,-112 488,4 -4,4\" stroke=\"none\"/>\n",
       "<!-- s_light -->\n",
       "<g class=\"node\" id=\"node1\"><title>s_light</title>\n",
       "<ellipse cx=\"35\" cy=\"-18\" fill=\"none\" rx=\"35.6194\" ry=\"18\" stroke=\"black\"/>\n",
       "<text font-family=\"Times,serif\" font-size=\"14.00\" text-anchor=\"middle\" x=\"35\" y=\"-14.3\">s_light</text>\n",
       "</g>\n",
       "<!-- s_clinical_deep -->\n",
       "<g class=\"node\" id=\"node2\"><title>s_clinical_deep</title>\n",
       "<ellipse cx=\"301\" cy=\"-18\" fill=\"none\" rx=\"67.3907\" ry=\"18\" stroke=\"black\"/>\n",
       "<text font-family=\"Times,serif\" font-size=\"14.00\" text-anchor=\"middle\" x=\"301\" y=\"-14.3\">s_clinical_deep</text>\n",
       "</g>\n",
       "<!-- s_rem -->\n",
       "<g class=\"node\" id=\"node3\"><title>s_rem</title>\n",
       "<ellipse cx=\"379\" cy=\"-90\" fill=\"none\" rx=\"33.2209\" ry=\"18\" stroke=\"black\"/>\n",
       "<text font-family=\"Times,serif\" font-size=\"14.00\" text-anchor=\"middle\" x=\"379\" y=\"-86.3\">s_rem</text>\n",
       "</g>\n",
       "<!-- s_asleep_time -->\n",
       "<g class=\"node\" id=\"node4\"><title>s_asleep_time</title>\n",
       "<ellipse cx=\"116\" cy=\"-90\" fill=\"none\" rx=\"62.0922\" ry=\"18\" stroke=\"black\"/>\n",
       "<text font-family=\"Times,serif\" font-size=\"14.00\" text-anchor=\"middle\" x=\"116\" y=\"-86.3\">s_asleep_time</text>\n",
       "</g>\n",
       "<!-- s_asleep_time&#45;&gt;s_light -->\n",
       "<g class=\"edge\" id=\"edge1\"><title>s_asleep_time-&gt;s_light</title>\n",
       "<path d=\"M97.2134,-72.7646C86.2015,-63.2482 72.149,-51.104 60.1866,-40.7662\" fill=\"none\" stroke=\"black\"/>\n",
       "<polygon fill=\"black\" points=\"62.1567,-37.8429 52.302,-33.9523 57.5796,-43.1392 62.1567,-37.8429\" stroke=\"black\"/>\n",
       "</g>\n",
       "<!-- T -->\n",
       "<g class=\"node\" id=\"node5\"><title>T</title>\n",
       "<ellipse cx=\"116\" cy=\"-18\" fill=\"none\" rx=\"27\" ry=\"18\" stroke=\"black\"/>\n",
       "<text font-family=\"Times,serif\" font-size=\"14.00\" text-anchor=\"middle\" x=\"116\" y=\"-14.3\">T</text>\n",
       "</g>\n",
       "<!-- s_asleep_time&#45;&gt;T -->\n",
       "<g class=\"edge\" id=\"edge3\"><title>s_asleep_time-&gt;T</title>\n",
       "<path d=\"M116,-71.6966C116,-60.8463 116,-46.9167 116,-36.1043\" fill=\"none\" stroke=\"black\"/>\n",
       "</g>\n",
       "<!-- C -->\n",
       "<g class=\"node\" id=\"node7\"><title>C</title>\n",
       "<ellipse cx=\"188\" cy=\"-18\" fill=\"none\" rx=\"27\" ry=\"18\" stroke=\"black\"/>\n",
       "<text font-family=\"Times,serif\" font-size=\"14.00\" text-anchor=\"middle\" x=\"188\" y=\"-14.3\">C</text>\n",
       "</g>\n",
       "<!-- s_asleep_time&#45;&gt;C -->\n",
       "<g class=\"edge\" id=\"edge2\"><title>s_asleep_time-&gt;C</title>\n",
       "<path d=\"M133.063,-72.411C145.206,-60.6055 161.367,-44.8934 173.013,-33.5705\" fill=\"none\" stroke=\"black\"/>\n",
       "</g>\n",
       "<!-- D -->\n",
       "<g class=\"node\" id=\"node6\"><title>D</title>\n",
       "<ellipse cx=\"457\" cy=\"-90\" fill=\"none\" rx=\"27\" ry=\"18\" stroke=\"black\"/>\n",
       "<text font-family=\"Times,serif\" font-size=\"14.00\" text-anchor=\"middle\" x=\"457\" y=\"-86.3\">D</text>\n",
       "</g>\n",
       "<!-- W -->\n",
       "<g class=\"node\" id=\"node8\"><title>W</title>\n",
       "<ellipse cx=\"301\" cy=\"-90\" fill=\"none\" rx=\"27\" ry=\"18\" stroke=\"black\"/>\n",
       "<text font-family=\"Times,serif\" font-size=\"14.00\" text-anchor=\"middle\" x=\"301\" y=\"-86.3\">W</text>\n",
       "</g>\n",
       "<!-- W&#45;&gt;s_clinical_deep -->\n",
       "<g class=\"edge\" id=\"edge4\"><title>W-&gt;s_clinical_deep</title>\n",
       "<path d=\"M301,-71.6966C301,-63.9827 301,-54.7125 301,-46.1124\" fill=\"none\" stroke=\"black\"/>\n",
       "<polygon fill=\"black\" points=\"304.5,-46.1043 301,-36.1043 297.5,-46.1044 304.5,-46.1043\" stroke=\"black\"/>\n",
       "</g>\n",
       "</g>\n",
       "</svg>"
      ],
      "text/plain": [
       "<IPython.core.display.SVG object>"
      ]
     },
     "execution_count": 69,
     "metadata": {},
     "output_type": "execute_result"
    }
   ],
   "source": [
    "dot = pycausal.generatePyDotGraph(search.nodes,search.edges)\n",
    "svg_str = dot.create_svg(prog='dot')\n",
    "SVG(svg_str)"
   ]
  },
  {
   "cell_type": "code",
   "execution_count": 70,
   "metadata": {
    "collapsed": false
   },
   "outputs": [],
   "source": [
    "search = s.fci(df_full2_ind, priorKnowledge=prior, significance=0.05)"
   ]
  },
  {
   "cell_type": "code",
   "execution_count": 71,
   "metadata": {
    "collapsed": false
   },
   "outputs": [
    {
     "data": {
      "image/svg+xml": [
       "<svg height=\"188pt\" viewBox=\"0.00 0.00 516.00 188.00\" width=\"516pt\" xmlns=\"http://www.w3.org/2000/svg\" xmlns:xlink=\"http://www.w3.org/1999/xlink\">\n",
       "<g class=\"graph\" id=\"graph0\" transform=\"scale(1 1) rotate(0) translate(4 184)\">\n",
       "<title>G</title>\n",
       "<polygon fill=\"white\" points=\"-4,4 -4,-184 512,-184 512,4 -4,4\" stroke=\"none\"/>\n",
       "<!-- s_light -->\n",
       "<g class=\"node\" id=\"node1\"><title>s_light</title>\n",
       "<ellipse cx=\"63\" cy=\"-18\" fill=\"none\" rx=\"35.6194\" ry=\"18\" stroke=\"black\"/>\n",
       "<text font-family=\"Times,serif\" font-size=\"14.00\" text-anchor=\"middle\" x=\"63\" y=\"-14.3\">s_light</text>\n",
       "</g>\n",
       "<!-- s_clinical_deep -->\n",
       "<g class=\"node\" id=\"node2\"><title>s_clinical_deep</title>\n",
       "<ellipse cx=\"212\" cy=\"-162\" fill=\"none\" rx=\"67.3907\" ry=\"18\" stroke=\"black\"/>\n",
       "<text font-family=\"Times,serif\" font-size=\"14.00\" text-anchor=\"middle\" x=\"212\" y=\"-158.3\">s_clinical_deep</text>\n",
       "</g>\n",
       "<!-- s_rem -->\n",
       "<g class=\"node\" id=\"node3\"><title>s_rem</title>\n",
       "<ellipse cx=\"331\" cy=\"-162\" fill=\"none\" rx=\"33.2209\" ry=\"18\" stroke=\"black\"/>\n",
       "<text font-family=\"Times,serif\" font-size=\"14.00\" text-anchor=\"middle\" x=\"331\" y=\"-158.3\">s_rem</text>\n",
       "</g>\n",
       "<!-- s_asleep_time -->\n",
       "<g class=\"node\" id=\"node4\"><title>s_asleep_time</title>\n",
       "<ellipse cx=\"63\" cy=\"-90\" fill=\"none\" rx=\"62.0922\" ry=\"18\" stroke=\"black\"/>\n",
       "<text font-family=\"Times,serif\" font-size=\"14.00\" text-anchor=\"middle\" x=\"63\" y=\"-86.3\">s_asleep_time</text>\n",
       "</g>\n",
       "<!-- s_asleep_time&#45;&gt;s_light -->\n",
       "<g class=\"edge\" id=\"edge1\"><title>s_asleep_time-&gt;s_light</title>\n",
       "<path d=\"M63,-71.6966C63,-63.9827 63,-54.7125 63,-46.1124\" fill=\"none\" stroke=\"black\"/>\n",
       "<polygon fill=\"black\" points=\"66.5001,-46.1043 63,-36.1043 59.5001,-46.1044 66.5001,-46.1043\" stroke=\"black\"/>\n",
       "</g>\n",
       "<!-- T -->\n",
       "<g class=\"node\" id=\"node5\"><title>T</title>\n",
       "<ellipse cx=\"27\" cy=\"-162\" fill=\"none\" rx=\"27\" ry=\"18\" stroke=\"black\"/>\n",
       "<text font-family=\"Times,serif\" font-size=\"14.00\" text-anchor=\"middle\" x=\"27\" y=\"-158.3\">T</text>\n",
       "</g>\n",
       "<!-- T&#45;&gt;s_asleep_time -->\n",
       "<g class=\"edge\" id=\"edge2\"><title>T-&gt;s_asleep_time</title>\n",
       "<path d=\"M35.3496,-144.765C39.5428,-136.611 44.7279,-126.529 49.4709,-117.307\" fill=\"none\" stroke=\"black\"/>\n",
       "<polygon fill=\"black\" points=\"52.7324,-118.618 54.1934,-108.124 46.5074,-115.416 52.7324,-118.618\" stroke=\"black\"/>\n",
       "</g>\n",
       "<!-- D -->\n",
       "<g class=\"node\" id=\"node6\"><title>D</title>\n",
       "<ellipse cx=\"99\" cy=\"-162\" fill=\"none\" rx=\"27\" ry=\"18\" stroke=\"black\"/>\n",
       "<text font-family=\"Times,serif\" font-size=\"14.00\" text-anchor=\"middle\" x=\"99\" y=\"-158.3\">D</text>\n",
       "</g>\n",
       "<!-- D&#45;&gt;s_asleep_time -->\n",
       "<g class=\"edge\" id=\"edge3\"><title>D-&gt;s_asleep_time</title>\n",
       "<path d=\"M90.6504,-144.765C86.4572,-136.611 81.2721,-126.529 76.5291,-117.307\" fill=\"none\" stroke=\"black\"/>\n",
       "<polygon fill=\"black\" points=\"79.4926,-115.416 71.8066,-108.124 73.2676,-118.618 79.4926,-115.416\" stroke=\"black\"/>\n",
       "</g>\n",
       "<!-- C -->\n",
       "<g class=\"node\" id=\"node7\"><title>C</title>\n",
       "<ellipse cx=\"409\" cy=\"-162\" fill=\"none\" rx=\"27\" ry=\"18\" stroke=\"black\"/>\n",
       "<text font-family=\"Times,serif\" font-size=\"14.00\" text-anchor=\"middle\" x=\"409\" y=\"-158.3\">C</text>\n",
       "</g>\n",
       "<!-- W -->\n",
       "<g class=\"node\" id=\"node8\"><title>W</title>\n",
       "<ellipse cx=\"481\" cy=\"-162\" fill=\"none\" rx=\"27\" ry=\"18\" stroke=\"black\"/>\n",
       "<text font-family=\"Times,serif\" font-size=\"14.00\" text-anchor=\"middle\" x=\"481\" y=\"-158.3\">W</text>\n",
       "</g>\n",
       "</g>\n",
       "</svg>"
      ],
      "text/plain": [
       "<IPython.core.display.SVG object>"
      ]
     },
     "execution_count": 71,
     "metadata": {},
     "output_type": "execute_result"
    }
   ],
   "source": [
    "dot = pycausal.generatePyDotGraph(search.nodes,search.edges)\n",
    "svg_str = dot.create_svg(prog='dot')\n",
    "SVG(svg_str)"
   ]
  },
  {
   "cell_type": "markdown",
   "metadata": {},
   "source": [
    "Bool"
   ]
  },
  {
   "cell_type": "code",
   "execution_count": 72,
   "metadata": {
    "collapsed": false
   },
   "outputs": [],
   "source": [
    "search = s.fgesMixed(df_bool_ind, priorKnowledge=prior, penaltydiscount=0.1)"
   ]
  },
  {
   "cell_type": "code",
   "execution_count": 73,
   "metadata": {
    "collapsed": false
   },
   "outputs": [
    {
     "data": {
      "image/svg+xml": [
       "<svg height=\"188pt\" viewBox=\"0.00 0.00 432.00 188.00\" width=\"432pt\" xmlns=\"http://www.w3.org/2000/svg\" xmlns:xlink=\"http://www.w3.org/1999/xlink\">\n",
       "<g class=\"graph\" id=\"graph0\" transform=\"scale(1 1) rotate(0) translate(4 184)\">\n",
       "<title>G</title>\n",
       "<polygon fill=\"white\" points=\"-4,4 -4,-184 428,-184 428,4 -4,4\" stroke=\"none\"/>\n",
       "<!-- s_light -->\n",
       "<g class=\"node\" id=\"node1\"><title>s_light</title>\n",
       "<ellipse cx=\"62\" cy=\"-90\" fill=\"none\" rx=\"35.6194\" ry=\"18\" stroke=\"black\"/>\n",
       "<text font-family=\"Times,serif\" font-size=\"14.00\" text-anchor=\"middle\" x=\"62\" y=\"-86.3\">s_light</text>\n",
       "</g>\n",
       "<!-- s_clinical_deep -->\n",
       "<g class=\"node\" id=\"node2\"><title>s_clinical_deep</title>\n",
       "<ellipse cx=\"205\" cy=\"-18\" fill=\"none\" rx=\"67.3907\" ry=\"18\" stroke=\"black\"/>\n",
       "<text font-family=\"Times,serif\" font-size=\"14.00\" text-anchor=\"middle\" x=\"205\" y=\"-14.3\">s_clinical_deep</text>\n",
       "</g>\n",
       "<!-- s_rem -->\n",
       "<g class=\"node\" id=\"node3\"><title>s_rem</title>\n",
       "<ellipse cx=\"319\" cy=\"-162\" fill=\"none\" rx=\"33.2209\" ry=\"18\" stroke=\"black\"/>\n",
       "<text font-family=\"Times,serif\" font-size=\"14.00\" text-anchor=\"middle\" x=\"319\" y=\"-158.3\">s_rem</text>\n",
       "</g>\n",
       "<!-- s_asleep_time -->\n",
       "<g class=\"node\" id=\"node4\"><title>s_asleep_time</title>\n",
       "<ellipse cx=\"62\" cy=\"-162\" fill=\"none\" rx=\"62.0922\" ry=\"18\" stroke=\"black\"/>\n",
       "<text font-family=\"Times,serif\" font-size=\"14.00\" text-anchor=\"middle\" x=\"62\" y=\"-158.3\">s_asleep_time</text>\n",
       "</g>\n",
       "<!-- s_asleep_time&#45;&gt;s_light -->\n",
       "<g class=\"edge\" id=\"edge1\"><title>s_asleep_time-&gt;s_light</title>\n",
       "<path d=\"M62,-143.697C62,-135.983 62,-126.712 62,-118.112\" fill=\"none\" stroke=\"black\"/>\n",
       "<polygon fill=\"black\" points=\"65.5001,-118.104 62,-108.104 58.5001,-118.104 65.5001,-118.104\" stroke=\"black\"/>\n",
       "</g>\n",
       "<!-- T -->\n",
       "<g class=\"node\" id=\"node5\"><title>T</title>\n",
       "<ellipse cx=\"397\" cy=\"-162\" fill=\"none\" rx=\"27\" ry=\"18\" stroke=\"black\"/>\n",
       "<text font-family=\"Times,serif\" font-size=\"14.00\" text-anchor=\"middle\" x=\"397\" y=\"-158.3\">T</text>\n",
       "</g>\n",
       "<!-- D -->\n",
       "<g class=\"node\" id=\"node6\"><title>D</title>\n",
       "<ellipse cx=\"169\" cy=\"-162\" fill=\"none\" rx=\"27\" ry=\"18\" stroke=\"black\"/>\n",
       "<text font-family=\"Times,serif\" font-size=\"14.00\" text-anchor=\"middle\" x=\"169\" y=\"-158.3\">D</text>\n",
       "</g>\n",
       "<!-- C -->\n",
       "<g class=\"node\" id=\"node7\"><title>C</title>\n",
       "<ellipse cx=\"205\" cy=\"-90\" fill=\"none\" rx=\"27\" ry=\"18\" stroke=\"black\"/>\n",
       "<text font-family=\"Times,serif\" font-size=\"14.00\" text-anchor=\"middle\" x=\"205\" y=\"-86.3\">C</text>\n",
       "</g>\n",
       "<!-- D&#45;&gt;C -->\n",
       "<g class=\"edge\" id=\"edge4\"><title>D-&gt;C</title>\n",
       "<path d=\"M177.35,-144.765C181.712,-136.283 187.147,-125.714 192.041,-116.197\" fill=\"none\" stroke=\"black\"/>\n",
       "<polygon fill=\"black\" points=\"195.235,-117.641 196.696,-107.147 189.01,-114.439 195.235,-117.641\" stroke=\"black\"/>\n",
       "</g>\n",
       "<!-- C&#45;&gt;s_clinical_deep -->\n",
       "<g class=\"edge\" id=\"edge3\"><title>C-&gt;s_clinical_deep</title>\n",
       "<path d=\"M205,-71.6966C205,-63.9827 205,-54.7125 205,-46.1124\" fill=\"none\" stroke=\"black\"/>\n",
       "<polygon fill=\"black\" points=\"208.5,-46.1043 205,-36.1043 201.5,-46.1044 208.5,-46.1043\" stroke=\"black\"/>\n",
       "</g>\n",
       "<!-- W -->\n",
       "<g class=\"node\" id=\"node8\"><title>W</title>\n",
       "<ellipse cx=\"241\" cy=\"-162\" fill=\"none\" rx=\"27\" ry=\"18\" stroke=\"black\"/>\n",
       "<text font-family=\"Times,serif\" font-size=\"14.00\" text-anchor=\"middle\" x=\"241\" y=\"-158.3\">W</text>\n",
       "</g>\n",
       "<!-- W&#45;&gt;C -->\n",
       "<g class=\"edge\" id=\"edge2\"><title>W-&gt;C</title>\n",
       "<path d=\"M232.65,-144.765C228.288,-136.283 222.853,-125.714 217.959,-116.197\" fill=\"none\" stroke=\"black\"/>\n",
       "<polygon fill=\"black\" points=\"220.99,-114.439 213.304,-107.147 214.765,-117.641 220.99,-114.439\" stroke=\"black\"/>\n",
       "</g>\n",
       "</g>\n",
       "</svg>"
      ],
      "text/plain": [
       "<IPython.core.display.SVG object>"
      ]
     },
     "execution_count": 73,
     "metadata": {},
     "output_type": "execute_result"
    }
   ],
   "source": [
    "dot = pycausal.generatePyDotGraph(search.nodes,search.edges)\n",
    "svg_str = dot.create_svg(prog='dot')\n",
    "SVG(svg_str)"
   ]
  },
  {
   "cell_type": "code",
   "execution_count": 74,
   "metadata": {
    "collapsed": false
   },
   "outputs": [],
   "source": [
    "search = s.gfciMixed(df_bool_ind, priorKnowledge=prior, penaltydiscount=0.1, significance=0.05)"
   ]
  },
  {
   "cell_type": "code",
   "execution_count": 75,
   "metadata": {
    "collapsed": false
   },
   "outputs": [
    {
     "data": {
      "image/svg+xml": [
       "<svg height=\"188pt\" viewBox=\"0.00 0.00 432.00 188.00\" width=\"432pt\" xmlns=\"http://www.w3.org/2000/svg\" xmlns:xlink=\"http://www.w3.org/1999/xlink\">\n",
       "<g class=\"graph\" id=\"graph0\" transform=\"scale(1 1) rotate(0) translate(4 184)\">\n",
       "<title>G</title>\n",
       "<polygon fill=\"white\" points=\"-4,4 -4,-184 428,-184 428,4 -4,4\" stroke=\"none\"/>\n",
       "<!-- s_light -->\n",
       "<g class=\"node\" id=\"node1\"><title>s_light</title>\n",
       "<ellipse cx=\"62\" cy=\"-90\" fill=\"none\" rx=\"35.6194\" ry=\"18\" stroke=\"black\"/>\n",
       "<text font-family=\"Times,serif\" font-size=\"14.00\" text-anchor=\"middle\" x=\"62\" y=\"-86.3\">s_light</text>\n",
       "</g>\n",
       "<!-- s_clinical_deep -->\n",
       "<g class=\"node\" id=\"node2\"><title>s_clinical_deep</title>\n",
       "<ellipse cx=\"205\" cy=\"-18\" fill=\"none\" rx=\"67.3907\" ry=\"18\" stroke=\"black\"/>\n",
       "<text font-family=\"Times,serif\" font-size=\"14.00\" text-anchor=\"middle\" x=\"205\" y=\"-14.3\">s_clinical_deep</text>\n",
       "</g>\n",
       "<!-- s_rem -->\n",
       "<g class=\"node\" id=\"node3\"><title>s_rem</title>\n",
       "<ellipse cx=\"319\" cy=\"-162\" fill=\"none\" rx=\"33.2209\" ry=\"18\" stroke=\"black\"/>\n",
       "<text font-family=\"Times,serif\" font-size=\"14.00\" text-anchor=\"middle\" x=\"319\" y=\"-158.3\">s_rem</text>\n",
       "</g>\n",
       "<!-- s_asleep_time -->\n",
       "<g class=\"node\" id=\"node4\"><title>s_asleep_time</title>\n",
       "<ellipse cx=\"62\" cy=\"-162\" fill=\"none\" rx=\"62.0922\" ry=\"18\" stroke=\"black\"/>\n",
       "<text font-family=\"Times,serif\" font-size=\"14.00\" text-anchor=\"middle\" x=\"62\" y=\"-158.3\">s_asleep_time</text>\n",
       "</g>\n",
       "<!-- s_asleep_time&#45;&gt;s_light -->\n",
       "<g class=\"edge\" id=\"edge1\"><title>s_asleep_time-&gt;s_light</title>\n",
       "<path d=\"M62,-143.697C62,-135.983 62,-126.712 62,-118.112\" fill=\"none\" stroke=\"black\"/>\n",
       "<polygon fill=\"black\" points=\"65.5001,-118.104 62,-108.104 58.5001,-118.104 65.5001,-118.104\" stroke=\"black\"/>\n",
       "</g>\n",
       "<!-- T -->\n",
       "<g class=\"node\" id=\"node5\"><title>T</title>\n",
       "<ellipse cx=\"397\" cy=\"-162\" fill=\"none\" rx=\"27\" ry=\"18\" stroke=\"black\"/>\n",
       "<text font-family=\"Times,serif\" font-size=\"14.00\" text-anchor=\"middle\" x=\"397\" y=\"-158.3\">T</text>\n",
       "</g>\n",
       "<!-- D -->\n",
       "<g class=\"node\" id=\"node6\"><title>D</title>\n",
       "<ellipse cx=\"169\" cy=\"-162\" fill=\"none\" rx=\"27\" ry=\"18\" stroke=\"black\"/>\n",
       "<text font-family=\"Times,serif\" font-size=\"14.00\" text-anchor=\"middle\" x=\"169\" y=\"-158.3\">D</text>\n",
       "</g>\n",
       "<!-- C -->\n",
       "<g class=\"node\" id=\"node7\"><title>C</title>\n",
       "<ellipse cx=\"205\" cy=\"-90\" fill=\"none\" rx=\"27\" ry=\"18\" stroke=\"black\"/>\n",
       "<text font-family=\"Times,serif\" font-size=\"14.00\" text-anchor=\"middle\" x=\"205\" y=\"-86.3\">C</text>\n",
       "</g>\n",
       "<!-- D&#45;&gt;C -->\n",
       "<g class=\"edge\" id=\"edge2\"><title>D-&gt;C</title>\n",
       "<path d=\"M177.35,-144.765C181.712,-136.283 187.147,-125.714 192.041,-116.197\" fill=\"none\" stroke=\"black\"/>\n",
       "<polygon fill=\"black\" points=\"195.235,-117.641 196.696,-107.147 189.01,-114.439 195.235,-117.641\" stroke=\"black\"/>\n",
       "</g>\n",
       "<!-- C&#45;&gt;s_clinical_deep -->\n",
       "<g class=\"edge\" id=\"edge3\"><title>C-&gt;s_clinical_deep</title>\n",
       "<path d=\"M205,-71.6966C205,-63.9827 205,-54.7125 205,-46.1124\" fill=\"none\" stroke=\"black\"/>\n",
       "<polygon fill=\"black\" points=\"208.5,-46.1043 205,-36.1043 201.5,-46.1044 208.5,-46.1043\" stroke=\"black\"/>\n",
       "</g>\n",
       "<!-- W -->\n",
       "<g class=\"node\" id=\"node8\"><title>W</title>\n",
       "<ellipse cx=\"241\" cy=\"-162\" fill=\"none\" rx=\"27\" ry=\"18\" stroke=\"black\"/>\n",
       "<text font-family=\"Times,serif\" font-size=\"14.00\" text-anchor=\"middle\" x=\"241\" y=\"-158.3\">W</text>\n",
       "</g>\n",
       "<!-- W&#45;&gt;C -->\n",
       "<g class=\"edge\" id=\"edge4\"><title>W-&gt;C</title>\n",
       "<path d=\"M232.65,-144.765C228.288,-136.283 222.853,-125.714 217.959,-116.197\" fill=\"none\" stroke=\"black\"/>\n",
       "<polygon fill=\"black\" points=\"220.99,-114.439 213.304,-107.147 214.765,-117.641 220.99,-114.439\" stroke=\"black\"/>\n",
       "</g>\n",
       "</g>\n",
       "</svg>"
      ],
      "text/plain": [
       "<IPython.core.display.SVG object>"
      ]
     },
     "execution_count": 75,
     "metadata": {},
     "output_type": "execute_result"
    }
   ],
   "source": [
    "dot = pycausal.generatePyDotGraph(search.nodes,search.edges)\n",
    "svg_str = dot.create_svg(prog='dot')\n",
    "SVG(svg_str)"
   ]
  },
  {
   "cell_type": "code",
   "execution_count": 76,
   "metadata": {
    "collapsed": true
   },
   "outputs": [],
   "source": [
    "test = sm.OLS(full_Y['s_clinical_deep'], sm.add_constant(full_X['C'])).fit()"
   ]
  },
  {
   "cell_type": "code",
   "execution_count": 77,
   "metadata": {
    "collapsed": false
   },
   "outputs": [
    {
     "data": {
      "text/html": [
       "<table class=\"simpletable\">\n",
       "<caption>OLS Regression Results</caption>\n",
       "<tr>\n",
       "  <th>Dep. Variable:</th>     <td>s_clinical_deep</td> <th>  R-squared:         </th> <td>   0.074</td>\n",
       "</tr>\n",
       "<tr>\n",
       "  <th>Model:</th>                   <td>OLS</td>       <th>  Adj. R-squared:    </th> <td>   0.040</td>\n",
       "</tr>\n",
       "<tr>\n",
       "  <th>Method:</th>             <td>Least Squares</td>  <th>  F-statistic:       </th> <td>   2.168</td>\n",
       "</tr>\n",
       "<tr>\n",
       "  <th>Date:</th>             <td>Tue, 10 Oct 2017</td> <th>  Prob (F-statistic):</th>  <td> 0.152</td> \n",
       "</tr>\n",
       "<tr>\n",
       "  <th>Time:</th>                 <td>11:09:11</td>     <th>  Log-Likelihood:    </th> <td> -142.00</td>\n",
       "</tr>\n",
       "<tr>\n",
       "  <th>No. Observations:</th>      <td>    29</td>      <th>  AIC:               </th> <td>   288.0</td>\n",
       "</tr>\n",
       "<tr>\n",
       "  <th>Df Residuals:</th>          <td>    27</td>      <th>  BIC:               </th> <td>   290.7</td>\n",
       "</tr>\n",
       "<tr>\n",
       "  <th>Df Model:</th>              <td>     1</td>      <th>                     </th>     <td> </td>   \n",
       "</tr>\n",
       "<tr>\n",
       "  <th>Covariance Type:</th>      <td>nonrobust</td>    <th>                     </th>     <td> </td>   \n",
       "</tr>\n",
       "</table>\n",
       "<table class=\"simpletable\">\n",
       "<tr>\n",
       "    <td></td>       <th>coef</th>     <th>std err</th>      <th>t</th>      <th>P>|t|</th>  <th>[0.025</th>    <th>0.975]</th>  \n",
       "</tr>\n",
       "<tr>\n",
       "  <th>const</th> <td>   69.0210</td> <td>    7.709</td> <td>    8.953</td> <td> 0.000</td> <td>   53.203</td> <td>   84.839</td>\n",
       "</tr>\n",
       "<tr>\n",
       "  <th>C</th>     <td>   13.8435</td> <td>    9.402</td> <td>    1.472</td> <td> 0.152</td> <td>   -5.447</td> <td>   33.134</td>\n",
       "</tr>\n",
       "</table>\n",
       "<table class=\"simpletable\">\n",
       "<tr>\n",
       "  <th>Omnibus:</th>       <td> 3.104</td> <th>  Durbin-Watson:     </th> <td>   1.837</td>\n",
       "</tr>\n",
       "<tr>\n",
       "  <th>Prob(Omnibus):</th> <td> 0.212</td> <th>  Jarque-Bera (JB):  </th> <td>   2.547</td>\n",
       "</tr>\n",
       "<tr>\n",
       "  <th>Skew:</th>          <td> 0.718</td> <th>  Prob(JB):          </th> <td>   0.280</td>\n",
       "</tr>\n",
       "<tr>\n",
       "  <th>Kurtosis:</th>      <td> 2.787</td> <th>  Cond. No.          </th> <td>    2.03</td>\n",
       "</tr>\n",
       "</table>"
      ],
      "text/plain": [
       "<class 'statsmodels.iolib.summary.Summary'>\n",
       "\"\"\"\n",
       "                            OLS Regression Results                            \n",
       "==============================================================================\n",
       "Dep. Variable:        s_clinical_deep   R-squared:                       0.074\n",
       "Model:                            OLS   Adj. R-squared:                  0.040\n",
       "Method:                 Least Squares   F-statistic:                     2.168\n",
       "Date:                Tue, 10 Oct 2017   Prob (F-statistic):              0.152\n",
       "Time:                        11:09:11   Log-Likelihood:                -142.00\n",
       "No. Observations:                  29   AIC:                             288.0\n",
       "Df Residuals:                      27   BIC:                             290.7\n",
       "Df Model:                           1                                         \n",
       "Covariance Type:            nonrobust                                         \n",
       "==============================================================================\n",
       "                 coef    std err          t      P>|t|      [0.025      0.975]\n",
       "------------------------------------------------------------------------------\n",
       "const         69.0210      7.709      8.953      0.000      53.203      84.839\n",
       "C             13.8435      9.402      1.472      0.152      -5.447      33.134\n",
       "==============================================================================\n",
       "Omnibus:                        3.104   Durbin-Watson:                   1.837\n",
       "Prob(Omnibus):                  0.212   Jarque-Bera (JB):                2.547\n",
       "Skew:                           0.718   Prob(JB):                        0.280\n",
       "Kurtosis:                       2.787   Cond. No.                         2.03\n",
       "==============================================================================\n",
       "\n",
       "Warnings:\n",
       "[1] Standard Errors assume that the covariance matrix of the errors is correctly specified.\n",
       "\"\"\""
      ]
     },
     "execution_count": 77,
     "metadata": {},
     "output_type": "execute_result"
    }
   ],
   "source": [
    "test.summary()"
   ]
  },
  {
   "cell_type": "code",
   "execution_count": 78,
   "metadata": {
    "collapsed": false
   },
   "outputs": [
    {
     "data": {
      "image/png": "[encoded data removed]",
      "text/plain": [
       "<matplotlib.figure.Figure at 0x1341108d0>"
      ]
     },
     "metadata": {},
     "output_type": "display_data"
    }
   ],
   "source": [
    "fig, axes = plt.subplots(4, figsize=(6, 12))\n",
    "\n",
    "sm.graphics.tsa.plot_acf(full_Y['s_light'],\n",
    "                         lags=full_Y['s_light'].shape[0]//4,\n",
    "                         ax=axes[0],\n",
    "                        title='Autocorrelation (light)');\n",
    "\n",
    "sm.graphics.tsa.plot_acf(full_Y['s_clinical_deep'],\n",
    "                         lags=full_Y['s_clinical_deep'].shape[0]//4,\n",
    "                         ax=axes[1],\n",
    "                        title='Autocorrelation (deep)');\n",
    "\n",
    "sm.graphics.tsa.plot_acf(full_Y['s_rem'],\n",
    "                         lags=full_Y['s_rem'].shape[0]//4,\n",
    "                         ax=axes[2],\n",
    "                        title='Autocorrelation (rem)');\n",
    "\n",
    "sm.graphics.tsa.plot_acf(full_X['s_duration'],\n",
    "                         lags=full_X['s_duration'].shape[0]//4,\n",
    "                         ax=axes[3],\n",
    "                        title='Autocorrelation (TST)');\n"
   ]
  },
  {
   "cell_type": "code",
   "execution_count": null,
   "metadata": {
    "collapsed": true
   },
   "outputs": [],
   "source": []
  }
 ],
 "metadata": {
  "anaconda-cloud": {},
  "kernelspec": {
   "display_name": "Python [Root]",
   "language": "python",
   "name": "Python [Root]"
  },
  "language_info": {
   "codemirror_mode": {
    "name": "ipython",
    "version": 2
   },
   "file_extension": ".py",
   "mimetype": "text/x-python",
   "name": "python",
   "nbconvert_exporter": "python",
   "pygments_lexer": "ipython2",
   "version": "2.7.12"
  }
 },
 "nbformat": 4,
 "nbformat_minor": 0
}
